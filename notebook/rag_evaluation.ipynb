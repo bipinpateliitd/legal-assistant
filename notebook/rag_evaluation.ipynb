{
 "cells": [
  {
   "cell_type": "code",
   "execution_count": 1,
   "id": "b8ce6650",
   "metadata": {},
   "outputs": [
    {
     "data": {
      "text/html": [
       "<div>\n",
       "<style scoped>\n",
       "    .dataframe tbody tr th:only-of-type {\n",
       "        vertical-align: middle;\n",
       "    }\n",
       "\n",
       "    .dataframe tbody tr th {\n",
       "        vertical-align: top;\n",
       "    }\n",
       "\n",
       "    .dataframe thead th {\n",
       "        text-align: right;\n",
       "    }\n",
       "</style>\n",
       "<table border=\"1\" class=\"dataframe\">\n",
       "  <thead>\n",
       "    <tr style=\"text-align: right;\">\n",
       "      <th></th>\n",
       "      <th>user_input</th>\n",
       "      <th>reference_contexts</th>\n",
       "      <th>reference</th>\n",
       "      <th>synthesizer_name</th>\n",
       "    </tr>\n",
       "  </thead>\n",
       "  <tbody>\n",
       "    <tr>\n",
       "      <th>0</th>\n",
       "      <td>What is BNSS Classification in relation to fal...</td>\n",
       "      <td>['BNS Section 233 BNSS Classification The same...</td>\n",
       "      <td>BNSS Classification refers to the classificati...</td>\n",
       "      <td>single_hop_specifc_query_synthesizer</td>\n",
       "    </tr>\n",
       "    <tr>\n",
       "      <th>1</th>\n",
       "      <td>What is the law regarding theft on property in...</td>\n",
       "      <td>['BNS Section 307 Illustrations: A commits the...</td>\n",
       "      <td>BNS Section 307 Illustrations states that if A...</td>\n",
       "      <td>single_hop_specifc_query_synthesizer</td>\n",
       "    </tr>\n",
       "    <tr>\n",
       "      <th>2</th>\n",
       "      <td>What BNS means in law?</td>\n",
       "      <td>['BNS Section 168 BNSS Classification Imprison...</td>\n",
       "      <td>BNS Section 168 BNSS Classification Imprisonme...</td>\n",
       "      <td>single_hop_specifc_query_synthesizer</td>\n",
       "    </tr>\n",
       "    <tr>\n",
       "      <th>3</th>\n",
       "      <td>What is BNSS Classification in BNS Section 146?</td>\n",
       "      <td>['BNS Section 146 BNSS Classification Imprison...</td>\n",
       "      <td>BNS Section 146 BNSS Classification Imprisonme...</td>\n",
       "      <td>single_hop_specifc_query_synthesizer</td>\n",
       "    </tr>\n",
       "    <tr>\n",
       "      <th>4</th>\n",
       "      <td>What is the amount of fine specified in the BN...</td>\n",
       "      <td>['BNS Section 276 BNSS Classification Imprison...</td>\n",
       "      <td>The fine specified is 5,000 rupees.</td>\n",
       "      <td>single_hop_specifc_query_synthesizer</td>\n",
       "    </tr>\n",
       "  </tbody>\n",
       "</table>\n",
       "</div>"
      ],
      "text/plain": [
       "                                          user_input  \\\n",
       "0  What is BNSS Classification in relation to fal...   \n",
       "1  What is the law regarding theft on property in...   \n",
       "2                             What BNS means in law?   \n",
       "3    What is BNSS Classification in BNS Section 146?   \n",
       "4  What is the amount of fine specified in the BN...   \n",
       "\n",
       "                                  reference_contexts  \\\n",
       "0  ['BNS Section 233 BNSS Classification The same...   \n",
       "1  ['BNS Section 307 Illustrations: A commits the...   \n",
       "2  ['BNS Section 168 BNSS Classification Imprison...   \n",
       "3  ['BNS Section 146 BNSS Classification Imprison...   \n",
       "4  ['BNS Section 276 BNSS Classification Imprison...   \n",
       "\n",
       "                                           reference  \\\n",
       "0  BNSS Classification refers to the classificati...   \n",
       "1  BNS Section 307 Illustrations states that if A...   \n",
       "2  BNS Section 168 BNSS Classification Imprisonme...   \n",
       "3  BNS Section 146 BNSS Classification Imprisonme...   \n",
       "4                The fine specified is 5,000 rupees.   \n",
       "\n",
       "                       synthesizer_name  \n",
       "0  single_hop_specifc_query_synthesizer  \n",
       "1  single_hop_specifc_query_synthesizer  \n",
       "2  single_hop_specifc_query_synthesizer  \n",
       "3  single_hop_specifc_query_synthesizer  \n",
       "4  single_hop_specifc_query_synthesizer  "
      ]
     },
     "execution_count": 1,
     "metadata": {},
     "output_type": "execute_result"
    }
   ],
   "source": [
    "import pandas as pd\n",
    "df = pd.read_csv('/home/bipin/Documents/projects/legal_assistant/data/bns_testset.csv')\n",
    "df.head()"
   ]
  },
  {
   "cell_type": "code",
   "execution_count": 21,
   "id": "659966ce",
   "metadata": {},
   "outputs": [
    {
     "data": {
      "text/plain": [
       "30"
      ]
     },
     "execution_count": 21,
     "metadata": {},
     "output_type": "execute_result"
    }
   ],
   "source": [
    "len(df)"
   ]
  },
  {
   "cell_type": "code",
   "execution_count": 2,
   "id": "78d7a056",
   "metadata": {},
   "outputs": [
    {
     "data": {
      "application/vnd.jupyter.widget-view+json": {
       "model_id": "f6c3c7062fd74b2cba957e158d52b0ca",
       "version_major": 2,
       "version_minor": 0
      },
      "text/plain": [
       "Fetching 30 files:   0%|          | 0/30 [00:00<?, ?it/s]"
      ]
     },
     "metadata": {},
     "output_type": "display_data"
    },
    {
     "data": {
      "application/vnd.jupyter.widget-view+json": {
       "model_id": "9ca34df9867446889693da81298044cb",
       "version_major": 2,
       "version_minor": 0
      },
      "text/plain": [
       "arabic.txt:   0%|          | 0.00/6.35k [00:00<?, ?B/s]"
      ]
     },
     "metadata": {},
     "output_type": "display_data"
    },
    {
     "data": {
      "application/vnd.jupyter.widget-view+json": {
       "model_id": "762e99ddc1ee4ba69303eb9f47f8109d",
       "version_major": 2,
       "version_minor": 0
      },
      "text/plain": [
       "danish.txt:   0%|          | 0.00/424 [00:00<?, ?B/s]"
      ]
     },
     "metadata": {},
     "output_type": "display_data"
    },
    {
     "data": {
      "application/vnd.jupyter.widget-view+json": {
       "model_id": "d0b455013c4842a4b99de53106f61d37",
       "version_major": 2,
       "version_minor": 0
      },
      "text/plain": [
       "catalan.txt:   0%|          | 0.00/1.56k [00:00<?, ?B/s]"
      ]
     },
     "metadata": {},
     "output_type": "display_data"
    },
    {
     "data": {
      "application/vnd.jupyter.widget-view+json": {
       "model_id": "275d61cbf19d4f0ba57622c1c19cebfe",
       "version_major": 2,
       "version_minor": 0
      },
      "text/plain": [
       "basque.txt:   0%|          | 0.00/2.20k [00:00<?, ?B/s]"
      ]
     },
     "metadata": {},
     "output_type": "display_data"
    },
    {
     "data": {
      "application/vnd.jupyter.widget-view+json": {
       "model_id": "38601f39abf4454e804b439655609435",
       "version_major": 2,
       "version_minor": 0
      },
      "text/plain": [
       "config.json:   0%|          | 0.00/2.00 [00:00<?, ?B/s]"
      ]
     },
     "metadata": {},
     "output_type": "display_data"
    },
    {
     "data": {
      "application/vnd.jupyter.widget-view+json": {
       "model_id": "582faa5acfb84f0f9cedac6683d3de44",
       "version_major": 2,
       "version_minor": 0
      },
      "text/plain": [
       "bengali.txt:   0%|          | 0.00/5.44k [00:00<?, ?B/s]"
      ]
     },
     "metadata": {},
     "output_type": "display_data"
    },
    {
     "data": {
      "application/vnd.jupyter.widget-view+json": {
       "model_id": "41fc045fd7bd4e118c0cc33ae86ed712",
       "version_major": 2,
       "version_minor": 0
      },
      "text/plain": [
       "chinese.txt:   0%|          | 0.00/5.56k [00:00<?, ?B/s]"
      ]
     },
     "metadata": {},
     "output_type": "display_data"
    },
    {
     "data": {
      "application/vnd.jupyter.widget-view+json": {
       "model_id": "8cf0a10a90394692a058a857c2321a62",
       "version_major": 2,
       "version_minor": 0
      },
      "text/plain": [
       "azerbaijani.txt:   0%|          | 0.00/967 [00:00<?, ?B/s]"
      ]
     },
     "metadata": {},
     "output_type": "display_data"
    },
    {
     "data": {
      "application/vnd.jupyter.widget-view+json": {
       "model_id": "5699eb1fba874dc9b2498d7b54ea2c0a",
       "version_major": 2,
       "version_minor": 0
      },
      "text/plain": [
       "french.txt:   0%|          | 0.00/813 [00:00<?, ?B/s]"
      ]
     },
     "metadata": {},
     "output_type": "display_data"
    },
    {
     "data": {
      "application/vnd.jupyter.widget-view+json": {
       "model_id": "bad5455b2ea64e87b8bed2b7ee8b4166",
       "version_major": 2,
       "version_minor": 0
      },
      "text/plain": [
       "german.txt:   0%|          | 0.00/1.36k [00:00<?, ?B/s]"
      ]
     },
     "metadata": {},
     "output_type": "display_data"
    },
    {
     "data": {
      "application/vnd.jupyter.widget-view+json": {
       "model_id": "002f822509084681b77398cfd5f3f2b7",
       "version_major": 2,
       "version_minor": 0
      },
      "text/plain": [
       "hinglish.txt:   0%|          | 0.00/5.96k [00:00<?, ?B/s]"
      ]
     },
     "metadata": {},
     "output_type": "display_data"
    },
    {
     "data": {
      "application/vnd.jupyter.widget-view+json": {
       "model_id": "cc2e006910534c2ca4b212d9ee937e88",
       "version_major": 2,
       "version_minor": 0
      },
      "text/plain": [
       "hebrew.txt:   0%|          | 0.00/1.84k [00:00<?, ?B/s]"
      ]
     },
     "metadata": {},
     "output_type": "display_data"
    },
    {
     "data": {
      "application/vnd.jupyter.widget-view+json": {
       "model_id": "56a45632d92b4509b725d71d23ec6c0d",
       "version_major": 2,
       "version_minor": 0
      },
      "text/plain": [
       "dutch.txt:   0%|          | 0.00/453 [00:00<?, ?B/s]"
      ]
     },
     "metadata": {},
     "output_type": "display_data"
    },
    {
     "data": {
      "application/vnd.jupyter.widget-view+json": {
       "model_id": "25cb678949634040820281d69178b24e",
       "version_major": 2,
       "version_minor": 0
      },
      "text/plain": [
       "greek.txt:   0%|          | 0.00/2.17k [00:00<?, ?B/s]"
      ]
     },
     "metadata": {},
     "output_type": "display_data"
    },
    {
     "data": {
      "application/vnd.jupyter.widget-view+json": {
       "model_id": "87a4c84e750941f2971646b940c77b22",
       "version_major": 2,
       "version_minor": 0
      },
      "text/plain": [
       "finnish.txt:   0%|          | 0.00/1.58k [00:00<?, ?B/s]"
      ]
     },
     "metadata": {},
     "output_type": "display_data"
    },
    {
     "data": {
      "application/vnd.jupyter.widget-view+json": {
       "model_id": "a726b18bd12f45ea99cf907df9e04a6c",
       "version_major": 2,
       "version_minor": 0
      },
      "text/plain": [
       "norwegian.txt:   0%|          | 0.00/851 [00:00<?, ?B/s]"
      ]
     },
     "metadata": {},
     "output_type": "display_data"
    },
    {
     "data": {
      "application/vnd.jupyter.widget-view+json": {
       "model_id": "5d92250e6bd14ce99e40ca07e98d594b",
       "version_major": 2,
       "version_minor": 0
      },
      "text/plain": [
       "italian.txt:   0%|          | 0.00/1.65k [00:00<?, ?B/s]"
      ]
     },
     "metadata": {},
     "output_type": "display_data"
    },
    {
     "data": {
      "application/vnd.jupyter.widget-view+json": {
       "model_id": "60c59033b0bb40708e9d3e42216a2513",
       "version_major": 2,
       "version_minor": 0
      },
      "text/plain": [
       "portuguese.txt:   0%|          | 0.00/1.29k [00:00<?, ?B/s]"
      ]
     },
     "metadata": {},
     "output_type": "display_data"
    },
    {
     "data": {
      "application/vnd.jupyter.widget-view+json": {
       "model_id": "7f6c8a4ef01b4e82a0fa9860111aac85",
       "version_major": 2,
       "version_minor": 0
      },
      "text/plain": [
       "english.txt:   0%|          | 0.00/936 [00:00<?, ?B/s]"
      ]
     },
     "metadata": {},
     "output_type": "display_data"
    },
    {
     "data": {
      "application/vnd.jupyter.widget-view+json": {
       "model_id": "a79df4b952db428baf1c7d90a03ba6aa",
       "version_major": 2,
       "version_minor": 0
      },
      "text/plain": [
       "hungarian.txt:   0%|          | 0.00/1.23k [00:00<?, ?B/s]"
      ]
     },
     "metadata": {},
     "output_type": "display_data"
    },
    {
     "data": {
      "application/vnd.jupyter.widget-view+json": {
       "model_id": "bf8c6c88634540bd807a3043e541e20f",
       "version_major": 2,
       "version_minor": 0
      },
      "text/plain": [
       "nepali.txt:   0%|          | 0.00/3.61k [00:00<?, ?B/s]"
      ]
     },
     "metadata": {},
     "output_type": "display_data"
    },
    {
     "data": {
      "application/vnd.jupyter.widget-view+json": {
       "model_id": "ca96a4fc8d3744bf831ee1744b559741",
       "version_major": 2,
       "version_minor": 0
      },
      "text/plain": [
       "kazakh.txt:   0%|          | 0.00/3.88k [00:00<?, ?B/s]"
      ]
     },
     "metadata": {},
     "output_type": "display_data"
    },
    {
     "data": {
      "application/vnd.jupyter.widget-view+json": {
       "model_id": "2ff42f7ed4e5499fb0bd61da1a42e431",
       "version_major": 2,
       "version_minor": 0
      },
      "text/plain": [
       "indonesian.txt:   0%|          | 0.00/6.45k [00:00<?, ?B/s]"
      ]
     },
     "metadata": {},
     "output_type": "display_data"
    },
    {
     "data": {
      "application/vnd.jupyter.widget-view+json": {
       "model_id": "c53c0114517a4e21a79c8e56898be3fe",
       "version_major": 2,
       "version_minor": 0
      },
      "text/plain": [
       "russian.txt:   0%|          | 0.00/1.24k [00:00<?, ?B/s]"
      ]
     },
     "metadata": {},
     "output_type": "display_data"
    },
    {
     "data": {
      "application/vnd.jupyter.widget-view+json": {
       "model_id": "e0d34244bbd34a0db8b295777f706a80",
       "version_major": 2,
       "version_minor": 0
      },
      "text/plain": [
       "turkish.txt:   0%|          | 0.00/260 [00:00<?, ?B/s]"
      ]
     },
     "metadata": {},
     "output_type": "display_data"
    },
    {
     "data": {
      "application/vnd.jupyter.widget-view+json": {
       "model_id": "8175f3228ccd4bd7a910802b26eba7a3",
       "version_major": 2,
       "version_minor": 0
      },
      "text/plain": [
       "swedish.txt:   0%|          | 0.00/559 [00:00<?, ?B/s]"
      ]
     },
     "metadata": {},
     "output_type": "display_data"
    },
    {
     "data": {
      "application/vnd.jupyter.widget-view+json": {
       "model_id": "3e4a04bbd24d41f297fec837b84145e1",
       "version_major": 2,
       "version_minor": 0
      },
      "text/plain": [
       "slovene.txt:   0%|          | 0.00/16.0k [00:00<?, ?B/s]"
      ]
     },
     "metadata": {},
     "output_type": "display_data"
    },
    {
     "data": {
      "application/vnd.jupyter.widget-view+json": {
       "model_id": "62a565ac23e74c569eba3574972a9685",
       "version_major": 2,
       "version_minor": 0
      },
      "text/plain": [
       "romanian.txt:   0%|          | 0.00/1.91k [00:00<?, ?B/s]"
      ]
     },
     "metadata": {},
     "output_type": "display_data"
    },
    {
     "data": {
      "application/vnd.jupyter.widget-view+json": {
       "model_id": "2129f0060ec14a59979406bc8cb18f80",
       "version_major": 2,
       "version_minor": 0
      },
      "text/plain": [
       "tajik.txt:   0%|          | 0.00/1.82k [00:00<?, ?B/s]"
      ]
     },
     "metadata": {},
     "output_type": "display_data"
    },
    {
     "data": {
      "application/vnd.jupyter.widget-view+json": {
       "model_id": "fd1ea319137849f19634ec4b0639a768",
       "version_major": 2,
       "version_minor": 0
      },
      "text/plain": [
       "spanish.txt:   0%|          | 0.00/2.18k [00:00<?, ?B/s]"
      ]
     },
     "metadata": {},
     "output_type": "display_data"
    }
   ],
   "source": [
    "import os\n",
    "import re\n",
    "import pandas as pd\n",
    "\n",
    "from dotenv import load_dotenv\n",
    "from qdrant_client import QdrantClient\n",
    "from qdrant_client.http.models import Filter, FieldCondition, MatchAny\n",
    "\n",
    "from langchain_openai import OpenAIEmbeddings, ChatOpenAI\n",
    "from langchain_qdrant import FastEmbedSparse, QdrantVectorStore, RetrievalMode\n",
    "from langchain_core.prompts import ChatPromptTemplate\n",
    "\n",
    "from ragas import EvaluationDataset\n",
    "\n",
    "# 1. Load env and testset\n",
    "load_dotenv()\n",
    "df = pd.read_csv('/home/bipin/Documents/projects/legal_assistant/data/bns_testset.csv')\n",
    "\n",
    "# 2. Init Qdrant, embeddings, LLM, vectorstore\n",
    "client = QdrantClient(\n",
    "    url=os.getenv(\"QDRANT_CLOUD_URL\"),\n",
    "    api_key=os.getenv(\"QDRANT_API_KEY\"),\n",
    "    prefer_grpc=True\n",
    ")\n",
    "\n",
    "dense_embedding  = OpenAIEmbeddings(model=\"text-embedding-3-large\")\n",
    "sparse_embedding = FastEmbedSparse(model_name=\"Qdrant/bm25\")\n",
    "llm              = ChatOpenAI(model=\"gpt-4.1-nano\", temperature=0)\n",
    "\n",
    "vectorstore = QdrantVectorStore(\n",
    "    client=client,\n",
    "    collection_name=\"bns_sections_hybrid\",\n",
    "    embedding=dense_embedding,\n",
    "    sparse_embedding=sparse_embedding,\n",
    "    retrieval_mode=RetrievalMode.HYBRID,\n",
    "    vector_name=\"dense\",\n",
    "    sparse_vector_name=\"sparse\",\n",
    ")\n"
   ]
  },
  {
   "cell_type": "code",
   "execution_count": 3,
   "id": "71c6cfbe",
   "metadata": {},
   "outputs": [],
   "source": [
    "def extract_section_numbers(query: str):\n",
    "    return [int(n) for n in re.findall(r\"\\b(\\d+)\\b\", query)]\n",
    "\n",
    "# reuse your same prompt template\n",
    "TEMPLATE = \"\"\"\n",
    "You are a helpful legal assistant. Use the following context to answer the question.\n",
    "If the answer cannot be found in the context, say so.\n",
    "\n",
    "Context:\n",
    "{context}\n",
    "\n",
    "Question:\n",
    "{question}\n",
    "\n",
    "Answer:\n",
    "\"\"\"\n",
    "prompt_template = ChatPromptTemplate.from_template(TEMPLATE)\n",
    "\n",
    "def retrieve(query: str):\n",
    "    secs = extract_section_numbers(query)\n",
    "    if secs:\n",
    "        flt = Filter(\n",
    "            must=[ FieldCondition(key=\"metadata.sections\", match=MatchAny(any=secs)) ]\n",
    "        )\n",
    "        docs = vectorstore.similarity_search(query=\"\", filter=flt)\n",
    "    else:\n",
    "        docs = vectorstore.similarity_search(query, k=5)\n",
    "    return docs\n",
    "\n",
    "def docs_to_text(docs):\n",
    "    # either return a big string or a list of page_contents\n",
    "    return [d.page_content for d in docs]"
   ]
  },
  {
   "cell_type": "code",
   "execution_count": 4,
   "id": "0cce481f",
   "metadata": {},
   "outputs": [
    {
     "ename": "ValidationError",
     "evalue": "1 validation error for SingleTurnSample\nreference_contexts\n  Input should be a valid list [type=list_type, input_value=\"['BNS Section 233 BNSS C... evidence is triable.']\", input_type=str]\n    For further information visit https://errors.pydantic.dev/2.11/v/list_type",
     "output_type": "error",
     "traceback": [
      "\u001b[31m---------------------------------------------------------------------------\u001b[39m",
      "\u001b[31mValidationError\u001b[39m                           Traceback (most recent call last)",
      "\u001b[36mCell\u001b[39m\u001b[36m \u001b[39m\u001b[32mIn[4]\u001b[39m\u001b[32m, line 26\u001b[39m\n\u001b[32m     17\u001b[39m     dataset.append({\n\u001b[32m     18\u001b[39m         \u001b[33m\"\u001b[39m\u001b[33muser_input\u001b[39m\u001b[33m\"\u001b[39m:         query,\n\u001b[32m     19\u001b[39m         \u001b[33m\"\u001b[39m\u001b[33mreference_contexts\u001b[39m\u001b[33m\"\u001b[39m: ref_ctxs,\n\u001b[32m   (...)\u001b[39m\u001b[32m     22\u001b[39m         \u001b[33m\"\u001b[39m\u001b[33mreference\u001b[39m\u001b[33m\"\u001b[39m:          reference\n\u001b[32m     23\u001b[39m     })\n\u001b[32m     25\u001b[39m \u001b[38;5;66;03m# 5. Create RAG evaluation dataset\u001b[39;00m\n\u001b[32m---> \u001b[39m\u001b[32m26\u001b[39m evaluation_dataset = \u001b[43mEvaluationDataset\u001b[49m\u001b[43m.\u001b[49m\u001b[43mfrom_list\u001b[49m\u001b[43m(\u001b[49m\u001b[43mdataset\u001b[49m\u001b[43m)\u001b[49m\n\u001b[32m     28\u001b[39m df_eval = evaluation_dataset.to_pandas()          \u001b[38;5;66;03m# or: pd.DataFrame(evaluation_dataset)\u001b[39;00m\n\u001b[32m     29\u001b[39m output_path = \u001b[33m'\u001b[39m\u001b[33m/home/bipin/Documents/projects/legal_assistant/data/evaluation_dataset.csv\u001b[39m\u001b[33m'\u001b[39m\n",
      "\u001b[36mFile \u001b[39m\u001b[32m~/Documents/projects/legal_assistant/.venv/lib/python3.12/site-packages/ragas/dataset_schema.py:390\u001b[39m, in \u001b[36mEvaluationDataset.from_list\u001b[39m\u001b[34m(cls, data)\u001b[39m\n\u001b[32m    388\u001b[39m     samples.extend(MultiTurnSample(**sample) \u001b[38;5;28;01mfor\u001b[39;00m sample \u001b[38;5;129;01min\u001b[39;00m data)\n\u001b[32m    389\u001b[39m \u001b[38;5;28;01melse\u001b[39;00m:\n\u001b[32m--> \u001b[39m\u001b[32m390\u001b[39m     \u001b[43msamples\u001b[49m\u001b[43m.\u001b[49m\u001b[43mextend\u001b[49m\u001b[43m(\u001b[49m\u001b[43mSingleTurnSample\u001b[49m\u001b[43m(\u001b[49m\u001b[43m*\u001b[49m\u001b[43m*\u001b[49m\u001b[43msample\u001b[49m\u001b[43m)\u001b[49m\u001b[43m \u001b[49m\u001b[38;5;28;43;01mfor\u001b[39;49;00m\u001b[43m \u001b[49m\u001b[43msample\u001b[49m\u001b[43m \u001b[49m\u001b[38;5;129;43;01min\u001b[39;49;00m\u001b[43m \u001b[49m\u001b[43mdata\u001b[49m\u001b[43m)\u001b[49m\n\u001b[32m    391\u001b[39m \u001b[38;5;28;01mreturn\u001b[39;00m \u001b[38;5;28mcls\u001b[39m(samples=samples)\n",
      "\u001b[36mFile \u001b[39m\u001b[32m~/Documents/projects/legal_assistant/.venv/lib/python3.12/site-packages/ragas/dataset_schema.py:390\u001b[39m, in \u001b[36m<genexpr>\u001b[39m\u001b[34m(.0)\u001b[39m\n\u001b[32m    388\u001b[39m     samples.extend(MultiTurnSample(**sample) \u001b[38;5;28;01mfor\u001b[39;00m sample \u001b[38;5;129;01min\u001b[39;00m data)\n\u001b[32m    389\u001b[39m \u001b[38;5;28;01melse\u001b[39;00m:\n\u001b[32m--> \u001b[39m\u001b[32m390\u001b[39m     samples.extend(\u001b[43mSingleTurnSample\u001b[49m\u001b[43m(\u001b[49m\u001b[43m*\u001b[49m\u001b[43m*\u001b[49m\u001b[43msample\u001b[49m\u001b[43m)\u001b[49m \u001b[38;5;28;01mfor\u001b[39;00m sample \u001b[38;5;129;01min\u001b[39;00m data)\n\u001b[32m    391\u001b[39m \u001b[38;5;28;01mreturn\u001b[39;00m \u001b[38;5;28mcls\u001b[39m(samples=samples)\n",
      "\u001b[36mFile \u001b[39m\u001b[32m~/Documents/projects/legal_assistant/.venv/lib/python3.12/site-packages/pydantic/main.py:253\u001b[39m, in \u001b[36mBaseModel.__init__\u001b[39m\u001b[34m(self, **data)\u001b[39m\n\u001b[32m    251\u001b[39m \u001b[38;5;66;03m# `__tracebackhide__` tells pytest and some other tools to omit this function from tracebacks\u001b[39;00m\n\u001b[32m    252\u001b[39m __tracebackhide__ = \u001b[38;5;28;01mTrue\u001b[39;00m\n\u001b[32m--> \u001b[39m\u001b[32m253\u001b[39m validated_self = \u001b[38;5;28;43mself\u001b[39;49m\u001b[43m.\u001b[49m\u001b[43m__pydantic_validator__\u001b[49m\u001b[43m.\u001b[49m\u001b[43mvalidate_python\u001b[49m\u001b[43m(\u001b[49m\u001b[43mdata\u001b[49m\u001b[43m,\u001b[49m\u001b[43m \u001b[49m\u001b[43mself_instance\u001b[49m\u001b[43m=\u001b[49m\u001b[38;5;28;43mself\u001b[39;49m\u001b[43m)\u001b[49m\n\u001b[32m    254\u001b[39m \u001b[38;5;28;01mif\u001b[39;00m \u001b[38;5;28mself\u001b[39m \u001b[38;5;129;01mis\u001b[39;00m \u001b[38;5;129;01mnot\u001b[39;00m validated_self:\n\u001b[32m    255\u001b[39m     warnings.warn(\n\u001b[32m    256\u001b[39m         \u001b[33m'\u001b[39m\u001b[33mA custom validator is returning a value other than `self`.\u001b[39m\u001b[38;5;130;01m\\n\u001b[39;00m\u001b[33m'\u001b[39m\n\u001b[32m    257\u001b[39m         \u001b[33m\"\u001b[39m\u001b[33mReturning anything other than `self` from a top level model validator isn\u001b[39m\u001b[33m'\u001b[39m\u001b[33mt supported when validating via `__init__`.\u001b[39m\u001b[38;5;130;01m\\n\u001b[39;00m\u001b[33m\"\u001b[39m\n\u001b[32m    258\u001b[39m         \u001b[33m'\u001b[39m\u001b[33mSee the `model_validator` docs (https://docs.pydantic.dev/latest/concepts/validators/#model-validators) for more details.\u001b[39m\u001b[33m'\u001b[39m,\n\u001b[32m    259\u001b[39m         stacklevel=\u001b[32m2\u001b[39m,\n\u001b[32m    260\u001b[39m     )\n",
      "\u001b[31mValidationError\u001b[39m: 1 validation error for SingleTurnSample\nreference_contexts\n  Input should be a valid list [type=list_type, input_value=\"['BNS Section 233 BNSS C... evidence is triable.']\", input_type=str]\n    For further information visit https://errors.pydantic.dev/2.11/v/list_type"
     ]
    }
   ],
   "source": [
    "dataset = []\n",
    "for _, row in df.iterrows():\n",
    "    query = row['user_input']\n",
    "    ref_ctxs = row['reference_contexts']   # already in your CSV\n",
    "    reference = row['reference']\n",
    "\n",
    "    # 4.1 retrieve + call LLM\n",
    "    docs = retrieve(query)\n",
    "    retrieved_ctxs = docs_to_text(docs)\n",
    "\n",
    "    resp = (prompt_template | llm).invoke({\n",
    "        \"context\": \"\\n\\n\".join(retrieved_ctxs),\n",
    "        \"question\": query\n",
    "    })\n",
    "\n",
    "    # 4.2 append\n",
    "    dataset.append({\n",
    "        \"user_input\":         query,\n",
    "        \"reference_contexts\": ref_ctxs,\n",
    "        \"retrieved_contexts\": retrieved_ctxs,\n",
    "        \"response\":           resp.content,\n",
    "        \"reference\":          reference\n",
    "    })\n",
    "\n",
    "# 5. Create RAG evaluation dataset\n",
    "evaluation_dataset = EvaluationDataset.from_list(dataset)\n",
    "\n",
    "df_eval = evaluation_dataset.to_pandas()          # or: pd.DataFrame(evaluation_dataset)\n",
    "output_path = '/home/bipin/Documents/projects/legal_assistant/data/evaluation_dataset.csv'\n",
    "df_eval.to_csv(output_path, index=False)\n",
    "\n",
    "print(f\"Saved evaluation results to {output_path}\")\n",
    "\n",
    "# now you can pass `evaluation_dataset` to ragas.evaluate(...)\n",
    "print(f\"Built evaluation dataset with {len(dataset)} examples.\")"
   ]
  },
  {
   "cell_type": "code",
   "execution_count": 5,
   "id": "154163f6",
   "metadata": {},
   "outputs": [
    {
     "ename": "NameError",
     "evalue": "name 'evaluation_dataset' is not defined",
     "output_type": "error",
     "traceback": [
      "\u001b[31m---------------------------------------------------------------------------\u001b[39m",
      "\u001b[31mNameError\u001b[39m                                 Traceback (most recent call last)",
      "\u001b[36mCell\u001b[39m\u001b[36m \u001b[39m\u001b[32mIn[5]\u001b[39m\u001b[32m, line 1\u001b[39m\n\u001b[32m----> \u001b[39m\u001b[32m1\u001b[39m \u001b[43mevaluation_dataset\u001b[49m \n",
      "\u001b[31mNameError\u001b[39m: name 'evaluation_dataset' is not defined"
     ]
    }
   ],
   "source": [
    "evaluation_dataset "
   ]
  },
  {
   "cell_type": "code",
   "execution_count": 7,
   "id": "16e5bd8f",
   "metadata": {},
   "outputs": [
    {
     "data": {
      "text/plain": [
       "30"
      ]
     },
     "execution_count": 7,
     "metadata": {},
     "output_type": "execute_result"
    }
   ],
   "source": [
    "len(dataset)"
   ]
  },
  {
   "cell_type": "code",
   "execution_count": 8,
   "id": "0a24f283",
   "metadata": {},
   "outputs": [
    {
     "data": {
      "text/plain": [
       "{'user_input': 'What is BNSS Classification in relation to false evidence?',\n",
       " 'reference_contexts': \"['BNS Section 233 BNSS Classification The same as for giving or fabricating false evidence. Non-cognizable According as offence of giving such evidence is bailable or nonbailable. Triable by Court by which offence of giving or fabricating false evidence is triable.']\",\n",
       " 'retrieved_contexts': ['BNS Section 233 BNSS Classification The same as for giving or fabricating false evidence. Non-cognizable According as offence of giving such evidence is bailable or nonbailable. Triable by Court by which offence of giving or fabricating false evidence is triable.',\n",
       "  'BNS Section 235 BNSS Classification The same as for giving false evidence. Non-cognizable Bailable Triable by Court by which offence of giving false evidence is triable.',\n",
       "  'BNS Section 234 BNSS Classification The same as for giving false evidence. Non-cognizable Bailable Triable by Court by which offence of giving false evidence is triable.',\n",
       "  'BNS Section 236 BNSS Classification The same as for giving false evidence. Non-cognizable Bailable Triable by Court by which offence of giving false evidence is triable.',\n",
       "  'BNS Section 237 Explanation: A declaration which is inadmissible merely upon the ground of some informality, is a declaration within the meaning of section 234 and this section. BNSS Classification The same as for giving false evidence. Non-cognizable Bailable Triable by Court by which offence of giving false evidence is triable.'],\n",
       " 'response': 'The BNSS Classification in relation to false evidence is the same as for giving false evidence or fabricating false evidence.',\n",
       " 'reference': 'BNSS Classification refers to the classification of offences related to giving or fabricating false evidence, indicating whether such offences are bailable or nonbailable and which court is triable for them.'}"
      ]
     },
     "execution_count": 8,
     "metadata": {},
     "output_type": "execute_result"
    }
   ],
   "source": [
    "dataset[0]"
   ]
  },
  {
   "cell_type": "code",
   "execution_count": 9,
   "id": "a1e7ca6b",
   "metadata": {},
   "outputs": [
    {
     "data": {
      "text/plain": [
       "[{'user_input': 'What is BNSS Classification in relation to false evidence?',\n",
       "  'reference_contexts': \"['BNS Section 233 BNSS Classification The same as for giving or fabricating false evidence. Non-cognizable According as offence of giving such evidence is bailable or nonbailable. Triable by Court by which offence of giving or fabricating false evidence is triable.']\",\n",
       "  'retrieved_contexts': ['BNS Section 233 BNSS Classification The same as for giving or fabricating false evidence. Non-cognizable According as offence of giving such evidence is bailable or nonbailable. Triable by Court by which offence of giving or fabricating false evidence is triable.',\n",
       "   'BNS Section 235 BNSS Classification The same as for giving false evidence. Non-cognizable Bailable Triable by Court by which offence of giving false evidence is triable.',\n",
       "   'BNS Section 234 BNSS Classification The same as for giving false evidence. Non-cognizable Bailable Triable by Court by which offence of giving false evidence is triable.',\n",
       "   'BNS Section 236 BNSS Classification The same as for giving false evidence. Non-cognizable Bailable Triable by Court by which offence of giving false evidence is triable.',\n",
       "   'BNS Section 237 Explanation: A declaration which is inadmissible merely upon the ground of some informality, is a declaration within the meaning of section 234 and this section. BNSS Classification The same as for giving false evidence. Non-cognizable Bailable Triable by Court by which offence of giving false evidence is triable.'],\n",
       "  'response': 'The BNSS Classification in relation to false evidence is the same as for giving false evidence or fabricating false evidence.',\n",
       "  'reference': 'BNSS Classification refers to the classification of offences related to giving or fabricating false evidence, indicating whether such offences are bailable or nonbailable and which court is triable for them.'},\n",
       " {'user_input': \"What is the law regarding theft on property in Z's possesion?\",\n",
       "  'reference_contexts': \"['BNS Section 307 Illustrations: A commits theft on property in Z’s possession; and while committing this theft, he has a loaded pistol under his garment, having provided this pistol for the purpose of hurting Z in case Z should resist. A has committed the offence defined in this section. A picks Z’s pocket, having posted several of his companions near him, in order that they may restrain Z, if Z should perceive what is passing and should resist, or should attempt to apprehend A. A has committed the offence defined in this section.']\",\n",
       "  'retrieved_contexts': ['of depriving Z of the property as a security for his debt, he commits theft, inasmuch as he takes it dishonestly. Again, if A, having pawned his watch to Z, takes it out of Z’s possession without Z’s consent, not having paid what he borrowed on the watch, he commits theft, though the watch is his own property inasmuch as he takes it dishonestly. A takes an article belonging to Z out of Z’s possession without Z’s consent, with the intention of keeping it until he obtains money from Z as a reward for its restoration. Here A takes dishonestly; A has therefore committed theft. A, being on friendly terms with Z, goes into Z’s library in Z’s absence, and takes away a book without Z’s express consent for the purpose merely of reading it, and with the intention of returning it. Here, it is probable that A may have conceived that he had Z’s implied consent to use Z’s book. If this was A’s',\n",
       "   'the ring from the hiding place and selling it when the loss is forgotten. Here A, at the time of first moving the ring, commits theft. A delivers his watch to Z, a jeweler, to be regulated. Z carries it to his shop. A, not owing to the jeweler any debt for which the jeweler might lawfully detain the watch as a security, enters the shop openly, takes his watch by force out of Z’s hand, and carries it away. Here A, though he may have committed criminal trespass and assault, has not committed theft, inasmuch as what he did was not done dishonestly. If A owes money to Z for repairing the watch, and if Z retains the watch lawfully as a security for the debt, and A takes the watch out of Z’s possession, with the intention of depriving Z of the property as a security for his debt, he commits theft, inasmuch as he takes it dishonestly. Again, if A, having pawned his watch to Z, takes it out of',\n",
       "   'merely of reading it, and with the intention of returning it. Here, it is probable that A may have conceived that he had Z’s implied consent to use Z’s book. If this was A’s impression, A has not committed theft. A asks charity from Z’s wife. She gives A money, food and clothes, which A knows to belong to Z her husband. Here it is probable that A may conceive that Z’s wife is authorised to give away alms. If this was A’s impression, A has not committed theft. A is the paramour of Z’s wife. She gives a valuable property, which A knows to belong to her husband Z, and to be such property as she has no authority from Z to give. If A takes the property dishonestly, he commits theft. A, in good faith, believing property belonging to Z to be A’s own property, takes that property out of Z’s possession. Here, as A does not take dishonestly, he does not commit theft. Whoever commits theft shall',\n",
       "   'be taken out of Z’s possession, and A has not committed theft, though he may have committed criminal breach of trust. A finds a ring belonging to Z on a table in the house which Z occupies. Here the ring is in Z’s possession, and if A dishonestly removes it, A commits theft. A finds a ring lying on the highroad, not in the possession of any person. A, by taking it, commits no theft, though he may commit criminal misappropriation of property. A sees a ring belonging to Z lying on a table in Z’s house. Not venturing to misappropriate the ring immediately for fear of search and detection, A hides the ring in a place where it is highly improbable that it will ever be found by Z, with the intention of taking the ring from the hiding place and selling it when the loss is forgotten. Here A, at the time of first moving the ring, commits theft. A delivers his watch to Z, a jeweler, to be',\n",
       "   'A is guilty of abetting the offence of setting fire to a dwelling-house, and is liable to the punishment provided for that offence. A, intending to cause a theft to be committed, instigates B to take property belonging to Z out of Z’s possession. A induces B to believe that the property belongs to A. B takes the property out of Z’s possession, in good faith, believing it to be A’s property. B, acting under this misconception, does not take dishonestly, and therefore does not commit theft. But A is guilty of abetting theft, and is liable to the same punishment as if B had committed theft. Explanation 4: The abetment of an offence being an offence, the abetment of such an abetment is also an offence. Illustration: A instigates B to instigate C to murder Z. B accordingly instigates C to murder Z, and C commits that offence in consequence of B’s instigation. B is liable to be punished for'],\n",
       "  'response': \"The law regarding theft on property in Z's possession, as outlined in the provided context, is that a person commits theft if they dishonestly take property belonging to Z out of Z's possession without Z's consent, with the intention of depriving Z of the property as a security for a debt or for other purposes. Specifically:\\n\\n- If a person takes property dishonestly and without Z's consent, they commit theft, even if the property is originally their own or belongs to someone else.\\n- Taking property with the intention of returning it later, or under the belief that they have Z's implied consent, may not constitute theft if the taking was not dishonest.\\n- If property is lawfully in Z's possession, such as in a pawn or security context, taking it dishonestly to deprive Z of it constitutes theft.\\n- If property is found in Z's possession and is taken dishonestly, that also constitutes theft.\\n- Conversely, if the taking is not dishonest, or if the person believes they have Z's implied or actual consent, then theft may not be committed, though other offenses like criminal breach of trust or criminal trespass may still apply.\\n\\nIn summary, theft on property in Z's possession involves dishonestly taking the property without Z's consent with the intent to permanently deprive Z of it.\",\n",
       "  'reference': 'BNS Section 307 Illustrations states that if A commits theft on property in Z’s possession, and has a loaded pistol under his garment for the purpose of hurting Z if he resists, A has committed the offence defined in this section. Additionally, if A posts companions near Z to restrain him if he perceives the theft or attempts to apprehend A, this also constitutes the offence.'},\n",
       " {'user_input': 'What BNS means in law?',\n",
       "  'reference_contexts': \"['BNS Section 168 BNSS Classification Imprisonment for 3 months, or fine of 2,000 rupees, or both. Cognizable Bailable Triable by Any Magistrate.']\",\n",
       "  'retrieved_contexts': ['BNS Section 198 Illustration: A, being an officer directed by law to take property in execution, in order to satisfy a decree pronounced in Z’s favour by a Court, knowingly disobeys that direction of law, with the knowledge that he is likely thereby to cause injury to Z. A has committed the offence defined in this section. BNSS Classification Simple imprisonment for 1 year, or fine, or both. Non-cognizable Bailable Triable by Magistrate of the first class.',\n",
       "   'BNS Section 18 Nothing is an offence which is done by accident or misfortune, and without any criminal intention or knowledge in the doing of a lawful act in a lawful manner by lawful means and with proper care and caution. Illustration: A is at work with a hatchet; the head flies off and kills a man who is standing by. Here, if there was no want of proper caution on the part of A, his act is excusable and not an offence.',\n",
       "   'BNS Section 193 Whenever any unlawful assembly or riot takes place, the owner or occupier of the land upon which such unlawful assembly is held, or such riot is committed, and any person having or claiming an interest in such land, shall be punishable with fine not exceeding one thousand rupees, if he or his agent or manager, knowing that such offence is being or has been committed, or having reason to believe it is likely to be committed, do not give the earliest notice thereof in his or their power to the officer in charge at the nearest police station, and do not, in the case of his or their having reason to believe that it was about to be committed, use all lawful means in his or their power to prevent it and, in the event of its taking place, do not use all lawful means in his or their power to disperse or suppress the riot or unlawful assembly. Whenever a riot is committed for the',\n",
       "   'BNS Section 269 Explanation: The punishment under this section is, in addition to the punishment to which the offender would be liable on a conviction for the offence with which he has been charged; and without prejudice to the power of the court to order forfeiture of the bond. BNSS Classification Imprisonment for 1 years, or fine, or both. Cognizable Non-bailable Triable by Magistrate of the first class.',\n",
       "   'BNS Section 5 Explanations: For the purposes of this section the expression “appropriate Government” means, in cases where the sentence is a sentence of death or is for an offence against any law relating to a matter to which the executive power of the Union extends, the Central Government; and in cases where the sentence (whether of death or not) is for an offence against any law relating to a matter to which the executive power of the State extends, the Government of the State within which the offender is sentenced.'],\n",
       "  'response': 'Based on the provided context, \"BNS\" appears to be an abbreviation used before section numbers (e.g., BNS Section 198, BNS Section 18). However, the specific meaning of \"BNS\" in law is not explicitly defined in the given information. Therefore, I cannot determine what \"BNS\" stands for in law based solely on this context.',\n",
       "  'reference': 'BNS Section 168 BNSS Classification Imprisonment for 3 months, or fine of 2,000 rupees, or both. Cognizable Bailable Triable by Any Magistrate.'},\n",
       " {'user_input': 'What is BNSS Classification in BNS Section 146?',\n",
       "  'reference_contexts': \"['BNS Section 146 BNSS Classification Imprisonment for 1 year, or fine, or both. Cognizable Bailable Triable by Any Magistrate.']\",\n",
       "  'retrieved_contexts': ['BNS Section 146 BNSS Classification Imprisonment for 1 year, or fine, or both. Cognizable Bailable Triable by Any Magistrate.'],\n",
       "  'response': 'The context does not provide specific information about the BNSS Classification in BNS Section 146.',\n",
       "  'reference': 'BNS Section 146 BNSS Classification Imprisonment for 1 year, or fine, or both. Cognizable Bailable Triable by Any Magistrate.'},\n",
       " {'user_input': 'What is the amount of fine specified in the BNS Section 276 BNSS classification for imprisonment or other penalties involving rupees?',\n",
       "  'reference_contexts': \"['BNS Section 276 BNSS Classification Imprisonment for 1 year, or fine of 5,000 rupees, or both. Non-cognizable Bailable Triable by Any Magistrate.']\",\n",
       "  'retrieved_contexts': ['BNS Section 276 BNSS Classification Imprisonment for 1 year, or fine of 5,000 rupees, or both. Non-cognizable Bailable Triable by Any Magistrate.'],\n",
       "  'response': 'The amount of fine specified is 5,000 rupees.',\n",
       "  'reference': 'The fine specified is 5,000 rupees.'},\n",
       " {'user_input': 'What is BNS Section 218 about?',\n",
       "  'reference_contexts': \"['BNS Section 218 BNSS Classification Imprisonment for 6 months, or fine of 10,000 rupees, or both. Non-cognizable Bailable Triable by Any Magistrate.']\",\n",
       "  'retrieved_contexts': ['BNS Section 218 BNSS Classification Imprisonment for 6 months, or fine of 10,000 rupees, or both. Non-cognizable Bailable Triable by Any Magistrate.'],\n",
       "  'response': 'BNS Section 218 pertains to an offense that is classified as a non-cognizable, bailable, and triable by any magistrate, with penalties including imprisonment for up to 6 months, a fine of 10,000 rupees, or both.',\n",
       "  'reference': 'BNS Section 218 BNSS Classification Imprisonment for 6 months, or fine of 10,000 rupees, or both. Non-cognizable Bailable Triable by Any Magistrate.'},\n",
       " {'user_input': 'What does BNS Section 336 cover?',\n",
       "  'reference_contexts': \"['BNS Section 336 Whoever makes any false document or false electronic record or part of a document or electronic record, with intent to cause damage or injury, to the public or to any person, or to support any claim or title, or to cause any person to part with property, or to enter into any express or implied contract, or with intent to commit fraud or that fraud may be committed, commits forgery. Whoever commits forgery shall be punished with imprisonment of either description for a term which may extend to two years, or with fine, or with both. Whoever commits forgery, intending that the document or electronic record forged shall be used for the purpose of cheating, shall be punished with imprisonment of either description for a term which may extend to seven years, and shall also be liable to fine. Whoever commits forgery, intending that the document or electronic record forged shall harm the reputation of any party, or knowing that it is likely to be used for that purpose, shall be punished with imprisonment of either description for a term which may extend to three years, and shall also be liable to fine.']\",\n",
       "  'retrieved_contexts': ['BNS Section 336 Whoever makes any false document or false electronic record or part of a document or electronic record, with intent to cause damage or injury, to the public or to any person, or to support any claim or title, or to cause any person to part with property, or to enter into any express or implied contract, or with intent to commit fraud or that fraud may be committed, commits forgery. Whoever commits forgery shall be punished with imprisonment of either description for a term which may extend to two years, or with fine, or with both. Whoever commits forgery, intending that the document or electronic record forged shall be used for the purpose of cheating, shall be punished with imprisonment of either description for a term which may extend to seven years, and shall also be liable to fine. Whoever commits forgery, intending that the document or electronic record forged shall',\n",
       "   'description for a term which may extend to seven years, and shall also be liable to fine. Whoever commits forgery, intending that the document or electronic record forged shall harm the reputation of any party, or knowing that it is likely to be used for that purpose, shall be punished with imprisonment of either description for a term which may extend to three years, and shall also be liable to fine.'],\n",
       "  'response': \"BNS Section 336 covers the offense of forgery, which involves making false documents or electronic records with intent to cause damage, support claims or titles, induce property transfer, or commit fraud. It specifies the punishments for forgery, including imprisonment and fines, and details different penalties depending on the intent behind the forgery, such as using the forged document for cheating or harming someone's reputation.\",\n",
       "  'reference': 'BNS Section 336 covers the making of false documents or electronic records with intent to cause damage, support claims, or commit fraud, and specifies punishments including imprisonment and fines depending on the intent and purpose of the forgery.'},\n",
       " {'user_input': 'What is BNSS Classification in the context of BNS Section 154?',\n",
       "  'reference_contexts': \"['BNS Section 154 BNSS Classification Imprisonment for 7 years and fine, and forfeiture of certain property. Cognizable Non-bailable Triable by Court of Session.']\",\n",
       "  'retrieved_contexts': ['BNS Section 154 BNSS Classification Imprisonment for 7 years and fine, and forfeiture of certain property. Cognizable Non-bailable Triable by Court of Session.'],\n",
       "  'response': 'The context does not provide specific information about what BNSS Classification refers to in the context of BNS Section 154.',\n",
       "  'reference': 'BNS Section 154 BNSS Classification involves imprisonment for 7 years, a fine, and forfeiture of certain property. It is cognizable, non-bailable, and triable by Court of Session.'},\n",
       " {'user_input': 'What are the key details and legal implications of BNS Section 162 as it pertains to classification, imprisonment, and trial procedures under criminal law?',\n",
       "  'reference_contexts': \"['BNS Section 162 BNSS Classification Imprisonment for 7 years and fine. Cognizable Non-bailable Triable by Magistrate of the first class.']\",\n",
       "  'retrieved_contexts': ['BNS Section 162 BNSS Classification Imprisonment for 7 years and fine. Cognizable Non-bailable Triable by Magistrate of the first class.'],\n",
       "  'response': 'Based on the provided context, BNS Section 162 pertains to a criminal offense classified as BNSS. The key details are:\\n\\n- Classification: The offense is classified under BNSS.\\n- Imprisonment: The maximum imprisonment term is 7 years.\\n- Fine: A fine may also be imposed.\\n- Cognizability: The offense is cognizable, meaning police can arrest without a warrant and start an investigation without prior approval.\\n- Bailability: The offense is non-bailable, indicating that bail is not granted as a matter of right.\\n- Trial Procedure: The case is triable by a Magistrate of the first class.\\n\\nLegal implications include that the offense is serious, with significant potential penalties, and is subject to specific procedural rules under criminal law, including police investigation and trial by a magistrate.',\n",
       "  'reference': 'BNS Section 162 BNSS Classification involves imprisonment for 7 years and a fine. It is a cognizable, non-bailable offense that is triable by a Magistrate of the first class.'},\n",
       " {'user_input': 'Can you explain how the term \"State\" is used in the context of criminal sentencing procedures according to the BNS Section 5 Explanations, especially when the sentence involves offences related to the executive power of the Union or the State?',\n",
       "  'reference_contexts': \"['BNS Section 5 Explanations: For the purposes of this section the expression “appropriate Government” means, in cases where the sentence is a sentence of death or is for an offence against any law relating to a matter to which the executive power of the Union extends, the Central Government; and in cases where the sentence (whether of death or not) is for an offence against any law relating to a matter to which the executive power of the State extends, the Government of the State within which the offender is sentenced.']\",\n",
       "  'retrieved_contexts': ['BNS Section 5 Explanations: For the purposes of this section the expression “appropriate Government” means, in cases where the sentence is a sentence of death or is for an offence against any law relating to a matter to which the executive power of the Union extends, the Central Government; and in cases where the sentence (whether of death or not) is for an offence against any law relating to a matter to which the executive power of the State extends, the Government of the State within which the offender is sentenced.'],\n",
       "  'response': 'According to the BNS Section 5 Explanations, the term \"State\" is used to refer to the Government of the State within which the offender is sentenced, particularly in cases where the sentence is not a death sentence and the offence is related to matters within the executive power of the State. In such cases, the appropriate Government is the State Government where the sentencing occurs. Conversely, if the offence relates to matters within the executive power of the Union, or if the sentence is of death, the appropriate Government is the Central Government.',\n",
       "  'reference': 'In the context of the BNS Section 5 Explanations, the term \"State\" refers to the Government of the State within which the offender is sentenced when the offence is against a law related to the executive power of the State. If the sentence is a death sentence or involves an offence against a law related to the executive power of the Union, then the appropriate Government is the Central Government.'},\n",
       " {'user_input': 'How does the law explain the term injury and damage related to causing permanent or partial harm, and what are the legal consequences of unauthorized access to property as per the sections mentioned?',\n",
       "  'reference_contexts': \"['<1-hop>\\\\n\\\\nBNS Section 124 Whoever causes permanent or partial damage or deformity to, or burns or maims or disfigures or disables, any part or parts of the body of a person or causes grievous hurt by throwing acid on or by administering acid to that person, or by using any other means with the intention of causing or with the knowledge that he is likely to cause such injury or hurt or causes a person to be in a permanent vegetative state shall be punished with imprisonment of either description for a term which shall not be less than ten years but which may extend to imprisonment for life, and with fine; Provided that such fine shall be just and reasonable to meet the medical expenses of the treatment of the victim;Provided further that any fine imposed under this section shall be paid to the victim. Whoever throws or attempts to throw acid on any person or attempts to administer acid to any person, or attempts to use any other means, with the intention of causing permanent or partial damage or deformity or burns or maiming or disfigurement or disability or grievous hurt to that person, shall be punished with imprisonment of either description for a term which shall not be less than five years but which may extend to seven years, and shall also be liable to fine. Explanation 1: For the purposes of this section, “acid” includes any substance which has acidic or corrosive character or burning nature, that is capable of causing bodily injury leading to scars or disfigurement or temporary or permanent disability. Explanation 2: For the purposes of this section, permanent or partial damage or deformity or permanent vegetative state, shall not be required to be irreversible.', '<2-hop>\\\\n\\\\nBNS Section 334 Whoever dishonestly or with intent to commit mischief, breaks open or unfastens any closed receptacle which contains or which he believes to contain property, shall be punished with imprisonment of either description for a term which may extend to two years, or with fine, or with both. Whoever, being entrusted with any closed receptacle which contains or which he believes to contain property, without having authority to open the same, dishonestly, or with intent to commit mischief, breaks open or unfastens that receptacle, shall be punished with imprisonment of either description for a term which may extend to three years, or with fine, or with both.']\",\n",
       "  'retrieved_contexts': ['bodily injury leading to scars or disfigurement or temporary or permanent disability. Explanation 2: For the purposes of this section, permanent or partial damage or deformity or permanent vegetative state, shall not be required to be irreversible.',\n",
       "   'further that any fine imposed under this section shall be paid to the victim. Whoever throws or attempts to throw acid on any person or attempts to administer acid to any person, or attempts to use any other means, with the intention of causing permanent or partial damage or deformity or burns or maiming or disfigurement or disability or grievous hurt to that person, shall be punished with imprisonment of either description for a term which shall not be less than five years but which may extend to seven years, and shall also be liable to fine. Explanation 1: For the purposes of this section, “acid” includes any substance which has acidic or corrosive character or burning nature, that is capable of causing bodily injury leading to scars or disfigurement or temporary or permanent disability. Explanation 2: For the purposes of this section, permanent or partial damage or deformity or',\n",
       "   'BNS Section 124 Whoever causes permanent or partial damage or deformity to, or burns or maims or disfigures or disables, any part or parts of the body of a person or causes grievous hurt by throwing acid on or by administering acid to that person, or by using any other means with the intention of causing or with the knowledge that he is likely to cause such injury or hurt or causes a person to be in a permanent vegetative state shall be punished with imprisonment of either description for a term which shall not be less than ten years but which may extend to imprisonment for life, and with fine; Provided that such fine shall be just and reasonable to meet the medical expenses of the treatment of the victim;Provided further that any fine imposed under this section shall be paid to the victim. Whoever throws or attempts to throw acid on any person or attempts to administer acid to any',\n",
       "   'BNS Section 324 Whoever with intent to cause, or knowing that he is likely to cause, wrongful loss or damage to the public or to any person, causes the destruction of any property, or any such change in any property or in the situation thereof as destroys or diminishes its value or utility, or affects it injuriously, commits “mischief”. Explanation 1: It is not essential to the offence of mischief that the offender should intend to cause loss or damage to the owner of the property injured or destroyed. It is sufficient if he intends to cause, or knows that he is likely to cause, wrongful loss or damage to any person by injuring any property, whether it belongs to that person or not. Explanation 2: Mischief may be committed by an act affecting property belonging to the person who commits the act, or to that person and others jointly. Illustrations: A voluntarily burns a valuable security',\n",
       "   'BNS Section 119 Whoever voluntarily causes hurt, for the purpose of extorting from the sufferer, or from any person interested in the sufferer, any property or valuable security, or of constraining the sufferer or any person interested in such sufferer to do anything which is illegal or which may facilitate the commission of an offence, shall be punished with imprisonment of either description for a term which may extend to ten years, and shall also be liable to fine. Whoever voluntarily causes grievous hurt for any purpose referred to in subsection (1), shall be punished with imprisonment for life, or imprisonment of either description for a term which may extend to ten years, and shall also be liable to fine.'],\n",
       "  'response': \"The law explains that injury or damage related to causing permanent or partial harm includes bodily injury leading to scars, disfigurement, or temporary or permanent disability. It specifies that permanent or partial damage, deformity, or vegetative state need not be irreversible for the injury to be considered under this section.\\n\\nRegarding unauthorized access to property, the sections mentioned (specifically Section 124 and Section 324) do not directly address unauthorized access. Instead, they focus on acts such as causing bodily injury through acid attack (Section 124) and causing wrongful loss or damage to property (Section 324). The legal consequences for causing such injuries include imprisonment for a minimum of ten years, which may extend to life imprisonment, along with a fine that is to be paid to the victim. For mischief (Section 324), the offender may be liable for imprisonment and is responsible for damages that diminish the property's value or utility, but specific penalties for unauthorized access are not detailed in the provided sections.\",\n",
       "  'reference': 'The law explains injury and damage as causing permanent or partial harm, deformity, burns, maiming, disfigurement, or disability to a person, including grievous hurt such as that caused by acid. Specifically, under BNS Section 124, causing such injuries with intent or knowledge can lead to imprisonment of not less than ten years, possibly life, along with a fine paid to the victim. Unauthorized access to property is addressed in BNS Section 334, where dishonestly breaking open or unfastening a closed receptacle believed to contain property can result in imprisonment up to two or three years, with fines, depending on the circumstances.'},\n",
       " {'user_input': 'How does wilful misrepresentation by landholders and watchmen relate to their legal responsibilities under sections 212 and 45, especially considering their roles in preventing offences and their potential to abet illegal acts?',\n",
       "  'reference_contexts': \"['<1-hop>\\\\n\\\\nBNS Section 212 shall be punished with simple imprisonment for a term which may extend to six months, or with fine which may extend to five thousand rupees, or with both; where the information which he is legally bound to give respects the commission of an offence, or is required for the purpose of preventing the commission of an offence, or in order to the apprehension of an offender, with imprisonment of either description for a term which may extend to two years, or with fine, or with both. Illustrations: A, a landholder, knowing of the commission of a murder within the limits of his estate, wilfully misinforms the Magistrate of the district that the death has occurred by accident in consequence of the bite of a snake. A is guilty of the offence defined in this section. A, a village watchman, knowing that a considerable body of strangers has passed through his village in order to commit a dacoity in the house of Z, residing in a neighbouring place, and being section 28 of the Bhartiya Nagarik Suraksha Sanhita, 2023 to give early and punctual information of the above fact to the officer of the nearest police-station, wilfully misinforms the police officer that a body of suspicious characters passed through the village with a view to commit dacoity in a certain distant place in a different direction. Here A is guilty of the offence defined in the latter part of this section. Explanation: In section 209 and in this section the word “offence” include any act committed at any place out of India, which, if committed in India, would be punishable under any of the following sections, namely, 97, 99, 172, 173, 174, 175, 301, clauses (b) to (d) of section 303, sections 304, 305, 306, 320, 325 and 326 and the word “offender” includes any person who is alleged to have been guilty of any such act.', '<2-hop>\\\\n\\\\nBNS Section 45 A person abets the doing of a thing, who: instigates any person to do that thing; or engages with one or more other person or persons in any conspiracy for the doing of that thing, if an act or illegal omission takes place in pursuance of that conspiracy, and in order to the doing of that thing; or intentionally aids, by any act or illegal omission, the doing of that thing. Explanation 1: A person who, by wilful misrepresentation, or by wilful concealment of a material fact which he is bound to disclose, voluntarily causes or procures, or attempts to cause or procure, a thing to be done, is said to instigate the doing of that thing. Illustration: A, a public officer, is authorised by a warrant from a Court to apprehend Z. B, knowing that fact and also that C is not Z, wilfully represents to A that C is Z, and thereby intentionally causes A to apprehend C. Here B abets by instigation the apprehension of C. Explanation 2: Whoever, either prior to or at the time of the commission of an act, does anything in order to facilitate the commission of that act, and thereby facilitates the commission thereof, is said to aid the doing of that act.']\",\n",
       "  'retrieved_contexts': ['a Court to apprehend Z. B, knowing that fact and also that C is not Z, wilfully represents to A that C is Z, and thereby intentionally causes A to apprehend C. Here B abets by instigation the apprehension of C. Explanation 2: Whoever, either prior to or at the time of the commission of an act, does anything in order to facilitate the commission of that act, and thereby facilitates the commission thereof, is said to aid the doing of that act.',\n",
       "   'BNS Section 45 A person abets the doing of a thing, who: instigates any person to do that thing; or engages with one or more other person or persons in any conspiracy for the doing of that thing, if an act or illegal omission takes place in pursuance of that conspiracy, and in order to the doing of that thing; or intentionally aids, by any act or illegal omission, the doing of that thing. Explanation 1: A person who, by wilful misrepresentation, or by wilful concealment of a material fact which he is bound to disclose, voluntarily causes or procures, or attempts to cause or procure, a thing to be done, is said to instigate the doing of that thing. Illustration: A, a public officer, is authorised by a warrant from a Court to apprehend Z. B, knowing that fact and also that C is not Z, wilfully represents to A that C is Z, and thereby intentionally causes A to apprehend C. Here B abets by',\n",
       "   'BNS Section 212 shall be punished with simple imprisonment for a term which may extend to six months, or with fine which may extend to five thousand rupees, or with both; where the information which he is legally bound to give respects the commission of an offence, or is required for the purpose of preventing the commission of an offence, or in order to the apprehension of an offender, with imprisonment of either description for a term which may extend to two years, or with fine, or with both. Illustrations: A, a landholder, knowing of the commission of a murder within the limits of his estate, wilfully misinforms the Magistrate of the district that the death has occurred by accident in consequence of the bite of a snake. A is guilty of the offence defined in this section. A, a village watchman, knowing that a considerable body of strangers has passed through his village in order to',\n",
       "   'section the word “offence” include any act committed at any place out of India, which, if committed in India, would be punishable under any of the following sections, namely, 97, 99, 172, 173, 174, 175, 301, clauses (b) to (d) of section 303, sections 304, 305, 306, 320, 325 and 326 and the word “offender” includes any person who is alleged to have been guilty of any such act.'],\n",
       "  'response': 'Wilful misrepresentation by landholders and watchmen can directly relate to their legal responsibilities under sections 212 and 45 by potentially constituting acts of misinforming authorities or facilitating illegal acts, thereby impacting their duties to prevent offences and their liability for abetment.\\n\\nUnder Section 212, a person who wilfully misinforms the Magistrate about an offence—such as a landholder falsely claiming that a death was due to a snakebite instead of a murder—commits an offence. This misrepresentation hampers the proper investigation and prevention of crimes, and the individual can be punished with imprisonment, fine, or both.\\n\\nRegarding Section 45, which deals with abetment, a watchman or landholder who, through wilful misrepresentation, intentionally causes or attempts to cause a person to act in a certain way—such as misleading authorities about the nature of a death—may be considered to have abetted the commission of an offence if their actions facilitate the commission of a crime or hinder its detection. For example, falsely reporting an accident to conceal a murder could be seen as aiding or abetting the illegal act.\\n\\nIn summary, wilful misrepresentation by landholders and watchmen can violate their legal duties under Section 212 by providing false information to authorities, and can also implicate them under Section 45 if their false statements intentionally facilitate or abet the commission or concealment of offences.',\n",
       "  'reference': 'Wilful misrepresentation by landholders and watchmen, such as falsely reporting the circumstances of a death or passing false information about suspicious activities, directly relates to their legal responsibilities under section 212, which penalizes such acts when they hinder the prevention or investigation of offences. Additionally, under section 45, their actions can amount to abetting if they intentionally aid or instigate illegal acts through misrepresentation or concealment of material facts. Therefore, their duty to provide truthful information is crucial in upholding legal responsibilities and preventing the facilitation of offences.'},\n",
       " {'user_input': 'lottery illegal what happen if break law',\n",
       "  'reference_contexts': \"['<1-hop>\\\\n\\\\nBNS Section 297 Whoever keeps any office or place for the purpose of drawing any lottery not being a State lottery or a lottery authorised by the State Government, shall be punished with imprisonment of either description for a term which may extend to six months, or with fine, or with both. Whoever publishes any proposal to pay any sum, or to deliver any goods, or to do or forbear from doing anything for the benefit of any person, on any event or contingency relative or applicable to the drawing of any ticket, lot, number or figure in any such lottery, shall be punished with fine which may extend to five thousand rupees.']\",\n",
       "  'retrieved_contexts': ['BNS Section 297 Whoever keeps any office or place for the purpose of drawing any lottery not being a State lottery or a lottery authorised by the State Government, shall be punished with imprisonment of either description for a term which may extend to six months, or with fine, or with both. Whoever publishes any proposal to pay any sum, or to deliver any goods, or to do or forbear from doing anything for the benefit of any person, on any event or contingency relative or applicable to the drawing of any ticket, lot, number or figure in any such lottery, shall be punished with fine which may extend to five thousand rupees.',\n",
       "   'or property; “illegal”- “legally bound to do” The word “illegal” is applicable to everything which is an offence or which is prohibited by law, or which furnishes ground for a civil action; and a person is said to be “legally bound to do” whatever it is illegal in him to omit; “Judge” means a person who is officially designated as a Judge and includes a person: who is empowered by law to give, in any legal proceeding, civil or criminal, a definitive judgment, or a judgment which, if not appealed against, would be definitive, or a judgment which, if confirmed by some other authority, would be definitive; or who is one of a body or persons, which body of persons is empowered by law to give such a judgment. Illustration: A Magistrate exercising jurisdiction in respect of a charge on which he has power to sentence to fine or imprisonment, with or without appeal, is a Judge; “life” means the',\n",
       "   '“transgender” shall have the meaning assigned to it in clause (k) of section 2 of the Transgender Persons (Protection of Rights) Act, 2019; “good faith”. Nothing is said to be done or believed in “good faith” which is done or believed without due care and attention; “Government” means the Central Government or a State Government; “harbour”. except as otherwise provided in this Sanhita, includes the supplying a person with shelter, food, drink, money, clothes, arms, ammunition or means of conveyance, or the assisting a person by any means, whether of the same kind as those enumerated in this section or not, to evade apprehension; “injury” means any harm whatever illegally caused to any person, in body, mind, reputation or property; “illegal”- “legally bound to do” The word “illegal” is applicable to everything which is an offence or which is prohibited by law, or which furnishes ground',\n",
       "   'or if the offence be punishable with death or imprisonment for life, with imprisonment of either description for a term which may extend to ten years; or if the offence be not committed, shall be punished with imprisonment of any description provided for the offence for a term which may extend to one-fourth part of the longest term of such imprisonment or with such fine as is provided for the offence, or with both. Illustration: A, an officer of police, being legally bound to give information of all designs to commit robbery which may come to his knowledge, and knowing that B designs to commit robbery, omits to give such information, with intent to so facilitate the commission of that offence. Here A has by an illegal omission concealed the existence of B’s design, and is liable to punishment according to the provision of this section.',\n",
       "   'BNS Section 46 A person abets an offence, who abets either the commission of an offence, or the commission of an act which would be an offence, if committed by a person capable by law of committing an offence with the same intention or knowledge as that of the abettor. Explanation 1: The abetment of the illegal omission of an act may amount to an offence although the abettor may not himself be bound to do that act. Explanation 2: To constitute the offence of abetment it is not necessary that the act abetted should be committed, or that the effect requisite to constitute the offence should be caused. Illustrations: A instigates B to murder C. B refuses to do so. A is guilty of abetting B to commit murder. A instigates B to murder D. B in pursuance of the instigation stabs D. D recovers from the wound. A is guilty of instigating B to commit murder. Explanation 3: It is not necessary that'],\n",
       "  'response': 'The context does not explicitly specify what happens if someone breaks the law related to illegal lotteries.',\n",
       "  'reference': 'If someone keeps a place for drawing a lottery that is not authorized by the State, they can be punished with up to six months in prison, a fine, or both. Also, if they publish proposals related to such lotteries, they can be fined up to five thousand rupees.'},\n",
       " {'user_input': 'How does the legal classifcation of wilful conduct relate to the judicial process in cases of suicide or harassment?',\n",
       "  'reference_contexts': \"['<1-hop>\\\\n\\\\nBNS Section 107 If any person under eighteen years of age, any person with mental illness, any delirious person or any person in a state of intoxication, commits suicide, whoever abets the commission of such suicide, shall be punished with death or imprisonment for life, or imprisonment for a term not exceeding ten years, and shall also be liable to fine. BNSS Classification Death, or imprisonment for life, or imprisonment for 10 years and fine. Cognizable Non-Bailable Triable by Court of Session.', '<2-hop>\\\\n\\\\nBNS Section 86 For the purposes of section 85, “cruelty” means: any wilful conduct which is of such a nature as is likely to drive the woman to commit suicide or to cause grave injury or danger to life, limb or health (whether mental or physical) of the woman; or harassment of the woman where such harassment is with a view to coercing her or any person related to her to meet any unlawful demand for any property or valuable security or is on account of failure by her or any person related to her to meet such demand.']\",\n",
       "  'retrieved_contexts': ['BNS Section 86 For the purposes of section 85, “cruelty” means: any wilful conduct which is of such a nature as is likely to drive the woman to commit suicide or to cause grave injury or danger to life, limb or health (whether mental or physical) of the woman; or harassment of the woman where such harassment is with a view to coercing her or any person related to her to meet any unlawful demand for any property or valuable security or is on account of failure by her or any person related to her to meet such demand.',\n",
       "   'BNS Section 5 Explanations: For the purposes of this section the expression “appropriate Government” means, in cases where the sentence is a sentence of death or is for an offence against any law relating to a matter to which the executive power of the Union extends, the Central Government; and in cases where the sentence (whether of death or not) is for an offence against any law relating to a matter to which the executive power of the State extends, the Government of the State within which the offender is sentenced.',\n",
       "   'BNS Section 107 If any person under eighteen years of age, any person with mental illness, any delirious person or any person in a state of intoxication, commits suicide, whoever abets the commission of such suicide, shall be punished with death or imprisonment for life, or imprisonment for a term not exceeding ten years, and shall also be liable to fine. BNSS Classification Death, or imprisonment for life, or imprisonment for 10 years and fine. Cognizable Non-Bailable Triable by Court of Session.',\n",
       "   'or joining any society which invites the public support, in voting or canvassing for a particular candidate for any situation in the efficient discharge of the duties of which the public is interested. Exception 4: It is not defamation to publish substantially true report of the proceedings of a Court, or of the result of any such proceedings. Explanation: A Magistrate or other officer holding an enquiry in open Court preliminary to a trial in a Court, is a Court within the meaning of the above section. Exception 5: It is not defamation to express in good faith any opinion whatever respecting the merits of any case, civil or criminal, which has been decided by a Court, or respecting the conduct of any person as a party, witness or agent, in any such case, or respecting the character of such person, as far as his character appears in that conduct, and no further. Illustrations: (a) A say',\n",
       "   'BNS Section 108 If any person commits suicide, whoever abets the commission of such suicide, shall be punished with imprisonment of either description for a term which may extend to ten years, and shall also be liable to fine. BNSS Classification Imprisonment for 10 years and fine. Cognizable Non-Bailable Triable by Court of Session.'],\n",
       "  'response': 'The provided context does not explicitly detail how the legal classification of wilful conduct relates to the judicial process in cases of suicide or harassment.',\n",
       "  'reference': 'The legal classification of wilful conduct, as defined in section 86, involves intentional actions likely to cause grave injury or drive someone to commit suicide, which relates to the judicial process by determining whether such conduct constitutes cruelty. Under section 107, persons who abet suicide, including those involved in such wilful conduct, are punishable by death, life imprisonment, or up to ten years of imprisonment and a fine, with the case being triable by the Court of Session.'},\n",
       " {'user_input': 'Hwo does the law punish counterfiting of documments and electronic recods with fake authencticating devies or marks, and what are the consequences for possessing such counterfeited materials?',\n",
       "  'reference_contexts': \"['<1-hop>\\\\n\\\\nBNS Section 342 Whoever counterfeits upon, or in the substance of, any material, any device or mark used for the purpose of authenticating any document described in section 336 of this Sanhita, intending that such device or mark shall be used for the purpose of giving the appearance of authenticity to any document then forged or thereafter to be forged on such material, or who, with such intent, has in his possession any material upon or in the substance of which any such device or mark has been counterfeited, shall be punished with imprisonment for life, or with imprisonment of either description for a term which may extend to seven years, and shall also be liable to fine. Whoever counterfeits upon, or in the substance of, any material, any device or mark used for the purpose of authenticating any document or electronic record other than the documents described in section 336 of this Sanhita, intending that such device or mark shall be used for the purpose of giving the appearance of authenticity to any document then forged or thereafter to be forged on such material, or who with such intent, has in his possession any material upon or in the substance of which any such device or mark has been counterfeited, shall be punished with imprisonment of either description for a term which may extend to seven years, and shall also be liable to fine.']\",\n",
       "  'retrieved_contexts': ['substance of, any material, any device or mark used for the purpose of authenticating any document or electronic record other than the documents described in section 336 of this Sanhita, intending that such device or mark shall be used for the purpose of giving the appearance of authenticity to any document then forged or thereafter to be forged on such material, or who with such intent, has in his possession any material upon or in the substance of which any such device or mark has been counterfeited, shall be punished with imprisonment of either description for a term which may extend to seven years, and shall also be liable to fine.',\n",
       "   'BNS Section 342 Whoever counterfeits upon, or in the substance of, any material, any device or mark used for the purpose of authenticating any document described in section 336 of this Sanhita, intending that such device or mark shall be used for the purpose of giving the appearance of authenticity to any document then forged or thereafter to be forged on such material, or who, with such intent, has in his possession any material upon or in the substance of which any such device or mark has been counterfeited, shall be punished with imprisonment for life, or with imprisonment of either description for a term which may extend to seven years, and shall also be liable to fine. Whoever counterfeits upon, or in the substance of, any material, any device or mark used for the purpose of authenticating any document or electronic record other than the documents described in section 336 of this',\n",
       "   'be punishable under any section of this Chapter other than section 336, or, with such intent, has in his possession any such seal, plate or other instrument, knowing the same to be counterfeit, shall be punished with imprisonment of either description for a term which may extend to seven years, and shall also be liable to fine. Whoever possesses any seal, plate or other instrument knowing the same to be counterfeit, shall be punished with imprisonment of either description for a term which may extend to three years, and shall also be liable to fine. Whoever fraudulently or dishonestly uses as genuine any seal, plate or other instrument knowing or having reason to believe the same to be counterfeit, shall be punished in the same manner as if he had made or counterfeited such seal, plate or other instrument.',\n",
       "   'BNS Section 186 Whoever, makes, knowingly utters, deals in or sells any fictitious stamp, or knowingly uses for any postal purpose any fictitious stamp; or has in his possession, without lawful excuse, any fictitious stamp; or makes or, without lawful excuse, has in his possession any die, plate, instrument or materials for making any fictitious stamp, shall be punished with fine which may extend to two hundred rupees. Any such stamp, die, plate, instrument or materials in the possession of any person for making any fictitious stamp may be seized and, if seized shall be forfeited. In this section “fictitious stamp” means any stamp falsely purporting to be issued by Government for the purpose of denoting a rate of postage, or any facsimile or imitation or representation, whether on paper or otherwise, of any stamp issued by Government for that purpose. In this section and also in sections',\n",
       "   'BNS Section 340 A false document or electronic record made wholly or in part by forgery is designated “a forged document or electronic record”. Whoever fraudulently or dishonestly uses as genuine any document or electronic record which he knows or has reason to believe to be a forged document or electronic record, shall be punished in the same manner as if he had forged such document or electronic record. BNSS Classification Punishment for forgery of such document. Cognizable Bailable Triable by Magistrate of the first class.'],\n",
       "  'response': 'The law punishes the counterfeiting of documents and electronic records with fake authenticating devices or marks under section 342 of the Sanhita. If a person counterfeits any device or mark used for authenticating documents described in section 336, intending to give the appearance of authenticity to forged or to be forged documents, or if they possess materials on or in which such devices or marks have been counterfeited, they shall be punished with imprisonment for life or for a term which may extend to seven years, and also liable to a fine. \\n\\nRegarding the possession of such counterfeited materials, the law states that anyone who possesses any seal, plate, or other instrument knowing it to be counterfeit shall be punished with imprisonment of either description for a term which may extend to three years, and shall also be liable to a fine.',\n",
       "  'reference': 'According to the provided context, anyone who counterfeits devices or marks used for authenticating documents or electronic records, intending to give the appearance of authenticity to forged documents, can be punished with imprisonment for life or up to seven years, along with a fine. Additionally, possessing materials with counterfeited devices or marks, whether for documents described in section 336 or other documents, also leads to imprisonment of up to seven years and a fine.'},\n",
       " {'user_input': 'How do the legal provisions regarding unlawful assembly under Section 189 relate to causing bodily harm through acid attacks as described in Section 124, and what are the implications for criminal offences involving violence and unlawful acts?',\n",
       "  'reference_contexts': \"['<1-hop>\\\\n\\\\nBNS Section 189 An assembly of five or more persons is designated an “unlawful assembly”, if the common object of the persons composing that assembly is to overawe by criminal force, or show of criminal force, the Central Government or any State Government or Parliament or the Legislature of any State, or any public servant in the exercise of the lawful power of such public servant; or to resist the execution of any law, or of any legal process; or to commit any mischief or criminal trespass, or other offence; or by means of criminal force, or show of criminal force, to any person, to take or obtain possession of any property, or to deprive any person of the enjoyment of a right of way, or of the use of water or other incorporeal right of which he is in possession or enjoyment, or to enforce any right or supposed right; or by means of criminal force, or show of criminal force, to compel any person to do what he is not legally bound to do, or to omit to do what he is legally entitled to do. Explanation: An assembly which was not unlawful when it assembled, may subsequently become an unlawful assembly. Whoever, being aware of facts which render any assembly an unlawful assembly, intentionally joins that assembly, or continues in it, is said to be a member of an unlawful assembly and such member shall be punished with imprisonment of either description for a term which may extend to six months, or with fine, or with both. Whoever joins or continues in an unlawful assembly, knowing that such unlawful assembly has been commanded in the manner prescribed by law to disperse, shall be punished with imprisonment of either description for a term which may extend to two years, or with fine, or with both. Whoever, being armed with any deadly weapon, or with anything which, used as a weapon of offence, is likely to cause death, is a member of an unlawful assembly, shall be punished with imprisonment of either description for a term which may extend to two years, or with fine, or with both. Whoever knowingly joins or continues in any assembly of five or more persons likely to cause a disturbance of the public peace, after such assembly has been lawfully commanded to disperse, shall be punished with imprisonment of either description for a term which may extend to six months, or with fine, or with both. Explanation: If the assembly is an unlawful assembly within the meaning of sub-section (1), the offender shall be punishable under sub-section (3). Whoever hires or engages, or employs, or promotes, or connives at the hiring, engagement or employment of any person to join or become a member of any unlawful assembly, shall be punishable as a member of such unlawful assembly, and for any offence which may be committed by any such person as a member of such unlawful assembly in pursuance of such hiring, engagement or employment, in the same manner as if he had been a member of such unlawful assembly, or himself had committed such offence. Whoever harbours, receives or assembles, in any house or premises in his occupation or charge, or under his control any persons knowing that such persons have been hired, engaged or employed, or are about to be hired, engaged or employed, to join or become members of an unlawful assembly, shall be punished with imprisonment of either description for a term which may extend to six months, or with fine, or with both. Whoever is engaged, or hired, or offers or attempts to be hired or engaged, to do or assist in doing any of the acts specified in sub-section (1), shall be punished with imprisonment of either description for a term which may extend to six months, or with fine, or with both. Whoever, being so engaged or hired as referred to in sub-section (8), goes armed, or engages or offers to go armed, with any deadly weapon or with anything which used as a weapon of offence is likely to cause death, shall be punished with imprisonment of either description for a term which may extend to two years, or with fine, or with both.', '<2-hop>\\\\n\\\\nBNS Section 124 Whoever causes permanent or partial damage or deformity to, or burns or maims or disfigures or disables, any part or parts of the body of a person or causes grievous hurt by throwing acid on or by administering acid to that person, or by using any other means with the intention of causing or with the knowledge that he is likely to cause such injury or hurt or causes a person to be in a permanent vegetative state shall be punished with imprisonment of either description for a term which shall not be less than ten years but which may extend to imprisonment for life, and with fine; Provided that such fine shall be just and reasonable to meet the medical expenses of the treatment of the victim;Provided further that any fine imposed under this section shall be paid to the victim. Whoever throws or attempts to throw acid on any person or attempts to administer acid to any person, or attempts to use any other means, with the intention of causing permanent or partial damage or deformity or burns or maiming or disfigurement or disability or grievous hurt to that person, shall be punished with imprisonment of either description for a term which shall not be less than five years but which may extend to seven years, and shall also be liable to fine. Explanation 1: For the purposes of this section, “acid” includes any substance which has acidic or corrosive character or burning nature, that is capable of causing bodily injury leading to scars or disfigurement or temporary or permanent disability. Explanation 2: For the purposes of this section, permanent or partial damage or deformity or permanent vegetative state, shall not be required to be irreversible.']\",\n",
       "  'retrieved_contexts': ['other incorporeal right of which he is in possession or enjoyment, or to enforce any right or supposed right; or by means of criminal force, or show of criminal force, to compel any person to do what he is not legally bound to do, or to omit to do what he is legally entitled to do. Explanation: An assembly which was not unlawful when it assembled, may subsequently become an unlawful assembly. Whoever, being aware of facts which render any assembly an unlawful assembly, intentionally joins that assembly, or continues in it, is said to be a member of an unlawful assembly and such member shall be punished with imprisonment of either description for a term which may extend to six months, or with fine, or with both. Whoever joins or continues in an unlawful assembly, knowing that such unlawful assembly has been commanded in the manner prescribed by law to disperse, shall be punished with',\n",
       "   'BNS Section 189 An assembly of five or more persons is designated an “unlawful assembly”, if the common object of the persons composing that assembly is to overawe by criminal force, or show of criminal force, the Central Government or any State Government or Parliament or the Legislature of any State, or any public servant in the exercise of the lawful power of such public servant; or to resist the execution of any law, or of any legal process; or to commit any mischief or criminal trespass, or other offence; or by means of criminal force, or show of criminal force, to any person, to take or obtain possession of any property, or to deprive any person of the enjoyment of a right of way, or of the use of water or other incorporeal right of which he is in possession or enjoyment, or to enforce any right or supposed right; or by means of criminal force, or show of criminal force, to compel',\n",
       "   'bodily injury leading to scars or disfigurement or temporary or permanent disability. Explanation 2: For the purposes of this section, permanent or partial damage or deformity or permanent vegetative state, shall not be required to be irreversible.',\n",
       "   'Whoever joins or continues in an unlawful assembly, knowing that such unlawful assembly has been commanded in the manner prescribed by law to disperse, shall be punished with imprisonment of either description for a term which may extend to two years, or with fine, or with both. Whoever, being armed with any deadly weapon, or with anything which, used as a weapon of offence, is likely to cause death, is a member of an unlawful assembly, shall be punished with imprisonment of either description for a term which may extend to two years, or with fine, or with both. Whoever knowingly joins or continues in any assembly of five or more persons likely to cause a disturbance of the public peace, after such assembly has been lawfully commanded to disperse, shall be punished with imprisonment of either description for a term which may extend to six months, or with fine, or with both. Explanation:'],\n",
       "  'response': 'The provided context does not include information about Section 124 or specific provisions related to acid attacks or causing bodily harm through acid attacks. Therefore, I cannot determine how the legal provisions regarding unlawful assembly under Section 189 relate to Section 124 or to acid attacks.',\n",
       "  'reference': 'The provisions under Section 189 define an unlawful assembly as a group of five or more persons with a common object to commit acts such as overawing authorities, resisting lawful processes, or causing mischief, which can include causing bodily harm. Section 124 addresses specific acts of causing permanent or partial damage, deformity, or grievous hurt through acid attacks, with severe punishments including imprisonment for at least five years. Together, these sections highlight that participating in an unlawful assembly with the intent to cause bodily harm, such as acid attacks, constitutes a criminal offence under the law. The legal framework thus addresses both the collective nature of unlawful assemblies and the specific acts of violence, emphasizing the serious consequences for those involved in violent or unlawful acts that threaten public peace and individual safety.'},\n",
       " {'user_input': 'How do the legal provisions against false statements and misinformation relate to the legal consequences outlined in Sections 353 and 249?',\n",
       "  'reference_contexts': \"['<1-hop>\\\\n\\\\nBNS Section 353 Whoever makes, publishes or circulates any statement, false information, rumour, or report, including through electronic means, with intent to cause, or which is likely to cause, any officer, soldier, sailor or airman in the Army, Navy or Air Force of India to mutiny or otherwise disregard or fail in his duty as such; or with intent to cause, or which is likely to cause, fear or alarm to the public, or to any section of the public whereby any person may be induced to commit an offence against the State or against the public tranquility; or with intent to incite, or which is likely to incite, any class or community of persons to commit any offence against any other class or community, shall be punished with imprisonment which may extend to three years, or with fine, or with both. Whoever makes, publishes or circulates any statement or report containing false information, rumour or alarming news, including through electronic means, with intent to create or promote, or which is likely to create or promote, on grounds of religion, race, place of birth, residence, language, caste or community or any other ground whatsoever, feelings of enmity, hatred or ill will between different religious, racial, language or regional groups or castes or communities shall be punished with imprisonment which may extend to three years, or with fine, or with both. Whoever commits an offence specified in sub-section (2) in any place of worship or in any assembly engaged in the performance of religious worship or religious ceremonies, shall be punished with imprisonment which may extend to five years and shall also be liable to fine. Exception: It does not amount to an offence, within the meaning of this section, when the person making, publishing or circulating any such statement, false information, rumour or report, has reasonable grounds for believing that such statement, false information, rumour or report is true and makes, publishes or circulates it in good faith and without any such intent as aforesaid.', '<2-hop>\\\\n\\\\nBNS Section 249 if the offence is punishable with death, be punished with imprisonment of either description for a term which may extend to five years, and shall also be liable to fine; if the offence is punishable with imprisonment for life, or with imprisonment which may extend to ten years, be punished with imprisonment of either description for a term which may extend to three years, and shall also be liable to fine; if the offence is punishable with imprisonment which may extend to one year, and not to ten years, be punished with imprisonment of the description provided for the offence for a term which may extend to one-fourth part of the longest term of imprisonment provided for the offence, or with fine, or with both. Explanation: “Offence” in this section includes any act committed at any place out of India, which, if committed in India, would be punishable under any of the following sections, namely 97, 99, 172, 173, 174, 175, 301, 304, 305, 306, 320, 325 and 326 and every such act shall, for the purposes of this section, be deemed to be punishable as if the accused person had been guilty of it in India. Exception: This section shall not extend to any case in which the harbour or concealment is by the spouse of the offender. Illustration: A, knowing that B has committed dacoity, knowingly conceals B in order to screen him from legal punishment. Here, as B is liable to imprisonment for life, A is liable to imprisonment of either description for a term not exceeding three years, and is also liable to fine.']\",\n",
       "  'retrieved_contexts': ['fine, or with both. Explanation: “Offence” in this section includes any act committed at any place out of India, which, if committed in India, would be punishable under any of the following sections, namely 97, 99, 172, 173, 174, 175, 301, 304, 305, 306, 320, 325 and 326 and every such act shall, for the purposes of this section, be deemed to be punishable as if the accused person had been guilty of it in India. Exception: This section shall not extend to any case in which the harbour or concealment is by the spouse of the offender. Illustration: A, knowing that B has committed dacoity, knowingly conceals B in order to screen him from legal punishment. Here, as B is liable to imprisonment for life, A is liable to imprisonment of either description for a term not exceeding three years, and is also liable to fine.',\n",
       "   'BNS Section 249 if the offence is punishable with death, be punished with imprisonment of either description for a term which may extend to five years, and shall also be liable to fine; if the offence is punishable with imprisonment for life, or with imprisonment which may extend to ten years, be punished with imprisonment of either description for a term which may extend to three years, and shall also be liable to fine; if the offence is punishable with imprisonment which may extend to one year, and not to ten years, be punished with imprisonment of the description provided for the offence for a term which may extend to one-fourth part of the longest term of imprisonment provided for the offence, or with fine, or with both. Explanation: “Offence” in this section includes any act committed at any place out of India, which, if committed in India, would be punishable under any of the',\n",
       "   'with imprisonment which may extend to three years, or with fine, or with both. Whoever makes, publishes or circulates any statement or report containing false information, rumour or alarming news, including through electronic means, with intent to create or promote, or which is likely to create or promote, on grounds of religion, race, place of birth, residence, language, caste or community or any other ground whatsoever, feelings of enmity, hatred or ill will between different religious, racial, language or regional groups or castes or communities shall be punished with imprisonment which may extend to three years, or with fine, or with both. Whoever commits an offence specified in sub-section (2) in any place of worship or in any assembly engaged in the performance of religious worship or religious ceremonies, shall be punished with imprisonment which may extend to five years and',\n",
       "   'place of worship or in any assembly engaged in the performance of religious worship or religious ceremonies, shall be punished with imprisonment which may extend to five years and shall also be liable to fine. Exception: It does not amount to an offence, within the meaning of this section, when the person making, publishing or circulating any such statement, false information, rumour or report, has reasonable grounds for believing that such statement, false information, rumour or report is true and makes, publishes or circulates it in good faith and without any such intent as aforesaid.'],\n",
       "  'response': 'The provided context does not include specific details about Sections 353 and 249 or their legal provisions. Therefore, I cannot determine how the legal provisions against false statements and misinformation relate to the legal consequences outlined in those sections.',\n",
       "  'reference': 'The provisions in Section 353 criminalize the making, publishing, or circulating false statements or reports with intent to cause mutiny, fear, or enmity, punishable by imprisonment up to three years or a fine or both, especially when such statements incite offences against the state or community. Section 249 details the punishments for various offences, including those punishable with imprisonment up to ten years, with specific penalties depending on the severity of the offence. Together, these sections illustrate the legal consequences for false statements and misinformation, emphasizing the serious penalties imposed for such acts that threaten public order or safety.'},\n",
       " {'user_input': 'Based on Section 99 of BNS, how does the presumption of intent to use females for prostitution apply to individuals who buy or manage a brothel with regard to females under the age of eighteen, and what are the legal implications of this presumption in terms of classification and sentencing?',\n",
       "  'reference_contexts': \"['<1-hop>\\\\n\\\\nBNS Section 99 Explanation 1: Any prostitute or any person keeping or managing a brothel, who buys, hires or otherwise obtains possession of a female under the age of eighteen years shall, until the contrary is proved, be presumed to have obtained possession of such female with the intent that she shall be used for the purpose of prostitution. Explanation 2: “Illicit intercourse” has the same meaning as in section 96. BNSS Classification Imprisonment for not less than 7 years but which may extend to 14 years and fine. Cognizable Non-Bailable Triable by Court of Session.']\",\n",
       "  'retrieved_contexts': ['BNS Section 99 Explanation 1: Any prostitute or any person keeping or managing a brothel, who buys, hires or otherwise obtains possession of a female under the age of eighteen years shall, until the contrary is proved, be presumed to have obtained possession of such female with the intent that she shall be used for the purpose of prostitution. Explanation 2: “Illicit intercourse” has the same meaning as in section 96. BNSS Classification Imprisonment for not less than 7 years but which may extend to 14 years and fine. Cognizable Non-Bailable Triable by Court of Session.'],\n",
       "  'response': 'Based on Section 99 of BNS, any prostitute or person managing a brothel who acquires possession of a female under the age of eighteen is presumed, until proven otherwise, to have obtained her with the intent that she will be used for prostitution. This presumption applies automatically to such individuals, placing the burden of proof on them to demonstrate a different intent.\\n\\nThe legal implications of this presumption are significant. Under the BNSS classification, the offense is punishable by imprisonment for a minimum of 7 years, which may extend up to 14 years, along with a fine. The offense is cognizable, meaning police can arrest without a warrant, non-bailable, and triable by the Court of Session. This underscores the seriousness of the offense and the strict legal consequences associated with it.',\n",
       "  'reference': 'According to Section 99 of BNS, any prostitute or person managing a brothel who obtains possession of a female under the age of eighteen is presumed, until proven otherwise, to have obtained her with the intent that she shall be used for prostitution. This presumption applies to individuals involved in such activities, making it a legal inference of intent. The legal implications include classification under BNSS, with imprisonment for not less than 7 years, which may extend up to 14 years, along with a fine. The offense is cognizable, non-bailable, and triable by the Court of Session.'},\n",
       " {'user_input': \"How does the offender's death impact liability for fines and related liabilities according to the legal provisions outlined in Sections 8 and 249?\",\n",
       "  'reference_contexts': \"['<1-hop>\\\\n\\\\nBNS Section 8 Where no sum is expressed to which a fine may extend, the amount of fine to which the offender is liable is unlimited, but shall not be excessive. In every case of an offence, punishable with imprisonment as well as fine, in which the offender is sentenced to a fine, whether with or without imprisonment; punishable with imprisonment or fine, or with fine only, in which the offender is sentenced to a fine, it shall be competent to the Court which sentences such offender to direct by the sentence that, in default of payment of the fine, the offender shall suffer imprisonment for a certain term, in which imprisonment shall be in excess of any other imprisonment to which he may have been sentenced or to which he may be liable under a commutation of a sentence. The term for which the Court directs the offender to be imprisoned in default of payment of a fine shall not exceed one-fourth of the term of imprisonment which is the maximum fixed for the offence, if the offence be punishable with imprisonment as well as fine. The imprisonment which the Court imposes in default of payment of a fine or in default of community service may be of any description to which the offender might have been sentenced for the offence. If the offence is punishable with fine or community service, the imprisonment which the Court imposes in default of payment of the fine or in default of community service shall be simple, and the term for which the Court directs the offender to be imprisoned, in default of payment of fine or in default of community service, shall not exceed for any term not exceeding, two months when the amount of the fine shall not exceed five thousand rupees; and four months when the amount of the fine shall not exceed ten thousand rupees, and for any term not exceeding one year in any other case. — The imprisonment which is imposed in default of payment of a fine shall terminate whenever that fine is either paid or levied by process of law; If, before the expiration of the term of imprisonment fixed in default of payment, such a proportion of the fine be paid or levied that the term of imprisonment suffered in default of payment is not less than proportional to the part of the fine still unpaid, the imprisonment shall terminate. Illustration: A is sentenced to a fine of one thousand rupees and to four months’ imprisonment in default of payment. Here, if seven hundred and fifty rupees of the fine be paid or levied before the expiration of one month of the imprisonment, A will be discharged as soon as the first month has expired. If seven hundred and fifty rupees be paid or levied at the time of the expiration of the first month, or at any later time while A continues in imprisonment, A will be immediately discharged. If five hundred rupees of the fine be paid or levied before the expiration of two months of the imprisonment. A will be discharged as soon as the two months are completed. If five hundred rupees be paid or levied at the time of the expiration of those two months, or at any later time while A continues in imprisonment, A will be immediately discharged. The fine, or any part thereof which remains unpaid, may be levied at any time within six years after the passing of the sentence, and if, under the sentence, the offender be liable to imprisonment for a longer period than six years, then at any time previous to the expiration of that period; and the death of the offender does not discharge from the liability any property which would, after his death, be legally liable for his debts.', '<2-hop>\\\\n\\\\nBNS Section 249 if the offence is punishable with death, be punished with imprisonment of either description for a term which may extend to five years, and shall also be liable to fine; if the offence is punishable with imprisonment for life, or with imprisonment which may extend to ten years, be punished with imprisonment of either description for a term which may extend to three years, and shall also be liable to fine; if the offence is punishable with imprisonment which may extend to one year, and not to ten years, be punished with imprisonment of the description provided for the offence for a term which may extend to one-fourth part of the longest term of imprisonment provided for the offence, or with fine, or with both. Explanation: “Offence” in this section includes any act committed at any place out of India, which, if committed in India, would be punishable under any of the following sections, namely 97, 99, 172, 173, 174, 175, 301, 304, 305, 306, 320, 325 and 326 and every such act shall, for the purposes of this section, be deemed to be punishable as if the accused person had been guilty of it in India. Exception: This section shall not extend to any case in which the harbour or concealment is by the spouse of the offender. Illustration: A, knowing that B has committed dacoity, knowingly conceals B in order to screen him from legal punishment. Here, as B is liable to imprisonment for life, A is liable to imprisonment of either description for a term not exceeding three years, and is also liable to fine.']\",\n",
       "  'retrieved_contexts': ['BNS Section 8 Where no sum is expressed to which a fine may extend, the amount of fine to which the offender is liable is unlimited, but shall not be excessive. In every case of an offence, punishable with imprisonment as well as fine, in which the offender is sentenced to a fine, whether with or without imprisonment; punishable with imprisonment or fine, or with fine only, in which the offender is sentenced to a fine, it shall be competent to the Court which sentences such offender to direct by the sentence that, in default of payment of the fine, the offender shall suffer imprisonment for a certain term, in which imprisonment shall be in excess of any other imprisonment to which he may have been sentenced or to which he may be liable under a commutation of a sentence. The term for which the Court directs the offender to be imprisoned in default of payment of a fine shall not exceed',\n",
       "   'fine, or with both. Explanation: “Offence” in this section includes any act committed at any place out of India, which, if committed in India, would be punishable under any of the following sections, namely 97, 99, 172, 173, 174, 175, 301, 304, 305, 306, 320, 325 and 326 and every such act shall, for the purposes of this section, be deemed to be punishable as if the accused person had been guilty of it in India. Exception: This section shall not extend to any case in which the harbour or concealment is by the spouse of the offender. Illustration: A, knowing that B has committed dacoity, knowingly conceals B in order to screen him from legal punishment. Here, as B is liable to imprisonment for life, A is liable to imprisonment of either description for a term not exceeding three years, and is also liable to fine.',\n",
       "   'BNS Section 249 if the offence is punishable with death, be punished with imprisonment of either description for a term which may extend to five years, and shall also be liable to fine; if the offence is punishable with imprisonment for life, or with imprisonment which may extend to ten years, be punished with imprisonment of either description for a term which may extend to three years, and shall also be liable to fine; if the offence is punishable with imprisonment which may extend to one year, and not to ten years, be punished with imprisonment of the description provided for the offence for a term which may extend to one-fourth part of the longest term of imprisonment provided for the offence, or with fine, or with both. Explanation: “Offence” in this section includes any act committed at any place out of India, which, if committed in India, would be punishable under any of the',\n",
       "   'the term for which the Court directs the offender to be imprisoned, in default of payment of fine or in default of community service, shall not exceed for any term not exceeding, two months when the amount of the fine shall not exceed five thousand rupees; and four months when the amount of the fine shall not exceed ten thousand rupees, and for any term not exceeding one year in any other case. — The imprisonment which is imposed in default of payment of a fine shall terminate whenever that fine is either paid or levied by process of law; If, before the expiration of the term of imprisonment fixed in default of payment, such a proportion of the fine be paid or levied that the term of imprisonment suffered in default of payment is not less than proportional to the part of the fine still unpaid, the imprisonment shall terminate. Illustration: A is sentenced to a fine of one thousand'],\n",
       "  'response': \"The provided legal provisions in Sections 8 and 249 do not explicitly address how an offender's death impacts liability for fines and related liabilities.\",\n",
       "  'reference': \"According to Section 8, the liability for fines is unlimited unless specified otherwise, and the fine can be levied within six years after the sentence. The death of the offender does not discharge property from liability for debts, including fines. Section 249 specifies that for offences punishable with death or imprisonment, the penalties include imprisonment and fines, with the duration depending on the severity of the offence. The provisions indicate that even if the offender dies, the property remains liable for unpaid fines, and the legal liabilities related to fines and liabilities persist beyond the offender's death, ensuring that the state's claims for fines can be enforced against the offender's property.\"},\n",
       " {'user_input': 'How do legal punishments and imprisonment differ for causing grievous hurt under Section 117 and for giving false information under Section 212, and what are the specific penalties involved in each case according to the context?',\n",
       "  'reference_contexts': \"['<1-hop>\\\\n\\\\nBNS Section 117 Whoever, voluntarily causes hurt, if the hurt which he intends to cause or knows himself to be likely to cause is grievous hurt, and if the hurt which he causes is grievous hurt, is said “voluntarily to cause grievous hurt”. Whoever, except in the case provided for by sub-section (3), voluntarily causes grievous hurt, shall be punished with imprisonment of either description for a term which may extend to seven years, and shall also be liable to fine. Explanation: A person is not said voluntarily to cause grievous hurt except when he both causes grievous hurt and intends or knows himself to be likely to cause grievous hurt. But he is said voluntarily to cause grievous hurt, if intending or knowing himself to be likely to cause grievous hurt of one kind, he actually causes grievous hurt of another kind. Illustration: A, intending of knowing himself to be likely permanently to disfigure Z’s face, gives Z a blow which does not permanently disfigure Z’s face, but which causes Z to suffer severe bodily pain for the space of fifteen days. A has voluntarily caused grievous hurt. Whoever commits an offence under sub-section (1) and in the course of such commission causes any hurt to a person which causes that person to be in permanent disability or in persistent vegetative state, shall be punished with rigorous imprisonment for a term which shall not be less than ten years but which may extend to imprisonment for life, which shall mean imprisonment for the remainder of that person’s natural life. When grievous hurt of a person is caused by a group of five or more persons on the ground of his, race, caste, sex, place of birth, language, personal belief or any other ground, each member of such group shall be guilty of the offence of causing grievous hurt, and shall be punished with imprisonment of either description for a term which may extend to seven years, and shall also be liable to fine.', '<2-hop>\\\\n\\\\nBNS Section 212 shall be punished with simple imprisonment for a term which may extend to six months, or with fine which may extend to five thousand rupees, or with both; where the information which he is legally bound to give respects the commission of an offence, or is required for the purpose of preventing the commission of an offence, or in order to the apprehension of an offender, with imprisonment of either description for a term which may extend to two years, or with fine, or with both. Illustrations: A, a landholder, knowing of the commission of a murder within the limits of his estate, wilfully misinforms the Magistrate of the district that the death has occurred by accident in consequence of the bite of a snake. A is guilty of the offence defined in this section. A, a village watchman, knowing that a considerable body of strangers has passed through his village in order to commit a dacoity in the house of Z, residing in a neighbouring place, and being section 28 of the Bhartiya Nagarik Suraksha Sanhita, 2023 to give early and punctual information of the above fact to the officer of the nearest police-station, wilfully misinforms the police officer that a body of suspicious characters passed through the village with a view to commit dacoity in a certain distant place in a different direction. Here A is guilty of the offence defined in the latter part of this section. Explanation: In section 209 and in this section the word “offence” include any act committed at any place out of India, which, if committed in India, would be punishable under any of the following sections, namely, 97, 99, 172, 173, 174, 175, 301, clauses (b) to (d) of section 303, sections 304, 305, 306, 320, 325 and 326 and the word “offender” includes any person who is alleged to have been guilty of any such act.']\",\n",
       "  'retrieved_contexts': ['BNS Section 117 Whoever, voluntarily causes hurt, if the hurt which he intends to cause or knows himself to be likely to cause is grievous hurt, and if the hurt which he causes is grievous hurt, is said “voluntarily to cause grievous hurt”. Whoever, except in the case provided for by sub-section (3), voluntarily causes grievous hurt, shall be punished with imprisonment of either description for a term which may extend to seven years, and shall also be liable to fine. Explanation: A person is not said voluntarily to cause grievous hurt except when he both causes grievous hurt and intends or knows himself to be likely to cause grievous hurt. But he is said voluntarily to cause grievous hurt, if intending or knowing himself to be likely to cause grievous hurt of one kind, he actually causes grievous hurt of another kind. Illustration: A, intending of knowing himself to be likely permanently',\n",
       "   'life, which shall mean imprisonment for the remainder of that person’s natural life. When grievous hurt of a person is caused by a group of five or more persons on the ground of his, race, caste, sex, place of birth, language, personal belief or any other ground, each member of such group shall be guilty of the offence of causing grievous hurt, and shall be punished with imprisonment of either description for a term which may extend to seven years, and shall also be liable to fine.',\n",
       "   'BNS Section 212 shall be punished with simple imprisonment for a term which may extend to six months, or with fine which may extend to five thousand rupees, or with both; where the information which he is legally bound to give respects the commission of an offence, or is required for the purpose of preventing the commission of an offence, or in order to the apprehension of an offender, with imprisonment of either description for a term which may extend to two years, or with fine, or with both. Illustrations: A, a landholder, knowing of the commission of a murder within the limits of his estate, wilfully misinforms the Magistrate of the district that the death has occurred by accident in consequence of the bite of a snake. A is guilty of the offence defined in this section. A, a village watchman, knowing that a considerable body of strangers has passed through his village in order to',\n",
       "   'himself to be likely to cause grievous hurt of one kind, he actually causes grievous hurt of another kind. Illustration: A, intending of knowing himself to be likely permanently to disfigure Z’s face, gives Z a blow which does not permanently disfigure Z’s face, but which causes Z to suffer severe bodily pain for the space of fifteen days. A has voluntarily caused grievous hurt. Whoever commits an offence under sub-section (1) and in the course of such commission causes any hurt to a person which causes that person to be in permanent disability or in persistent vegetative state, shall be punished with rigorous imprisonment for a term which shall not be less than ten years but which may extend to imprisonment for life, which shall mean imprisonment for the remainder of that person’s natural life. When grievous hurt of a person is caused by a group of five or more persons on the ground of'],\n",
       "  'response': 'Under Section 117, causing grievous hurt intentionally or knowingly, when the hurt is grievous, is punishable with imprisonment for a term which may extend to seven years, and also liable to a fine. If the grievous hurt is caused by a group of five or more persons on certain grounds, each member is also liable for the same punishment, which can extend up to seven years, along with a fine.\\n\\nIn contrast, under Section 212, giving false information regarding the commission of an offence, or information required to prevent or apprehend an offender, is punishable with simple imprisonment for a term which may extend to six months, or with a fine which may extend to five thousand rupees, or with both. If the false information concerns the commission of an offence or is given to prevent or apprehend an offender, the punishment can be imprisonment for up to two years, or a fine, or both.\\n\\nTherefore, the key differences are:\\n- The punishment for causing grievous hurt can be up to seven years of imprisonment plus a fine, reflecting a more severe penalty.\\n- The punishment for giving false information is generally less severe, with a maximum of six months to two years of imprisonment, and a fine up to five thousand rupees.\\n\\nSpecific penalties involved:\\n- Causing grievous hurt: imprisonment up to 7 years and fine.\\n- Giving false information: imprisonment up to 6 months (or 2 years if related to offence prevention), and fine up to 5,000 rupees.',\n",
       "  'reference': 'Under Section 117, causing grievous hurt intentionally or knowing that it is likely to cause grievous hurt can lead to imprisonment for up to seven years and a fine, with harsher penalties such as rigorous imprisonment for at least ten years or life imprisonment if the hurt results in permanent disability or persistent vegetative state. Additionally, if grievous hurt is caused by a group based on certain grounds, each member faces similar imprisonment terms and fines. In contrast, under Section 212, giving false information regarding the commission of an offence is punishable by simple imprisonment for up to six months, or a fine up to five thousand rupees, or both; or, in cases where the information is given to prevent or assist in the apprehension of an offender, the punishment can extend to two years of imprisonment, along with a fine or both. These penalties reflect the legal punishment and imprisonment themes, illustrating the severity and specific consequences associated with each offence.'},\n",
       " {'user_input': 'What is the diffrence between BNS Section 220 and BNS Section 142 in terms of punishment and legal process, especially considering the classification and bail status?',\n",
       "  'reference_contexts': \"['<1-hop>\\\\n\\\\nBNS Section 220 BNSS Classification Imprisonment for 1 month, or fine of 200 rupees, or both. Non-cognizable Bailable Triable by Any Magistrate.', '<2-hop>\\\\n\\\\nBNS Section 142 BNSS Classification Punishment for kidnapping or abduction. Cognizable Non-bailable Triable by Court by which the kidnapping or abduction is triable.']\",\n",
       "  'retrieved_contexts': ['BNS Section 220 BNSS Classification Imprisonment for 1 month, or fine of 200 rupees, or both. Non-cognizable Bailable Triable by Any Magistrate.',\n",
       "   'BNS Section 142 BNSS Classification Punishment for kidnapping or abduction. Cognizable Non-bailable Triable by Court by which the kidnapping or abduction is triable.'],\n",
       "  'response': 'Based on the provided context, the differences between BNS Section 220 and BNS Section 142 are as follows:\\n\\n1. **Punishment:**\\n   - **Section 220:** Imprisonment for 1 month, or a fine of 200 rupees, or both.\\n   - **Section 142:** The specific punishment is not detailed in the provided context, but it pertains to punishment for kidnapping or abduction, which typically involves more severe penalties.\\n\\n2. **Legal Process and Classification:**\\n   - **Section 220:** Classified as non-cognizable, bailable, and triable by any magistrate.\\n   - **Section 142:** Classified as cognizable, non-bailable, and triable by the court where the kidnapping or abduction is triable.\\n\\n3. **Bail Status:**\\n   - **Section 220:** Bailable, meaning the accused can be released on bail.\\n   - **Section 142:** Non-bailable, meaning the accused cannot be released on bail as a matter of right.\\n\\n4. **Cognizability:**\\n   - **Section 220:** Non-cognizable, meaning police cannot arrest without a warrant and cannot start an investigation without magistrate approval.\\n   - **Section 142:** Cognizable, allowing police to arrest without warrant and to start an investigation without magistrate approval.\\n\\nIn summary, Section 220 deals with a less severe offense with a specific punishment, is bailable, and non-cognizable, whereas Section 142 involves a more serious offense with different legal procedures, is non-bailable, and cognizable.',\n",
       "  'reference': 'BNS Section 220 pertains to classification with imprisonment for 1 month, a fine of 200 rupees, or both, and is non-cognizable, bailable, and triable by any magistrate. In contrast, BNS Section 142 involves punishment for kidnapping or abduction, which is cognizable, non-bailable, and triable by the court where the kidnapping or abduction is triable, indicating a more serious offense with different legal procedures.'},\n",
       " {'user_input': 'How do BNS Sections 111 and 120 collectively address the legal measures against organized crime activities such as forgery, counterfeiting, and extortion, and what are the specific punishments outlined for violations involving these unlawful activities?',\n",
       "  'reference_contexts': \"['<1-hop>\\\\n\\\\nBNS Section 111 Any continuing unlawful activity including kidnapping, robbery, vehicle theft, extortion, land grabbing, contract killing, economic offences, cyber-crimes, trafficking of persons, drugs, weapons or illicit goods or services, human trafficking for prostitution or ransom, by any person or a group of persons acting in concert, singly or jointly, either as a member of an organised crime syndicate or on behalf of such syndicate, by use of violence, threat of violence, intimidation, coercion, or by any other unlawful means to obtain direct or indirect material benefit including a financial benefit, shall constitute organised crime. Explanation: For the purposes of this sub-section, “organised crime syndicate” means a group of two or more persons who, acting either singly or jointly, as a syndicate or gang indulge in any continuing unlawful activity; “continuing unlawful activity” means an activity prohibited by law which is a cognizable offence punishable with imprisonment of three years or more, undertaken by any person, either singly or jointly, as a member of an organised crime syndicate or on behalf of such syndicate in respect of which more than one charge-sheets have been filed before a competent Court within the preceding period of ten years and that Court has taken cognizance of such offence, and includes economic offence; “economic offences” include criminal breach of trust, forgery, counterfeiting of currency-notes, bank-notes and Government stamps, hawala transaction, mass-marketing fraud or running any scheme to defraud several persons or doing any act in any manner with a view to defraud any bank or financial institution or any other institution or organisation for obtaining monetary benefits in any form. Whoever, commits organised crime shall, if such offence has resulted in the death of any person, be punished with death or imprisonment for life, and shall also be liable to fine which shall not be less than ten lakh rupees; in any other case, be punished with imprisonment for a term which shall not be less than five years but which may extend to imprisonment for life, and shall also be liable to fine which shall not be less than five lakh rupees. Whoever abets, attempts, conspires or knowingly facilitates the commission of an organised crime, or otherwise engages in any act preparatory to an organised crime, shall be punished with imprisonment for a term which shall not be less than five years but which may extend to imprisonment for life, and shall also be liable to fine which shall not be less than five lakh rupees. Any person who is a member of an organised crime syndicate shall be punished with imprisonment for a term which shall not be less than five years but which may extend to imprisonment for life, and shall also be liable to fine which shall not be less than five lakh rupees. Whoever, intentionally, harbours or conceals any person who has committed the offence of an organised crime shall be punished with imprisonment for a term which shall not be less than three years but which may extend to imprisonment for life, and shall also be liable to fine which shall not be less than five lakh rupees: Provided that this sub-section shall not apply to any case in which the harbour or concealment is by the spouse of the offender. Whoever possesses any property derived or obtained from the commission of an organised crime or proceeds of any organised crime or which has been acquired through the organised crime, shall be punishable with imprisonment for a term which shall not be less than three years but which may extend to imprisonment for life and shall also be liable to fine which shall not be less than two lakh rupees. If any person on behalf of a member of an organised crime syndicate is, or at any time has been in possession of movable or immovable property which he cannot satisfactorily account for, shall be punishable with imprisonment for a term which shall not be less than three years but which may extend to imprisonment for ten years and shall also be liable to fine which shall not be less than one lakh rupees. Explanation: For the purposes of this section, “proceeds of any organised crime” means all kind of properties which have been derived or obtained from commission of any organised crime or have acquired through funds traceable to any organised crime and shall include cash, irrespective of person in whose name such proceeds are standing or in whose possession they are found.', '<2-hop>\\\\n\\\\nBNS Section 120 Whoever voluntarily causes hurt, for the purpose of extorting from the sufferer or from any person interested in the sufferer, any confession or any information which may lead to the detection of an offence or misconduct, or for the purpose of constraining the sufferer or any person interested in the sufferer to restore or to cause the restoration of any property or valuable security or to satisfy any claim or demand, or to give information which may lead to the restoration of any property or valuable security, shall be punished with imprisonment of either description for a term which may extend to seven years, and shall also be liable to fine. Whoever voluntarily causes grievous hurt for any purpose referred to in sub–section (1), shall be punished with imprisonment of either description for a term which may extend to ten years, and shall also be liable to fine. Illustrations: A, a police-officer, tortures Z in order to induce Z to confess that he committed a crime. A is guilty of an offence under this section. A, a police-officer, tortures B to induce him to point out where certain stolen property is deposited. A is guilty of an offence under this section. A, a revenue officer, tortures Z in order to compel him to pay certain arrears of revenue due from Z. A is guilty of an offence under this section.']\",\n",
       "  'retrieved_contexts': ['BNS Section 111 Any continuing unlawful activity including kidnapping, robbery, vehicle theft, extortion, land grabbing, contract killing, economic offences, cyber-crimes, trafficking of persons, drugs, weapons or illicit goods or services, human trafficking for prostitution or ransom, by any person or a group of persons acting in concert, singly or jointly, either as a member of an organised crime syndicate or on behalf of such syndicate, by use of violence, threat of violence, intimidation, coercion, or by any other unlawful means to obtain direct or indirect material benefit including a financial benefit, shall constitute organised crime. Explanation: For the purposes of this sub-section, “organised crime syndicate” means a group of two or more persons who, acting either singly or jointly, as a syndicate or gang indulge in any continuing unlawful activity; “continuing unlawful',\n",
       "   'any purpose referred to in sub–section (1), shall be punished with imprisonment of either description for a term which may extend to ten years, and shall also be liable to fine. Illustrations: A, a police-officer, tortures Z in order to induce Z to confess that he committed a crime. A is guilty of an offence under this section. A, a police-officer, tortures B to induce him to point out where certain stolen property is deposited. A is guilty of an offence under this section. A, a revenue officer, tortures Z in order to compel him to pay certain arrears of revenue due from Z. A is guilty of an offence under this section.',\n",
       "   'syndicate” means a group of two or more persons who, acting either singly or jointly, as a syndicate or gang indulge in any continuing unlawful activity; “continuing unlawful activity” means an activity prohibited by law which is a cognizable offence punishable with imprisonment of three years or more, undertaken by any person, either singly or jointly, as a member of an organised crime syndicate or on behalf of such syndicate in respect of which more than one charge-sheets have been filed before a competent Court within the preceding period of ten years and that Court has taken cognizance of such offence, and includes economic offence; “economic offences” include criminal breach of trust, forgery, counterfeiting of currency-notes, bank-notes and Government stamps, hawala transaction, mass-marketing fraud or running any scheme to defraud several persons or doing any act in any manner',\n",
       "   'BNS Section 120 Whoever voluntarily causes hurt, for the purpose of extorting from the sufferer or from any person interested in the sufferer, any confession or any information which may lead to the detection of an offence or misconduct, or for the purpose of constraining the sufferer or any person interested in the sufferer to restore or to cause the restoration of any property or valuable security or to satisfy any claim or demand, or to give information which may lead to the restoration of any property or valuable security, shall be punished with imprisonment of either description for a term which may extend to seven years, and shall also be liable to fine. Whoever voluntarily causes grievous hurt for any purpose referred to in sub–section (1), shall be punished with imprisonment of either description for a term which may extend to ten years, and shall also be liable to fine.'],\n",
       "  'response': 'BNS Section 111 addresses organized crime activities by defining and criminalizing continuing unlawful activities, including economic offences such as forgery and counterfeiting. It stipulates that any such activity conducted by a group or individual acting in concert, using violence, threats, or other unlawful means to obtain material benefits, constitutes organized crime. The section provides that individuals involved in these activities shall be punished with imprisonment for up to ten years and may also be fined.\\n\\nBNS Section 120 specifically targets acts of causing hurt or grievous hurt for the purpose of extorting confessions, information, or property. It prescribes that voluntary causing of hurt for extortion-related purposes can result in imprisonment for up to seven years, with grievous hurt punishable by up to ten years of imprisonment, along with a fine.\\n\\nCollectively, these sections establish a legal framework where organized crime activities such as forgery, counterfeiting, and extortion are criminalized with specific punishments. Section 111 addresses the broader scope of organized criminal conduct with penalties up to ten years and fines, while Section 120 focuses on the specific act of causing hurt for extortion, with punishments up to ten years for grievous hurt. This combination aims to deter and penalize various unlawful activities associated with organized crime.',\n",
       "  'reference': 'BNS Section 111 defines organized crime as continuing unlawful activities including economic offences like forgery and counterfeiting of currency, which are punishable with imprisonment of not less than five years and fines of at least five lakh rupees, with harsher penalties if such activities result in death. It also specifies punishments for those who abet, conceal, or possess proceeds derived from organized crime. Meanwhile, BNS Section 120 addresses acts of causing hurt or grievous hurt for extorting confessions, property, or information, with punishments extending up to ten years of imprisonment and fines. Collectively, these sections establish comprehensive legal measures to combat organized crime and related coercive activities, prescribing stringent penalties to deter such unlawful conduct.'},\n",
       " {'user_input': 'if someone makes or signs or seals or executes a document or electronic record or signature or alters it or causes someone else to sign or alter it without lawful authority and also if that person is convicted under BNS Section 85 for imprisonment of 3 years and fine, then does that mean that person committed forgery under BNS Section 335 and also that person can be imprisoned for 3 years and fined under BNS Section 85, and is it true that the offence is cognizable and triable by a magistrate of the first class, even if the person is accused of both forgery and the offence under BNS Section 85?',\n",
       "  'reference_contexts': \"['<1-hop>\\\\n\\\\nBNS Section 335 Who dishonestly or fraudulently, makes, signs, seals or executes a document or part of a document; makes or transmits any electronic record or part of any electronic record; affixes any electronic signature on any electronic record; makes any mark denoting the execution of a document or the authenticity of the electronic signature, with the intention of causing it to be believed that such document or part of document, electronic record or electronic signature was made, signed, sealed, executed, transmitted or affixed by or by the authority of a person by whom or by whose authority he knows that it was not made, signed, sealed, executed or affixed; or Who without lawful authority, dishonestly or fraudulently, by cancellation or otherwise, alters a document or an electronic record in any material part thereof, after it has been made, executed or affixed with electronic signature either by himself or by any other person, whether such person be living or dead at the time of such alteration; or Who dishonestly or fraudulently causes any person to sign, seal, execute or alter a document or an electronic record or to affix his electronic signature on any electronic record knowing that such person by reason of mental illness or intoxication cannot, or that by reason of deception practised upon him, he does not know the contents of the document or electronic record or the nature of the alteration. Illustrations: A has a letter of credit upon B for rupees 10,000, written by Z. A, in order to defraud B, adds cipher to the 10,000, and makes the sum 1,00,000 intending that it may be believed by B that Z so wrote the letter. A has committed forgery. A, without Z’s authority, affixes Z’s seal to a document purporting to be a conveyance of an estate from Z to A, with the intention of selling the estate to B and thereby of obtaining from B the purchase-money. A has committed forgery. A picks up a cheque on a banker signed by B, payable to bearer, but without any sum having been inserted in the cheque. A fraudulently fills up the cheque by inserting the sum of ten thousand rupees. A commits forgery. A leaves with B, his agent, a cheque on a banker, signed by A, without inserting the sum payable and authorises B to fill up the cheque by inserting a sum not exceeding ten thousand rupees for the purpose of making certain payments. B fraudulently fills up the cheque by inserting the sum of twenty thousand rupees. B commits forgery. A draws a bill of exchange on himself in the name of B without B’s authority, intending to discount it as a genuine bill with a banker and intending to take up the bill on its maturity. Here, as A draws the bill with intent to deceive the banker by leading him to suppose that he had the security of B, and thereby to discount the bill, A is guilty of forgery. Z’s will contains these word “I direct that all my remaining property be equally divided between A, B and C.” A dishonestly scratches out B’s name, intending that it may be believed that the whole was left to himself and C. A has committed forgery. A endorses a Government promissory note and makes it payable to Z or his order by writing on the bill the words “Pay to Z or his order” and signing the endorsement. B dishonestly erases the words “Pay to Z or his order”, and thereby converts the special endorsement into a blank endorsement. B commits forgery. A sells and conveys an estate to Z. A afterwards, in order to defraud Z of his estate, executes a conveyance of the same estate to B, dated six months earlier than the date of the conveyance to Z, intending it to be believed that he had conveyed the estate to B before he conveyed it to Z. A has committed forgery. Z dictates his will to A. A intentionally writes down a different legatee named by Z, and by representing to Z that he has prepared the will according to his instructions, induces Z to sign the will. A has committed forgery. A writes a letter and signs it with B’s name without B’s authority, certifying that A is a man of good character and in distressed circumstances from unforeseen misfortune, intending by means of such letter to obtain alms from Z and other persons. Here, as A made a false document in order to induce Z to part with property, A has committed forgery. A without B’s authority writes a letter and signs it in B’s name certifying to A’s character, intending thereby to obtain employment under Z. A has committed forgery in as much as he intended to deceive Z by the forged certificate, and thereby to induce Z to enter into an express or implied contract for service. Explanation 1: A man’s signature of his own name may amount to forgery. Illustrations: A signs his own name to a bill of exchange, intending that it may be believed that the bill was drawn by another person of the same name. A has committed forgery. A writes the word “accepted” on a piece of paper and signs it with Z’s name, in order that B may afterwards write on the paper a bill of exchange drawn by B upon Z, and negotiate the bill as though it had been accepted by Z. A is guilty of forgery; and if B, knowing the fact, draws the bill upon the paper pursuant to A’s intention, B is also guilty of forgery. A picks up a bill of exchange payable to the order of a different person of the same name. A endorses the bill in his own name, intending to cause it to be believed that it was endorsed by the person to whose order it was payable; here A has committed forgery. A purchases an estate sold under execution of a decree against B. B, after the seizure of the estate, in collusion with Z, executes a lease of the estate, to Z at a nominal rent and for a long period and dates the lease six months prior to the seizure, with intent to defraud A, and to cause it to be believed that the lease was granted before the seizure. B, though he executes the lease in his own name, commits forgery by antedating it. A, a trader, in anticipation of insolvency, lodges effects with B for A’s benefit, and with intent to defraud his creditors; and in order to give a colour to the transaction, writes a promissory note binding himself to pay to B a sum for value received, and antedates the note, intending that it may be believed to have been made before A was on the point of insolvency. A has committed forgery under the first head of the definition. Explanation 2: The making of a false document in the name of a fictious person, intending it to be believed that the document was made by a real person, or in the name of a deceased person, intending it to be believed that the document was made by the person in his lifetime, may amount to forgery. Illustration: A draws a bill of exchange upon a fictious person, and fraudulently accepts the bill in the name of such fictitious person with intent to negotiate it. A commits forgery. Explanation 3: For the purposes of this section, the expression “affixing electronic signature” shall have the meaning assigned to it in clause (d) of sub-section (1) of section 2 of the Information Technology Act, 2000.', '<2-hop>\\\\n\\\\nBNS Section 85 BNSS Classification Imprisonment for 3 years and fine. Cognizable if information relating to the commission of the offence is given to an officer in charge of a police station by the person aggrieved by the offence or by any person related to her by blood, marriage or adoption or if there is no such relative, by any public servant belonging to such class or category as may be notified by the State Government in this behalf. Non-bailable Triable by Magistrate of the first class']\",\n",
       "  'retrieved_contexts': ['warrant, apprehends Z, who has committed murder. Here A is not guilty of the offence of wrongful confinement; for he was bound by law to apprehend Z, and therefore the case falls within the general exception which provides that “nothing is an offence which is done by a person who is bound by law to do it”. Every expression which is explained in any Part of this Sanhita, is used in every Part of this Sanhita in conformity with the explanation. When property is in the possession of a person’s spouse, clerk or servant, on account of that person, it is in that person’s possession within the meaning of this Sanhita. Explanation: A person employed temporarily or on a particular occasion in the capacity of a clerk or servant, is a clerk or servant within the meaning of this sub-section. In every Part of this Sanhita, except where a contrary intention appears from the context, words which refer',\n",
       "   'a cheque on a banker, signed by A, without inserting the sum payable and authorises B to fill up the cheque by inserting a sum not exceeding ten thousand rupees for the purpose of making certain payments. B fraudulently fills up the cheque by inserting the sum of twenty thousand rupees. B commits forgery. A draws a bill of exchange on himself in the name of B without B’s authority, intending to discount it as a genuine bill with a banker and intending to take up the bill on its maturity. Here, as A draws the bill with intent to deceive the banker by leading him to suppose that he had the security of B, and thereby to discount the bill, A is guilty of forgery. Z’s will contains these word “I direct that all my remaining property be equally divided between A, B and C.” A dishonestly scratches out B’s name, intending that it may be believed that the whole was left to himself and C. A has',\n",
       "   'BNS Section 3 Throughout this Sanhita every definition of an offence, every penal provision, and every Illustration of every such definition or penal provision, shall be understood subject to the exceptions contained in the Chapter entitled “General Exceptions”, though those exceptions are not repeated in such definition, penal provision, or Illustration. Illustrations: The sections, in this Sanhita which contain definitions of offences, do not express that a child under seven years of age cannot commit such offences; but the definitions are to be understood subject to the general exception which provides that nothing shall be an offence which is done by a child under seven years of age. A, a police-officer, without warrant, apprehends Z, who has committed murder. Here A is not guilty of the offence of wrongful confinement; for he was bound by law to apprehend Z, and therefore the case',\n",
       "   'A has a letter of credit upon B for rupees 10,000, written by Z. A, in order to defraud B, adds cipher to the 10,000, and makes the sum 1,00,000 intending that it may be believed by B that Z so wrote the letter. A has committed forgery. A, without Z’s authority, affixes Z’s seal to a document purporting to be a conveyance of an estate from Z to A, with the intention of selling the estate to B and thereby of obtaining from B the purchase-money. A has committed forgery. A picks up a cheque on a banker signed by B, payable to bearer, but without any sum having been inserted in the cheque. A fraudulently fills up the cheque by inserting the sum of ten thousand rupees. A commits forgery. A leaves with B, his agent, a cheque on a banker, signed by A, without inserting the sum payable and authorises B to fill up the cheque by inserting a sum not exceeding ten thousand rupees for the purpose of'],\n",
       "  'response': 'The provided context does not explicitly address the specific legal provisions related to making, signing, sealing, executing, or altering a document or electronic record or signature without lawful authority, nor does it specify the relationship between offences under BNS Section 85 and BNS Section 335 regarding imprisonment, fines, or the nature of the offence (cognizable or triable). \\n\\nTherefore, I cannot definitively answer whether such conduct constitutes forgery under BNS Section 335, whether the person can be imprisoned for 3 years and fined under BNS Section 85, or whether the offence is cognizable and triable by a magistrate of the first class in cases involving both offences.',\n",
       "  'reference': 'Yes, based on the context, if someone dishonestly or fraudulently makes, signs, seals, or alters a document or electronic record or signature without lawful authority, they may have committed forgery under BNS Section 335. Additionally, if they are convicted under BNS Section 85, they can face imprisonment for 3 years and a fine. The offence under BNS Section 85 is cognizable if reported by the person affected or a related person or public servant, and it is triable by a magistrate of the first class. Therefore, a person accused of both forgery and the offence under BNS Section 85 could be subject to imprisonment and fines under both provisions, and the offence under Section 85 is indeed cognizable and triable by a magistrate of the first class.'},\n",
       " {'user_input': 'H0w does BNS Section 49 relate to the punishment for offences under BNS Section 323, especially in cases of abetment?',\n",
       "  'reference_contexts': \"['<1-hop>\\\\n\\\\nBNS Section 323 BNSS Classification Imprisonment for 3 years, or fine, or both. Non-cognizable Bailable Triable by Any Magistrate.', '<2-hop>\\\\n\\\\nBNS Section 49 Whoever abets any offence shall, if the act abetted is committed in consequence of the abetment, and no express provision is made by this Sanhita for the punishment of such abetment, be punished with the punishment provided for the offence. Explanation: An act or offence is said to be committed in consequence of abetment, when it is committed in consequence of the instigation, or in pursuance of the conspiracy, or with the aid which constitutes the abetment. Illustrations: A instigates B to give false evidence. B, in consequence of the instigation, commits that offence. A is guilty of abetting that offence, and is liable to the same punishment as B. A and B conspire to poison Z. A, in pursuance of the conspiracy, procures the poison and delivers it to B in order that he may administer it to Z. B, in pursuance of the conspiracy, administers the poison to Z in A’s absence and thereby causes Z’s death. Here B is guilty of murder. A is guilty of abetting that offence by conspiracy, and is liable to the punishment for murder.']\",\n",
       "  'retrieved_contexts': ['BNS Section 323 BNSS Classification Imprisonment for 3 years, or fine, or both. Non-cognizable Bailable Triable by Any Magistrate.',\n",
       "   'of the conspiracy, procures the poison and delivers it to B in order that he may administer it to Z. B, in pursuance of the conspiracy, administers the poison to Z in A’s absence and thereby causes Z’s death. Here B is guilty of murder. A is guilty of abetting that offence by conspiracy, and is liable to the punishment for murder.',\n",
       "   'BNS Section 49 Whoever abets any offence shall, if the act abetted is committed in consequence of the abetment, and no express provision is made by this Sanhita for the punishment of such abetment, be punished with the punishment provided for the offence. Explanation: An act or offence is said to be committed in consequence of abetment, when it is committed in consequence of the instigation, or in pursuance of the conspiracy, or with the aid which constitutes the abetment. Illustrations: A instigates B to give false evidence. B, in consequence of the instigation, commits that offence. A is guilty of abetting that offence, and is liable to the same punishment as B. A and B conspire to poison Z. A, in pursuance of the conspiracy, procures the poison and delivers it to B in order that he may administer it to Z. B, in pursuance of the conspiracy, administers the poison to Z in A’s absence'],\n",
       "  'response': 'BNS Section 49 states that whoever abets any offence shall, if the act abetted is committed as a consequence of the abetment, be punished with the same punishment provided for the offence. In the context of BNS Section 323, which pertains to imprisonment for 3 years, or a fine, or both, BNS Section 49 implies that if someone abets an offence under Section 323—such as conspiracy or aiding in the commission of the offence—they can be punished with the same penalty as the principal offence. Therefore, in cases of abetment under Section 49, the punishment for the abettor aligns with that prescribed for the actual offence under Section 323.',\n",
       "  'reference': 'BNS Section 49 states that whoever abets any offence shall, if the act is committed as a consequence of the abetment, be punished with the same punishment as the principal offence. Since BNS Section 323 involves imprisonment for 3 years, or fine, or both, and is a non-cognizable, bailable, triable offence, this means that if someone abets an offence under Section 323 and the offence is committed as a result of that abetment, the person who abetted can be punished with the same penalty as the actual offender.'},\n",
       " {'user_input': 'How do the provisions of BNS Section 335, which criminalizes dishonest or fraudulent alterations and forgeries involving documents and electronic records, relate to the classification and penalties outlined in BNS Section 87, particularly regarding imprisonment and fines, and what implications does this have for understanding the severity of such offenses under criminal law?',\n",
       "  'reference_contexts': \"['<1-hop>\\\\n\\\\nBNS Section 335 Who dishonestly or fraudulently, makes, signs, seals or executes a document or part of a document; makes or transmits any electronic record or part of any electronic record; affixes any electronic signature on any electronic record; makes any mark denoting the execution of a document or the authenticity of the electronic signature, with the intention of causing it to be believed that such document or part of document, electronic record or electronic signature was made, signed, sealed, executed, transmitted or affixed by or by the authority of a person by whom or by whose authority he knows that it was not made, signed, sealed, executed or affixed; or Who without lawful authority, dishonestly or fraudulently, by cancellation or otherwise, alters a document or an electronic record in any material part thereof, after it has been made, executed or affixed with electronic signature either by himself or by any other person, whether such person be living or dead at the time of such alteration; or Who dishonestly or fraudulently causes any person to sign, seal, execute or alter a document or an electronic record or to affix his electronic signature on any electronic record knowing that such person by reason of mental illness or intoxication cannot, or that by reason of deception practised upon him, he does not know the contents of the document or electronic record or the nature of the alteration. Illustrations: A has a letter of credit upon B for rupees 10,000, written by Z. A, in order to defraud B, adds cipher to the 10,000, and makes the sum 1,00,000 intending that it may be believed by B that Z so wrote the letter. A has committed forgery. A, without Z’s authority, affixes Z’s seal to a document purporting to be a conveyance of an estate from Z to A, with the intention of selling the estate to B and thereby of obtaining from B the purchase-money. A has committed forgery. A picks up a cheque on a banker signed by B, payable to bearer, but without any sum having been inserted in the cheque. A fraudulently fills up the cheque by inserting the sum of ten thousand rupees. A commits forgery. A leaves with B, his agent, a cheque on a banker, signed by A, without inserting the sum payable and authorises B to fill up the cheque by inserting a sum not exceeding ten thousand rupees for the purpose of making certain payments. B fraudulently fills up the cheque by inserting the sum of twenty thousand rupees. B commits forgery. A draws a bill of exchange on himself in the name of B without B’s authority, intending to discount it as a genuine bill with a banker and intending to take up the bill on its maturity. Here, as A draws the bill with intent to deceive the banker by leading him to suppose that he had the security of B, and thereby to discount the bill, A is guilty of forgery. Z’s will contains these word “I direct that all my remaining property be equally divided between A, B and C.” A dishonestly scratches out B’s name, intending that it may be believed that the whole was left to himself and C. A has committed forgery. A endorses a Government promissory note and makes it payable to Z or his order by writing on the bill the words “Pay to Z or his order” and signing the endorsement. B dishonestly erases the words “Pay to Z or his order”, and thereby converts the special endorsement into a blank endorsement. B commits forgery. A sells and conveys an estate to Z. A afterwards, in order to defraud Z of his estate, executes a conveyance of the same estate to B, dated six months earlier than the date of the conveyance to Z, intending it to be believed that he had conveyed the estate to B before he conveyed it to Z. A has committed forgery. Z dictates his will to A. A intentionally writes down a different legatee named by Z, and by representing to Z that he has prepared the will according to his instructions, induces Z to sign the will. A has committed forgery. A writes a letter and signs it with B’s name without B’s authority, certifying that A is a man of good character and in distressed circumstances from unforeseen misfortune, intending by means of such letter to obtain alms from Z and other persons. Here, as A made a false document in order to induce Z to part with property, A has committed forgery. A without B’s authority writes a letter and signs it in B’s name certifying to A’s character, intending thereby to obtain employment under Z. A has committed forgery in as much as he intended to deceive Z by the forged certificate, and thereby to induce Z to enter into an express or implied contract for service. Explanation 1: A man’s signature of his own name may amount to forgery. Illustrations: A signs his own name to a bill of exchange, intending that it may be believed that the bill was drawn by another person of the same name. A has committed forgery. A writes the word “accepted” on a piece of paper and signs it with Z’s name, in order that B may afterwards write on the paper a bill of exchange drawn by B upon Z, and negotiate the bill as though it had been accepted by Z. A is guilty of forgery; and if B, knowing the fact, draws the bill upon the paper pursuant to A’s intention, B is also guilty of forgery. A picks up a bill of exchange payable to the order of a different person of the same name. A endorses the bill in his own name, intending to cause it to be believed that it was endorsed by the person to whose order it was payable; here A has committed forgery. A purchases an estate sold under execution of a decree against B. B, after the seizure of the estate, in collusion with Z, executes a lease of the estate, to Z at a nominal rent and for a long period and dates the lease six months prior to the seizure, with intent to defraud A, and to cause it to be believed that the lease was granted before the seizure. B, though he executes the lease in his own name, commits forgery by antedating it. A, a trader, in anticipation of insolvency, lodges effects with B for A’s benefit, and with intent to defraud his creditors; and in order to give a colour to the transaction, writes a promissory note binding himself to pay to B a sum for value received, and antedates the note, intending that it may be believed to have been made before A was on the point of insolvency. A has committed forgery under the first head of the definition. Explanation 2: The making of a false document in the name of a fictious person, intending it to be believed that the document was made by a real person, or in the name of a deceased person, intending it to be believed that the document was made by the person in his lifetime, may amount to forgery. Illustration: A draws a bill of exchange upon a fictious person, and fraudulently accepts the bill in the name of such fictitious person with intent to negotiate it. A commits forgery. Explanation 3: For the purposes of this section, the expression “affixing electronic signature” shall have the meaning assigned to it in clause (d) of sub-section (1) of section 2 of the Information Technology Act, 2000.', '<2-hop>\\\\n\\\\nBNS Section 87 BNSS Classification Imprisonment for 10 years and fine Non-cognizable Non-bailable Triable by Court of Session']\",\n",
       "  'retrieved_contexts': ['a cheque on a banker, signed by A, without inserting the sum payable and authorises B to fill up the cheque by inserting a sum not exceeding ten thousand rupees for the purpose of making certain payments. B fraudulently fills up the cheque by inserting the sum of twenty thousand rupees. B commits forgery. A draws a bill of exchange on himself in the name of B without B’s authority, intending to discount it as a genuine bill with a banker and intending to take up the bill on its maturity. Here, as A draws the bill with intent to deceive the banker by leading him to suppose that he had the security of B, and thereby to discount the bill, A is guilty of forgery. Z’s will contains these word “I direct that all my remaining property be equally divided between A, B and C.” A dishonestly scratches out B’s name, intending that it may be believed that the whole was left to himself and C. A has',\n",
       "   'A has a letter of credit upon B for rupees 10,000, written by Z. A, in order to defraud B, adds cipher to the 10,000, and makes the sum 1,00,000 intending that it may be believed by B that Z so wrote the letter. A has committed forgery. A, without Z’s authority, affixes Z’s seal to a document purporting to be a conveyance of an estate from Z to A, with the intention of selling the estate to B and thereby of obtaining from B the purchase-money. A has committed forgery. A picks up a cheque on a banker signed by B, payable to bearer, but without any sum having been inserted in the cheque. A fraudulently fills up the cheque by inserting the sum of ten thousand rupees. A commits forgery. A leaves with B, his agent, a cheque on a banker, signed by A, without inserting the sum payable and authorises B to fill up the cheque by inserting a sum not exceeding ten thousand rupees for the purpose of',\n",
       "   'or fraudulently, by cancellation or otherwise, alters a document or an electronic record in any material part thereof, after it has been made, executed or affixed with electronic signature either by himself or by any other person, whether such person be living or dead at the time of such alteration; or Who dishonestly or fraudulently causes any person to sign, seal, execute or alter a document or an electronic record or to affix his electronic signature on any electronic record knowing that such person by reason of mental illness or intoxication cannot, or that by reason of deception practised upon him, he does not know the contents of the document or electronic record or the nature of the alteration. Illustrations: A has a letter of credit upon B for rupees 10,000, written by Z. A, in order to defraud B, adds cipher to the 10,000, and makes the sum 1,00,000 intending that it may be',\n",
       "   'remaining property be equally divided between A, B and C.” A dishonestly scratches out B’s name, intending that it may be believed that the whole was left to himself and C. A has committed forgery. A endorses a Government promissory note and makes it payable to Z or his order by writing on the bill the words “Pay to Z or his order” and signing the endorsement. B dishonestly erases the words “Pay to Z or his order”, and thereby converts the special endorsement into a blank endorsement. B commits forgery. A sells and conveys an estate to Z. A afterwards, in order to defraud Z of his estate, executes a conveyance of the same estate to B, dated six months earlier than the date of the conveyance to Z, intending it to be believed that he had conveyed the estate to B before he conveyed it to Z. A has committed forgery. Z dictates his will to A. A intentionally writes down a different legatee'],\n",
       "  'response': 'The provisions of BNS Section 335 criminalize dishonest or fraudulent alterations and forgeries involving documents and electronic records, establishing that such acts are offenses under criminal law. These provisions specify that any person who, with dishonest or fraudulent intent, alters a document or electronic record in a material part after it has been executed, or causes another person to sign, seal, or alter a document or record knowing that the person is unable to understand the contents or is deceived, commits an offense.\\n\\nBNS Section 87 outlines the penalties for such offenses, stating that a person guilty of forgery or related fraudulent acts can be subjected to imprisonment, which may extend to seven years, and may also be liable to a fine. This indicates that the law treats forgery and fraudulent alterations as serious crimes, with significant penalties designed to deter such conduct.\\n\\nThe relationship between Sections 335 and 87 underscores the severity with which the law approaches dishonest and fraudulent activities involving documents and electronic records. The criminalization under Section 335, combined with the prescribed punishments in Section 87, reflects the importance of maintaining integrity and trust in legal and financial documents. It emphasizes that such offenses are not only morally wrong but also carry substantial legal consequences, including imprisonment and fines, thereby highlighting their gravity under criminal law.',\n",
       "  'reference': 'BNS Section 335 defines various acts of dishonestly or fraudulently making, altering, or forging documents and electronic records, with specific illustrations demonstrating the scope of forgery and related offenses. It emphasizes the criminality of acts such as adding cipher to a cheque, executing false conveyances, or signing documents without authority, all with the intent to deceive or defraud. BNS Section 87 classifies offenses under the same Act as punishable by imprisonment for 10 years and a fine, indicating the serious nature of these crimes. Additionally, Section 87 specifies that such offenses are non-cognizable, non-bailable, and triable by the Court of Session, highlighting their gravity and the stringent legal procedures involved. Together, these sections underscore that fraudulent and forged acts involving documents and electronic records are considered severe criminal offenses, warranting significant penalties and strict judicial processes, which is crucial for understanding the legal framework governing such offenses under criminal law.'},\n",
       " {'user_input': 'How do the penalties under BNS Section 108 for abetting a suicide compare to those under BNS Section 221 for other offenses, considering their classification and trial procedures?',\n",
       "  'reference_contexts': \"['<1-hop>\\\\n\\\\nBNS Section 108 If any person commits suicide, whoever abets the commission of such suicide, shall be punished with imprisonment of either description for a term which may extend to ten years, and shall also be liable to fine. BNSS Classification Imprisonment for 10 years and fine. Cognizable Non-Bailable Triable by Court of Session.', '<2-hop>\\\\n\\\\nBNS Section 221 BNSS Classification Imprisonment for 3 months, or fine of 2,500 rupees, or both. Non-cognizable Bailable Triable by Any Magistrate.']\",\n",
       "  'retrieved_contexts': ['BNS Section 221 BNSS Classification Imprisonment for 3 months, or fine of 2,500 rupees, or both. Non-cognizable Bailable Triable by Any Magistrate.',\n",
       "   'BNS Section 108 If any person commits suicide, whoever abets the commission of such suicide, shall be punished with imprisonment of either description for a term which may extend to ten years, and shall also be liable to fine. BNSS Classification Imprisonment for 10 years and fine. Cognizable Non-Bailable Triable by Court of Session.'],\n",
       "  'response': 'The penalties under BNS Section 108 for abetting a suicide involve imprisonment for up to ten years and a fine, with the offense classified as cognizable and non-bailable, and triable by a Court of Session. In contrast, BNS Section 221 pertains to imprisonment for three months, a fine of 2,500 rupees, or both, with the offense classified as non-cognizable, bailable, and triable by any Magistrate. Therefore, the penalties for abetting a suicide under Section 108 are significantly more severe, reflecting a higher classification and more serious trial procedures compared to the offenses under Section 221.',\n",
       "  'reference': 'Under BNS Section 108, if a person commits suicide or abets its commission, the punishment includes imprisonment for up to ten years and a fine, with the offense classified as BNSS Classification, cognizable, non-bailable, and triable by a Court of Session. In contrast, BNS Section 221 prescribes imprisonment for three months, a fine of 2,500 rupees, or both, with the offense classified as BNSS, non-cognizable, bailable, and triable by any Magistrate. Therefore, the penalties under Section 108 are significantly more severe and involve different classification and trial procedures compared to those under Section 221.'},\n",
       " {'user_input': 'How do BNS Sections 11 and 232 collectively address the penalties for threats and false evidence, and what are the specific imprisonment terms involved according to each section?',\n",
       "  'reference_contexts': \"['<1-hop>\\\\n\\\\nBNS Section 11 a time not exceeding one month if the term of imprisonment shall not exceed six months; a time not exceeding two months if the term of imprisonment shall exceed six months and shall not exceed one year; a time not exceeding three months if the term of imprisonment shall exceed one year.', '<2-hop>\\\\n\\\\nBNS Section 232 Whoever threatens another with any injury to his person, reputation or property or to the person or reputation of any one in whom that person is interested, with intent to cause that person to give false evidence shall be punished with imprisonment of either description for a term which may extend to seven years, or with fine, or with both. If an innocent person is convicted and sentenced in consequence of false evidence referred to in sub-section (1), with death or imprisonment for more than seven years, the person who threatens shall be punished with the same punishment and sentence in the same manner and to the same extent such innocent person is punished and sentenced.']\",\n",
       "  'retrieved_contexts': ['BNS Section 232 Whoever threatens another with any injury to his person, reputation or property or to the person or reputation of any one in whom that person is interested, with intent to cause that person to give false evidence shall be punished with imprisonment of either description for a term which may extend to seven years, or with fine, or with both. If an innocent person is convicted and sentenced in consequence of false evidence referred to in sub-section (1), with death or imprisonment for more than seven years, the person who threatens shall be punished with the same punishment and sentence in the same manner and to the same extent such innocent person is punished and sentenced.',\n",
       "   'BNS Section 11 a time not exceeding one month if the term of imprisonment shall not exceed six months; a time not exceeding two months if the term of imprisonment shall exceed six months and shall not exceed one year; a time not exceeding three months if the term of imprisonment shall exceed one year.'],\n",
       "  'response': 'BNS Section 232 addresses the penalties for threatening another person with injury or harm with the intent to cause false evidence, specifying that the offender shall be punished with imprisonment for up to seven years, a fine, or both. Additionally, if an innocent person is convicted and sentenced to death or imprisonment exceeding seven years due to false evidence, the person who made the threat shall face the same punishment and sentence as the innocent person.\\n\\nBNS Section 11 pertains to the duration of imprisonment, specifying maximum terms based on the length of the original imprisonment: up to one month if the term does not exceed six months; up to two months if the term exceeds six months but does not exceed one year; and up to three months if the term exceeds one year.\\n\\nCollectively, these sections establish that threats to induce false evidence can result in imprisonment of up to seven years (per Section 232), with Section 11 providing specific maximum durations for imprisonment based on the severity of the sentence.',\n",
       "  'reference': 'BNS Section 11 specifies the duration of imprisonment based on the length of the term, with penalties ranging from a maximum of one to three months depending on the severity of the imprisonment term. In contrast, BNS Section 232 addresses threats made to induce false evidence, prescribing punishments that can extend up to seven years of imprisonment, along with fines or both. If an innocent person is convicted due to false evidence, the threatening individual faces the same punishment as the innocent person would have received, including death or imprisonment for more than seven years. Collectively, these sections delineate different penalties: Section 11 focuses on imprisonment durations related to specific offenses, while Section 232 prescribes more severe penalties for threats and false evidence, emphasizing the gravity of such actions.'},\n",
       " {'user_input': 'BNS Section 258 and 348 what difference in imprisonment or fine?',\n",
       "  'reference_contexts': \"['<1-hop>\\\\n\\\\nBNS Section 258 BNSS Classification Imprisonment for 7 years, or fine, or both. Non-cognizable Bailable Triable by Magistrate of the first class.', '<2-hop>\\\\n\\\\nBNS Section 348 BNSS Classification Imprisonment for 3 years, or fine, or both. Non-cognizable Bailable Triable by Magistrate of the first class.']\",\n",
       "  'retrieved_contexts': ['BNS Section 258 BNSS Classification Imprisonment for 7 years, or fine, or both. Non-cognizable Bailable Triable by Magistrate of the first class.',\n",
       "   'BNS Section 348 BNSS Classification Imprisonment for 3 years, or fine, or both. Non-cognizable Bailable Triable by Magistrate of the first class.'],\n",
       "  'response': 'The difference between BNS Section 258 and Section 348 lies in the length of imprisonment and the severity of the offense. Section 258 prescribes imprisonment for up to 7 years, or a fine, or both, whereas Section 348 prescribes imprisonment for up to 3 years, or a fine, or both.',\n",
       "  'reference': 'BNS Section 258 BNSS classification involves imprisonment for 7 years, or a fine, or both, and is non-cognizable, bailable, and triable by a magistrate of the first class. BNS Section 348 BNSS classification involves imprisonment for 3 years, or a fine, or both, and is also non-cognizable, bailable, and triable by a magistrate of the first class.'},\n",
       " {'user_input': 'what is the diffrence between BNS Section 67 and 71?',\n",
       "  'reference_contexts': \"['<1-hop>\\\\n\\\\nBNS Section 67 Whoever has sexual intercourse with his own wife, who is living separately, whether under a decree of separation or otherwise, without her consent, shall be punished with imprisonment of either description for a term which shall not be less than two years but which may extend to seven years, and shall also be liable to fine. Explanation: In this section, “sexual intercourse” shall mean any of the acts mentioned in clauses (a) to (d) of section 63. BNSS Classification Imprisonment for not less than 2 years but which may extend to 7 years and fine. Cognizable (only on the complaint of the victim) Bailable Triable by Court of Session', '<2-hop>\\\\n\\\\nBNS Section 71 BNSS Classification Imprisonment for life which shall mean imprisonment for the remainder of that person’s natural life or with death. Cognizable Non-bailable Triable by Court of Session']\",\n",
       "  'retrieved_contexts': ['BNS Section 71 BNSS Classification Imprisonment for life which shall mean imprisonment for the remainder of that person’s natural life or with death. Cognizable Non-bailable Triable by Court of Session',\n",
       "   'BNS Section 67 Whoever has sexual intercourse with his own wife, who is living separately, whether under a decree of separation or otherwise, without her consent, shall be punished with imprisonment of either description for a term which shall not be less than two years but which may extend to seven years, and shall also be liable to fine. Explanation: In this section, “sexual intercourse” shall mean any of the acts mentioned in clauses (a) to (d) of section 63. BNSS Classification Imprisonment for not less than 2 years but which may extend to 7 years and fine. Cognizable (only on the complaint of the victim) Bailable Triable by Court of Session'],\n",
       "  'response': \"The difference between BNS Section 67 and Section 71 lies in the nature of the offenses and their classifications:\\n\\n- **BNS Section 67** pertains to sexual intercourse with a wife who is living separately without her consent. The punishment includes imprisonment for a term of not less than two years and up to seven years, along with a fine. It is a cognizable, bailable offense triable by a Court of Session.\\n\\n- **BNS Section 71** relates to imprisonment for life, which means imprisonment for the remainder of the person's natural life or with death. It is classified as a serious offense, cognizable, non-bailable, and triable by a Court of Session.\\n\\nIn summary, Section 67 deals with a specific sexual offense with a defined imprisonment range and is bailable, whereas Section 71 pertains to life imprisonment or death, indicating a more severe offense with different legal implications.\",\n",
       "  'reference': 'BNS Section 67 pertains to punishment for having sexual intercourse with a wife living separately without her consent, with imprisonment from 2 to 7 years and a fine, and is bailable. In contrast, BNS Section 71 involves imprisonment for life or death, is non-bailable, and triable by Court of Session, indicating a more severe penalty.'},\n",
       " {'user_input': 'How do BNS Sections 15 and 102 relate to legal exemptions and culpable homicide?',\n",
       "  'reference_contexts': \"['<1-hop>\\\\n\\\\nBNS Section 102 If a person, by doing anything which he intends or knows to be likely to cause death, commits culpable homicide by causing the death of any person, whose death he neither intends nor knows himself to be likely to cause, the culpable homicide committed by the offender is of the description of which it would have been if he had caused the death of the person whose death he intended or knew himself to be likely to cause.', '<2-hop>\\\\n\\\\nBNS Section 15 Nothing is an offence which is done by a Judge when acting judicially in the exercise of any power which is, or which in good faith he believes to be, given to him by law.']\",\n",
       "  'retrieved_contexts': ['BNS Section 15 Nothing is an offence which is done by a Judge when acting judicially in the exercise of any power which is, or which in good faith he believes to be, given to him by law.',\n",
       "   'BNS Section 102 If a person, by doing anything which he intends or knows to be likely to cause death, commits culpable homicide by causing the death of any person, whose death he neither intends nor knows himself to be likely to cause, the culpable homicide committed by the offender is of the description of which it would have been if he had caused the death of the person whose death he intended or knew himself to be likely to cause.'],\n",
       "  'response': 'BNS Section 15 relates to legal exemptions by providing that nothing is an offence when a judge acts judicially within the scope of their lawful powers, even if their actions might otherwise be considered wrongful. This offers judicial immunity when acting in good faith and within legal authority.\\n\\nBNS Section 102 addresses culpable homicide by outlining the circumstances under which a person can be held liable for causing death, even if they did not intend to kill or know that their actions were likely to cause death. It clarifies how liability is determined based on the intent or knowledge of the offender, and how the nature of the homicide is classified accordingly.\\n\\nTogether, these sections distinguish between lawful judicial actions that are protected from criminal liability (Section 15) and the criteria for criminal liability in cases of homicide based on intent or knowledge (Section 102).',\n",
       "  'reference': 'BNS Section 102 addresses culpable homicide committed when a person causes death intentionally or likely to cause death, outlining the legal implications of such acts. In contrast, BNS Section 15 states that nothing is an offence when a judge acts judicially within the powers given by law, even if in good faith. Together, these sections highlight that while culpable homicide is a serious offence, judicial actions performed in good faith are exempt from liability, emphasizing the importance of lawful authority and intent in legal compliance.'}]"
      ]
     },
     "execution_count": 9,
     "metadata": {},
     "output_type": "execute_result"
    }
   ],
   "source": [
    "dataset\n"
   ]
  },
  {
   "cell_type": "code",
   "execution_count": 10,
   "id": "c8042616",
   "metadata": {},
   "outputs": [
    {
     "name": "stdout",
     "output_type": "stream",
     "text": [
      "Saved 30 rows with all fields to /home/bipin/Documents/projects/legal_assistant/data/evaluation_dataset.csv\n"
     ]
    }
   ],
   "source": [
    "import ast\n",
    "import json\n",
    "import pandas as pd\n",
    "\n",
    "# ─── 1. Fix any stringified reference_contexts ─────────────\n",
    "for sample in dataset:\n",
    "    if isinstance(sample[\"reference_contexts\"], str):\n",
    "        sample[\"reference_contexts\"] = ast.literal_eval(sample[\"reference_contexts\"])\n",
    "\n",
    "# ─── 2. Build a DataFrame with exactly the columns you want ─\n",
    "df2 = pd.DataFrame(dataset, columns=[\n",
    "    \"user_input\",\n",
    "    \"reference_contexts\",\n",
    "    \"retrieved_contexts\",\n",
    "    \"response\",\n",
    "    \"reference\"\n",
    "])\n",
    "\n",
    "# ─── 3. Serialize both list‐columns as JSON strings ────────\n",
    "df2[\"reference_contexts\"]  = df2[\"reference_contexts\"].apply(json.dumps)\n",
    "df2[\"retrieved_contexts\"] = df2[\"retrieved_contexts\"].apply(json.dumps)\n",
    "\n",
    "# ─── 4. Save to CSV ─────────────────────────────────────────\n",
    "output_path = \"/home/bipin/Documents/projects/legal_assistant/data/evaluation_dataset.csv\"\n",
    "df2.to_csv(output_path, index=False)\n",
    "\n",
    "print(f\"Saved {len(df)} rows with all fields to {output_path}\")\n"
   ]
  },
  {
   "cell_type": "code",
   "execution_count": 11,
   "id": "700fb0f1",
   "metadata": {},
   "outputs": [
    {
     "data": {
      "text/html": [
       "<div>\n",
       "<style scoped>\n",
       "    .dataframe tbody tr th:only-of-type {\n",
       "        vertical-align: middle;\n",
       "    }\n",
       "\n",
       "    .dataframe tbody tr th {\n",
       "        vertical-align: top;\n",
       "    }\n",
       "\n",
       "    .dataframe thead th {\n",
       "        text-align: right;\n",
       "    }\n",
       "</style>\n",
       "<table border=\"1\" class=\"dataframe\">\n",
       "  <thead>\n",
       "    <tr style=\"text-align: right;\">\n",
       "      <th></th>\n",
       "      <th>user_input</th>\n",
       "      <th>reference_contexts</th>\n",
       "      <th>retrieved_contexts</th>\n",
       "      <th>response</th>\n",
       "      <th>reference</th>\n",
       "    </tr>\n",
       "  </thead>\n",
       "  <tbody>\n",
       "    <tr>\n",
       "      <th>0</th>\n",
       "      <td>What is BNSS Classification in relation to fal...</td>\n",
       "      <td>[\"BNS Section 233 BNSS Classification The same...</td>\n",
       "      <td>[\"BNS Section 233 BNSS Classification The same...</td>\n",
       "      <td>The BNSS Classification in relation to false e...</td>\n",
       "      <td>BNSS Classification refers to the classificati...</td>\n",
       "    </tr>\n",
       "    <tr>\n",
       "      <th>1</th>\n",
       "      <td>What is the law regarding theft on property in...</td>\n",
       "      <td>[\"BNS Section 307 Illustrations: A commits the...</td>\n",
       "      <td>[\"of depriving Z of the property as a security...</td>\n",
       "      <td>The law regarding theft on property in Z's pos...</td>\n",
       "      <td>BNS Section 307 Illustrations states that if A...</td>\n",
       "    </tr>\n",
       "    <tr>\n",
       "      <th>2</th>\n",
       "      <td>What BNS means in law?</td>\n",
       "      <td>[\"BNS Section 168 BNSS Classification Imprison...</td>\n",
       "      <td>[\"BNS Section 198 Illustration: A, being an of...</td>\n",
       "      <td>Based on the provided context, \"BNS\" appears t...</td>\n",
       "      <td>BNS Section 168 BNSS Classification Imprisonme...</td>\n",
       "    </tr>\n",
       "    <tr>\n",
       "      <th>3</th>\n",
       "      <td>What is BNSS Classification in BNS Section 146?</td>\n",
       "      <td>[\"BNS Section 146 BNSS Classification Imprison...</td>\n",
       "      <td>[\"BNS Section 146 BNSS Classification Imprison...</td>\n",
       "      <td>The context does not provide specific informat...</td>\n",
       "      <td>BNS Section 146 BNSS Classification Imprisonme...</td>\n",
       "    </tr>\n",
       "    <tr>\n",
       "      <th>4</th>\n",
       "      <td>What is the amount of fine specified in the BN...</td>\n",
       "      <td>[\"BNS Section 276 BNSS Classification Imprison...</td>\n",
       "      <td>[\"BNS Section 276 BNSS Classification Imprison...</td>\n",
       "      <td>The amount of fine specified is 5,000 rupees.</td>\n",
       "      <td>The fine specified is 5,000 rupees.</td>\n",
       "    </tr>\n",
       "  </tbody>\n",
       "</table>\n",
       "</div>"
      ],
      "text/plain": [
       "                                          user_input  \\\n",
       "0  What is BNSS Classification in relation to fal...   \n",
       "1  What is the law regarding theft on property in...   \n",
       "2                             What BNS means in law?   \n",
       "3    What is BNSS Classification in BNS Section 146?   \n",
       "4  What is the amount of fine specified in the BN...   \n",
       "\n",
       "                                  reference_contexts  \\\n",
       "0  [\"BNS Section 233 BNSS Classification The same...   \n",
       "1  [\"BNS Section 307 Illustrations: A commits the...   \n",
       "2  [\"BNS Section 168 BNSS Classification Imprison...   \n",
       "3  [\"BNS Section 146 BNSS Classification Imprison...   \n",
       "4  [\"BNS Section 276 BNSS Classification Imprison...   \n",
       "\n",
       "                                  retrieved_contexts  \\\n",
       "0  [\"BNS Section 233 BNSS Classification The same...   \n",
       "1  [\"of depriving Z of the property as a security...   \n",
       "2  [\"BNS Section 198 Illustration: A, being an of...   \n",
       "3  [\"BNS Section 146 BNSS Classification Imprison...   \n",
       "4  [\"BNS Section 276 BNSS Classification Imprison...   \n",
       "\n",
       "                                            response  \\\n",
       "0  The BNSS Classification in relation to false e...   \n",
       "1  The law regarding theft on property in Z's pos...   \n",
       "2  Based on the provided context, \"BNS\" appears t...   \n",
       "3  The context does not provide specific informat...   \n",
       "4      The amount of fine specified is 5,000 rupees.   \n",
       "\n",
       "                                           reference  \n",
       "0  BNSS Classification refers to the classificati...  \n",
       "1  BNS Section 307 Illustrations states that if A...  \n",
       "2  BNS Section 168 BNSS Classification Imprisonme...  \n",
       "3  BNS Section 146 BNSS Classification Imprisonme...  \n",
       "4                The fine specified is 5,000 rupees.  "
      ]
     },
     "execution_count": 11,
     "metadata": {},
     "output_type": "execute_result"
    }
   ],
   "source": [
    "df2.head()"
   ]
  },
  {
   "cell_type": "code",
   "execution_count": 12,
   "id": "8d696108",
   "metadata": {},
   "outputs": [
    {
     "data": {
      "text/html": [
       "<div>\n",
       "<style scoped>\n",
       "    .dataframe tbody tr th:only-of-type {\n",
       "        vertical-align: middle;\n",
       "    }\n",
       "\n",
       "    .dataframe tbody tr th {\n",
       "        vertical-align: top;\n",
       "    }\n",
       "\n",
       "    .dataframe thead th {\n",
       "        text-align: right;\n",
       "    }\n",
       "</style>\n",
       "<table border=\"1\" class=\"dataframe\">\n",
       "  <thead>\n",
       "    <tr style=\"text-align: right;\">\n",
       "      <th></th>\n",
       "      <th>user_input</th>\n",
       "      <th>reference_contexts</th>\n",
       "      <th>retrieved_contexts</th>\n",
       "      <th>response</th>\n",
       "      <th>reference</th>\n",
       "    </tr>\n",
       "  </thead>\n",
       "  <tbody>\n",
       "    <tr>\n",
       "      <th>0</th>\n",
       "      <td>What is BNSS Classification in relation to fal...</td>\n",
       "      <td>[\"BNS Section 233 BNSS Classification The same...</td>\n",
       "      <td>[\"BNS Section 233 BNSS Classification The same...</td>\n",
       "      <td>The BNSS Classification in relation to false e...</td>\n",
       "      <td>BNSS Classification refers to the classificati...</td>\n",
       "    </tr>\n",
       "    <tr>\n",
       "      <th>1</th>\n",
       "      <td>What is the law regarding theft on property in...</td>\n",
       "      <td>[\"BNS Section 307 Illustrations: A commits the...</td>\n",
       "      <td>[\"of depriving Z of the property as a security...</td>\n",
       "      <td>The law regarding theft on property in Z's pos...</td>\n",
       "      <td>BNS Section 307 Illustrations states that if A...</td>\n",
       "    </tr>\n",
       "    <tr>\n",
       "      <th>2</th>\n",
       "      <td>What BNS means in law?</td>\n",
       "      <td>[\"BNS Section 168 BNSS Classification Imprison...</td>\n",
       "      <td>[\"BNS Section 198 Illustration: A, being an of...</td>\n",
       "      <td>Based on the provided context, \"BNS\" appears t...</td>\n",
       "      <td>BNS Section 168 BNSS Classification Imprisonme...</td>\n",
       "    </tr>\n",
       "    <tr>\n",
       "      <th>3</th>\n",
       "      <td>What is BNSS Classification in BNS Section 146?</td>\n",
       "      <td>[\"BNS Section 146 BNSS Classification Imprison...</td>\n",
       "      <td>[\"BNS Section 146 BNSS Classification Imprison...</td>\n",
       "      <td>The context does not provide specific informat...</td>\n",
       "      <td>BNS Section 146 BNSS Classification Imprisonme...</td>\n",
       "    </tr>\n",
       "    <tr>\n",
       "      <th>4</th>\n",
       "      <td>What is the amount of fine specified in the BN...</td>\n",
       "      <td>[\"BNS Section 276 BNSS Classification Imprison...</td>\n",
       "      <td>[\"BNS Section 276 BNSS Classification Imprison...</td>\n",
       "      <td>The amount of fine specified is 5,000 rupees.</td>\n",
       "      <td>The fine specified is 5,000 rupees.</td>\n",
       "    </tr>\n",
       "  </tbody>\n",
       "</table>\n",
       "</div>"
      ],
      "text/plain": [
       "                                          user_input  \\\n",
       "0  What is BNSS Classification in relation to fal...   \n",
       "1  What is the law regarding theft on property in...   \n",
       "2                             What BNS means in law?   \n",
       "3    What is BNSS Classification in BNS Section 146?   \n",
       "4  What is the amount of fine specified in the BN...   \n",
       "\n",
       "                                  reference_contexts  \\\n",
       "0  [\"BNS Section 233 BNSS Classification The same...   \n",
       "1  [\"BNS Section 307 Illustrations: A commits the...   \n",
       "2  [\"BNS Section 168 BNSS Classification Imprison...   \n",
       "3  [\"BNS Section 146 BNSS Classification Imprison...   \n",
       "4  [\"BNS Section 276 BNSS Classification Imprison...   \n",
       "\n",
       "                                  retrieved_contexts  \\\n",
       "0  [\"BNS Section 233 BNSS Classification The same...   \n",
       "1  [\"of depriving Z of the property as a security...   \n",
       "2  [\"BNS Section 198 Illustration: A, being an of...   \n",
       "3  [\"BNS Section 146 BNSS Classification Imprison...   \n",
       "4  [\"BNS Section 276 BNSS Classification Imprison...   \n",
       "\n",
       "                                            response  \\\n",
       "0  The BNSS Classification in relation to false e...   \n",
       "1  The law regarding theft on property in Z's pos...   \n",
       "2  Based on the provided context, \"BNS\" appears t...   \n",
       "3  The context does not provide specific informat...   \n",
       "4      The amount of fine specified is 5,000 rupees.   \n",
       "\n",
       "                                           reference  \n",
       "0  BNSS Classification refers to the classificati...  \n",
       "1  BNS Section 307 Illustrations states that if A...  \n",
       "2  BNS Section 168 BNSS Classification Imprisonme...  \n",
       "3  BNS Section 146 BNSS Classification Imprisonme...  \n",
       "4                The fine specified is 5,000 rupees.  "
      ]
     },
     "execution_count": 12,
     "metadata": {},
     "output_type": "execute_result"
    }
   ],
   "source": [
    "df3 =pd.read_csv(output_path)\n",
    "df3.head()"
   ]
  },
  {
   "cell_type": "code",
   "execution_count": null,
   "id": "5bd81361",
   "metadata": {},
   "outputs": [],
   "source": [
    "from ragas import evaluate\n",
    "from ragas.llms import LangchainLLMWrapper\n",
    "\n",
    "evaluation_dataset = dataset\n",
    "\n",
    "            \"user_input\":query,\n",
    "            \"retrieved_contexts\":relevant_docs,\n",
    "            \"response\":response,\n",
    "            \"reference\":reference\n",
    "        }\n",
    "\n",
    "evaluator_llm = LangchainLLMWrapper(llm)\n",
    "from ragas.metrics import LLMContextRecall, Faithfulness, FactualCorrectness\n",
    "\n",
    "result = evaluate(dataset=evaluation_dataset,metrics=[LLMContextRecall(), Faithfulness(), FactualCorrectness()],llm=evaluator_llm)\n",
    "result"
   ]
  },
  {
   "cell_type": "code",
   "execution_count": 16,
   "id": "c47c5389",
   "metadata": {},
   "outputs": [
    {
     "data": {
      "text/plain": [
       "{'user_input': 'What is BNSS Classification in relation to false evidence?',\n",
       " 'reference_contexts': ['BNS Section 233 BNSS Classification The same as for giving or fabricating false evidence. Non-cognizable According as offence of giving such evidence is bailable or nonbailable. Triable by Court by which offence of giving or fabricating false evidence is triable.'],\n",
       " 'retrieved_contexts': ['BNS Section 233 BNSS Classification The same as for giving or fabricating false evidence. Non-cognizable According as offence of giving such evidence is bailable or nonbailable. Triable by Court by which offence of giving or fabricating false evidence is triable.',\n",
       "  'BNS Section 235 BNSS Classification The same as for giving false evidence. Non-cognizable Bailable Triable by Court by which offence of giving false evidence is triable.',\n",
       "  'BNS Section 234 BNSS Classification The same as for giving false evidence. Non-cognizable Bailable Triable by Court by which offence of giving false evidence is triable.',\n",
       "  'BNS Section 236 BNSS Classification The same as for giving false evidence. Non-cognizable Bailable Triable by Court by which offence of giving false evidence is triable.',\n",
       "  'BNS Section 237 Explanation: A declaration which is inadmissible merely upon the ground of some informality, is a declaration within the meaning of section 234 and this section. BNSS Classification The same as for giving false evidence. Non-cognizable Bailable Triable by Court by which offence of giving false evidence is triable.'],\n",
       " 'response': 'The BNSS Classification in relation to false evidence is the same as for giving false evidence or fabricating false evidence.',\n",
       " 'reference': 'BNSS Classification refers to the classification of offences related to giving or fabricating false evidence, indicating whether such offences are bailable or nonbailable and which court is triable for them.'}"
      ]
     },
     "execution_count": 16,
     "metadata": {},
     "output_type": "execute_result"
    }
   ],
   "source": [
    "dataset[0]"
   ]
  },
  {
   "cell_type": "code",
   "execution_count": 18,
   "id": "ea922f6a",
   "metadata": {},
   "outputs": [],
   "source": [
    "evaluated_dataset =[]\n",
    "\n",
    "for i in range(0,30):\n",
    "    evaluated_dataset.append(\n",
    "        {\n",
    "            \"user_input\":dataset[i]['user_input'],\n",
    "            \"retrieved_contexts\":dataset[i]['retrieved_contexts'],\n",
    "            \"response\":dataset[i]['response'],\n",
    "            \"reference\":dataset[i]['reference']\n",
    "        })"
   ]
  },
  {
   "cell_type": "code",
   "execution_count": 19,
   "id": "1c613727",
   "metadata": {},
   "outputs": [],
   "source": [
    "from ragas import EvaluationDataset\n",
    "evaluation_dataset = EvaluationDataset.from_list(evaluated_dataset)"
   ]
  },
  {
   "cell_type": "code",
   "execution_count": 20,
   "id": "9eacf165",
   "metadata": {},
   "outputs": [
    {
     "data": {
      "application/vnd.jupyter.widget-view+json": {
       "model_id": "f9655d203e1f4f16a4e457f73911c0e9",
       "version_major": 2,
       "version_minor": 0
      },
      "text/plain": [
       "Evaluating:   0%|          | 0/90 [00:00<?, ?it/s]"
      ]
     },
     "metadata": {},
     "output_type": "display_data"
    },
    {
     "data": {
      "text/plain": [
       "{'context_recall': 0.9667, 'faithfulness': 0.8775, 'factual_correctness(mode=f1)': 0.6107}"
      ]
     },
     "execution_count": 20,
     "metadata": {},
     "output_type": "execute_result"
    }
   ],
   "source": [
    "from ragas import evaluate\n",
    "from ragas.llms import LangchainLLMWrapper\n",
    "\n",
    "\n",
    "evaluator_llm = LangchainLLMWrapper(llm)\n",
    "from ragas.metrics import LLMContextRecall, Faithfulness, FactualCorrectness\n",
    "\n",
    "result = evaluate(dataset=evaluation_dataset,metrics=[LLMContextRecall(), Faithfulness(), FactualCorrectness()],llm=evaluator_llm)\n",
    "result"
   ]
  },
  {
   "cell_type": "code",
   "execution_count": null,
   "id": "8f73983a",
   "metadata": {},
   "outputs": [],
   "source": []
  }
 ],
 "metadata": {
  "kernelspec": {
   "display_name": "Python 3",
   "language": "python",
   "name": "python3"
  },
  "language_info": {
   "codemirror_mode": {
    "name": "ipython",
    "version": 3
   },
   "file_extension": ".py",
   "mimetype": "text/x-python",
   "name": "python",
   "nbconvert_exporter": "python",
   "pygments_lexer": "ipython3",
   "version": "3.13.2"
  }
 },
 "nbformat": 4,
 "nbformat_minor": 5
}
