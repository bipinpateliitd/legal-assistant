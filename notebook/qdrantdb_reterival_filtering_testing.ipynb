{
 "cells": [
  {
   "cell_type": "code",
   "execution_count": 4,
   "id": "acf8de19",
   "metadata": {},
   "outputs": [],
   "source": [
    "from langchain_qdrant import FastEmbedSparse, QdrantVectorStore, RetrievalMode\n",
    "from qdrant_client import QdrantClient\n",
    "from qdrant_client.http.models import Distance, VectorParams\n",
    "from langchain_openai import OpenAIEmbeddings\n",
    "from dotenv import load_dotenv\n",
    "import os\n",
    "\n",
    "load_dotenv()\n",
    "\n",
    "\n",
    "\n",
    "# Initialize Qdrant client first\n",
    "url = os.getenv(\"QDRANT_CLOUD_URL\")\n",
    "api_key = os.getenv(\"QDRANT_API_KEY\")\n",
    "embedding_model = \"text-embedding-3-large\"\n",
    "collection_name = \"bns_sections_hybrid\"\n",
    "\n",
    "client = QdrantClient(\n",
    "    url=url,\n",
    "    api_key=api_key,\n",
    "    prefer_grpc=True\n",
    ")\n",
    "\n",
    "# Initialize embeddings\n",
    "dense_embedding = OpenAIEmbeddings(model=embedding_model)\n",
    "sparse_embedding = FastEmbedSparse(model_name=\"Qdrant/bm25\")\n",
    "\n",
    "\n",
    "# To query existing collection\n",
    "vectorstore = QdrantVectorStore(\n",
    "    client=client,\n",
    "    collection_name=\"bns_sections_hybrid\",\n",
    "    embedding=dense_embedding,            # not needed for retrieval\n",
    "    sparse_embedding=sparse_embedding,     # not needed for retrieval\n",
    "    retrieval_mode=RetrievalMode.HYBRID,\n",
    "    vector_name=\"dense\",\n",
    "    sparse_vector_name=\"sparse\",\n",
    ")\n",
    "reteriver = vectorstore.as_retriever()"
   ]
  },
  {
   "cell_type": "code",
   "execution_count": 5,
   "id": "adf2edd1",
   "metadata": {},
   "outputs": [
    {
     "data": {
      "text/plain": [
       "[Document(metadata={'title': 'BNS Section 64 - Punishment for rape.', 'sections': 64, 'description': 'B.N.S 64, Punishment for rape.', 'source': '/home/bipin/Documents/projects/legal_assistant/data/sections/bns_section_64.txt', 'keywords': ['rape', 'imprisonment', 'police', 'officer', 'custody', 'section', 'fine', 'jail', 'remand', 'case', 'station', 'inmate', 'guardian', 'authority', 'violence', 'consent', 'disability', 'harm', 'management'], '_id': '69943239-dce6-47d1-88e7-563a51266761', '_collection_name': 'bns_sections_hybrid'}, page_content='public servant; or being a member of the armed forces deployed in an area by the Central Government or a State Government commits rape in such area; or being on the management or on the staff of a jail, remand home or other place of custody established by or under any law for the time being in force or of a women’s or children’s institution, commits rape on any inmate of such jail, remand home, place or institution; or being on the management or on the staff of a hospital, commits rape on a woman in that hospital; or being a relative, guardian or teacher of, or a person in a position of trust or authority towards the woman, commits rape on such woman; or commits rape during communal or sectarian violence; or commits rape on a woman knowing her to be pregnant; or commits rape, on a woman incapable of giving consent; or being in a position of control or dominance over a woman, commits'),\n",
       " Document(metadata={'description': 'B.N.S 63, Rape.', 'title': 'BNS Section 63 - Rape.', 'sections': 63, 'source': '/home/bipin/Documents/projects/legal_assistant/data/sections/bns_section_63.txt', 'keywords': ['consent', 'rape', 'penetration', 'victim', 'offense', 'sexual act', 'witness', 'evidence', 'culpability', 'criminal intent', 'offender', 'jurisdiction', 'procedure', 'investigation', 'charge', 'trial', 'punishment', 'defense', 'culpable'], '_id': '8443bb19-e2d6-4c16-9522-4ebbf4fddc01', '_collection_name': 'bns_sections_hybrid'}, page_content='or without her consent, when she is under eighteen years of age. when she is unable to communicate consent. Explanation 1: For the purposes of this section, “vagina” shall also include labia majora. Explanation 2: Consent means an unequivocal voluntary agreement when the woman by words, gestures or any form of verbal or non-verbal communication, communicates willingness to participate in the specific sexual act; Provided that a woman who does not physically resist to the act of penetration shall not by the reason only of that fact, be regarded as consenting to the sexual activity. Exception 1: A medical procedure or intervention shall not constitute rape. Exception 2: Sexual intercourse or sexual acts by a man with his own wife, the wife not being under eighteen years of age, is not rape.')]"
      ]
     },
     "execution_count": 5,
     "metadata": {},
     "output_type": "execute_result"
    }
   ],
   "source": [
    "results = vectorstore.similarity_search(\n",
    "    \"rape procedure\",\n",
    "    k=2\n",
    ")\n",
    "\n",
    "results"
   ]
  },
  {
   "cell_type": "code",
   "execution_count": 29,
   "id": "a842024d",
   "metadata": {},
   "outputs": [
    {
     "name": "stdout",
     "output_type": "stream",
     "text": [
      "* BNS Section 69 Explanation: “deceitful means” shall include the false promise of employment or promotion, inducement or marring after suppressing identity. BNSS Classification Imprisonment which may extend to 10 years and fine. Cognizable Non-bailable Triable by Court of Session [{'sections': 69, 'title': 'BNS Section 69 - Sexual intercourse by employing deceitful means etc.', 'description': 'B.N.S 69, Sexual intercourse by employing deceitful means etc.', 'source': '/home/bipin/Documents/projects/legal_assistant/data/sections/bns_section_69.txt', 'keywords': ['section', 'imprisonment', 'court', 'session', 'triable', 'promotion', 'inducement', 'identity', 'classification', 'promise', 'employment', 'explanation', 'mean', 'year'], '_id': '30fbfd96-ea24-44ed-9dc4-70a52b7b989a', '_collection_name': 'bns_sections_hybrid'}]\n",
      "* BNS Section 52 If the act for which the abettor is liable under section 51 is committed in addition to the act abetted, and constitute a distinct offence, the abettor is liable to punishment for each of the offences. Illustration: A instigates B to resist by force a distress made by a public servant. B, in consequence, resists that distress. In offering the resistance, B voluntarily causes grievous hurt to the officer executing the distress. As B has committed both the offence of resisting the distress, and the offence of voluntarily causing grievous hurt, B is liable to punishment for both these offences; and, if A knew that B was likely voluntarily to cause grievous hurt in resisting the distress, A will also be liable to punishment for each of the offences. [{'title': 'BNS Section 52 - Abettor when liable to cumulative punishment for act abetted and for act done.', 'sections': 52, 'description': 'B.N.S 52, Abettor when liable to cumulative punishment for act abetted and for act done.', 'source': '/home/bipin/Documents/projects/legal_assistant/data/sections/bns_section_52.txt', 'keywords': ['offence', 'punishment', 'abettor', 'section', 'illustration', 'force', 'servant', 'consequence', 'resistance', 'officer'], '_id': '754ffb36-9216-48ec-965d-ecc640c67b14', '_collection_name': 'bns_sections_hybrid'}]\n"
     ]
    }
   ],
   "source": [
    "from qdrant_client.http import models\n",
    "\n",
    "results = vectorstore.similarity_search(query=\"\",k=2,filter=models.Filter(must=[models.FieldCondition(key=\"metadata.sections\", match=models.MatchAny(any=[69, 52]),)]))\n",
    "for doc in results:\n",
    "    print(f\"* {doc.page_content} [{doc.metadata}]\")"
   ]
  },
  {
   "cell_type": "code",
   "execution_count": null,
   "id": "38192b6f",
   "metadata": {},
   "outputs": [],
   "source": [
    "from qdrant_client.http import models\n",
    "\n",
    "results = vector_store.similarity_search(query=\"thud\",k=1,filter=models.Filter(must=[models.FieldCondition(key=\"metadata.bar\", match=models.MatchValue(value=\"baz\"),)]))\n",
    "for doc in results:\n",
    "    print(f\"* {doc.page_content} [{doc.metadata}]\")"
   ]
  },
  {
   "cell_type": "code",
   "execution_count": 10,
   "id": "8908cf40",
   "metadata": {},
   "outputs": [],
   "source": [
    "from pprint import pprint"
   ]
  },
  {
   "cell_type": "code",
   "execution_count": 13,
   "id": "e3873f2d",
   "metadata": {},
   "outputs": [
    {
     "name": "stdout",
     "output_type": "stream",
     "text": [
      "{'_collection_name': 'bns_sections_hybrid',\n",
      " '_id': '7b0effd9-a924-4229-a8e3-0817259ed2d0',\n",
      " 'description': 'B.N.S 70, Gang rape.',\n",
      " 'keywords': ['imprisonment',\n",
      "              'offence',\n",
      "              'rape',\n",
      "              'victim',\n",
      "              'court',\n",
      "              'section',\n",
      "              'trial',\n",
      "              'sentence',\n",
      "              'fine',\n",
      "              'death',\n",
      "              'life',\n",
      "              'remainder',\n",
      "              'year',\n",
      "              'term',\n",
      "              'triable',\n",
      "              'session',\n",
      "              'person',\n",
      "              'woman',\n",
      "              'group',\n",
      "              'furtherance'],\n",
      " 'sections': 70,\n",
      " 'source': '/home/bipin/Documents/projects/legal_assistant/data/sections/bns_section_70.txt',\n",
      " 'title': 'BNS Section 70 - Gang rape.'}\n"
     ]
    }
   ],
   "source": [
    "pprint(doc.metadata)"
   ]
  },
  {
   "cell_type": "code",
   "execution_count": null,
   "id": "76ae45a5",
   "metadata": {},
   "outputs": [],
   "source": [
    "pprint(doc.page_content)"
   ]
  },
  {
   "cell_type": "markdown",
   "id": "cf0efad9",
   "metadata": {},
   "source": [
    "# metadata_filtering"
   ]
  },
  {
   "cell_type": "code",
   "execution_count": 36,
   "id": "763faf32",
   "metadata": {},
   "outputs": [],
   "source": [
    "import re\n",
    "from qdrant_client.http import models\n",
    "\n",
    "user_input=\"What is sections 12 and 54 \"\n",
    "\n",
    "# 1. Extract all integers from the user’s question\n",
    "section_nums = [int(n) for n in re.findall(r\"\\b(\\d+)\\b\", user_input)]\n",
    "\n",
    "if section_nums:\n",
    "    results = vectorstore.similarity_search(query=\"\",filter=models.Filter(must=[models.FieldCondition(key=\"metadata.sections\", match=models.MatchAny(any=section_nums),)]))\n",
    "    \n",
    "else:\n",
    "    # fallback to global semantic search if no section numbers mentioned\n",
    "    results = vectorstore.similarity_search(user_input, k=5)\n",
    "\n",
    "\n",
    "\n"
   ]
  },
  {
   "cell_type": "code",
   "execution_count": 37,
   "id": "a14fe60d",
   "metadata": {},
   "outputs": [
    {
     "data": {
      "text/plain": [
       "[Document(metadata={'description': 'B.N.S 12, Limit of solitary confinement.', 'sections': 12, 'title': 'BNS Section 12 - Limit of solitary confinement.', 'source': '/home/bipin/Documents/projects/legal_assistant/data/sections/bns_section_12.txt', 'keywords': ['Section', 'Offense', 'Investigation', 'Trial', 'Evidence', 'Arrest', 'Charge', 'Cognizable', 'Non-cognizable', 'Bailable', 'Non-bailable', 'Bail', 'Complaint', 'Summons', 'Warrant', 'Accused', 'Prosecution', 'Defendant', 'Judgment', 'Sentence'], '_id': '09f1176c-35b7-4859-9aaf-aa8b8409e1dc', '_collection_name': 'bns_sections_hybrid'}, page_content='BNS Section 12'),\n",
       " Document(metadata={'title': 'BNS Section 54 - Abettor present when offence is committed.', 'sections': 54, 'description': 'B.N.S 54, Abettor present when offence is committed.', 'source': '/home/bipin/Documents/projects/legal_assistant/data/sections/bns_section_54.txt', 'keywords': ['offence', 'person', 'abettor', 'abetment', 'criminal', 'trial', 'punishment', 'culprit', 'accused', 'charge', 'evidence', 'prosecution', 'defense', 'judgment', 'conviction', 'sentence', 'law', 'section', 'section 54', 'criminal liability'], '_id': '6943e2dd-2ed0-462b-902d-836ab89f9ff9', '_collection_name': 'bns_sections_hybrid'}, page_content='BNS Section 54 Whenever any person, who is absent would be liable to be punished as an abettor, is present when the act or offence for which he would be punishable in consequence of the abetment is committed, he shall be deemed to have committed such act or offence.')]"
      ]
     },
     "execution_count": 37,
     "metadata": {},
     "output_type": "execute_result"
    }
   ],
   "source": [
    "results"
   ]
  },
  {
   "cell_type": "code",
   "execution_count": 28,
   "id": "31f81cc7",
   "metadata": {},
   "outputs": [
    {
     "data": {
      "text/plain": [
       "[12, 54]"
      ]
     },
     "execution_count": 28,
     "metadata": {},
     "output_type": "execute_result"
    }
   ],
   "source": [
    "section_nums"
   ]
  },
  {
   "cell_type": "code",
   "execution_count": 31,
   "id": "b54def50",
   "metadata": {},
   "outputs": [
    {
     "name": "stdout",
     "output_type": "stream",
     "text": [
      "('BNS Section 54 Whenever any person, who is absent would be liable to be '\n",
      " 'punished as an abettor, is present when the act or offence for which he '\n",
      " 'would be punishable in consequence of the abetment is committed, he shall be '\n",
      " 'deemed to have committed such act or offence.')\n"
     ]
    }
   ],
   "source": [
    "pprint(doc.page_content)"
   ]
  },
  {
   "cell_type": "code",
   "execution_count": 32,
   "id": "84da2646",
   "metadata": {},
   "outputs": [
    {
     "data": {
      "text/plain": [
       "2"
      ]
     },
     "execution_count": 32,
     "metadata": {},
     "output_type": "execute_result"
    }
   ],
   "source": [
    "len(results)"
   ]
  },
  {
   "cell_type": "code",
   "execution_count": null,
   "id": "4b03fce5",
   "metadata": {},
   "outputs": [],
   "source": []
  }
 ],
 "metadata": {
  "kernelspec": {
   "display_name": ".venv",
   "language": "python",
   "name": "python3"
  },
  "language_info": {
   "codemirror_mode": {
    "name": "ipython",
    "version": 3
   },
   "file_extension": ".py",
   "mimetype": "text/x-python",
   "name": "python",
   "nbconvert_exporter": "python",
   "pygments_lexer": "ipython3",
   "version": "3.12.0"
  }
 },
 "nbformat": 4,
 "nbformat_minor": 5
}
