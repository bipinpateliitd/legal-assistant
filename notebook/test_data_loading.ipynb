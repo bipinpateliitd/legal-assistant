{
 "cells": [
  {
   "cell_type": "code",
   "execution_count": 1,
   "id": "05d1ca50",
   "metadata": {},
   "outputs": [],
   "source": [
    "from langchain.document_loaders import TextLoader\n",
    "import pandas as pd\n",
    "sections=5\n"
   ]
  },
  {
   "cell_type": "code",
   "execution_count": 2,
   "id": "4970a1a3",
   "metadata": {},
   "outputs": [],
   "source": [
    "sections_meta_path  =\"/home/bipin/Documents/projects/legal_assistant/data/metadata/bns_sections_metadata.csv\"\n",
    "keywords_meta_path  =\"/home/bipin/Documents/projects/legal_assistant/data/metadata/bns_top_keywords.csv\"\n",
    "df_keywords = pd.read_csv(keywords_meta_path)\n",
    "df_sections = pd.read_csv(sections_meta_path)"
   ]
  },
  {
   "cell_type": "code",
   "execution_count": 3,
   "id": "683ff850",
   "metadata": {},
   "outputs": [
    {
     "data": {
      "text/html": [
       "<div>\n",
       "<style scoped>\n",
       "    .dataframe tbody tr th:only-of-type {\n",
       "        vertical-align: middle;\n",
       "    }\n",
       "\n",
       "    .dataframe tbody tr th {\n",
       "        vertical-align: top;\n",
       "    }\n",
       "\n",
       "    .dataframe thead th {\n",
       "        text-align: right;\n",
       "    }\n",
       "</style>\n",
       "<table border=\"1\" class=\"dataframe\">\n",
       "  <thead>\n",
       "    <tr style=\"text-align: right;\">\n",
       "      <th></th>\n",
       "      <th>section</th>\n",
       "      <th>top_keywords</th>\n",
       "    </tr>\n",
       "  </thead>\n",
       "  <tbody>\n",
       "    <tr>\n",
       "      <th>0</th>\n",
       "      <td>1</td>\n",
       "      <td>offence, punishment, section, officer, murder,...</td>\n",
       "    </tr>\n",
       "    <tr>\n",
       "      <th>1</th>\n",
       "      <td>2</td>\n",
       "      <td>offence, judgment, court, evidence, officer, j...</td>\n",
       "    </tr>\n",
       "    <tr>\n",
       "      <th>2</th>\n",
       "      <td>3</td>\n",
       "      <td>offence, person, murder, death, section, act, ...</td>\n",
       "    </tr>\n",
       "    <tr>\n",
       "      <th>3</th>\n",
       "      <td>4</td>\n",
       "      <td>imprisonment, life, section, punishment, offen...</td>\n",
       "    </tr>\n",
       "    <tr>\n",
       "      <th>4</th>\n",
       "      <td>5</td>\n",
       "      <td>offence, sentence, section, case, death, offen...</td>\n",
       "    </tr>\n",
       "  </tbody>\n",
       "</table>\n",
       "</div>"
      ],
      "text/plain": [
       "   section                                       top_keywords\n",
       "0        1  offence, punishment, section, officer, murder,...\n",
       "1        2  offence, judgment, court, evidence, officer, j...\n",
       "2        3  offence, person, murder, death, section, act, ...\n",
       "3        4  imprisonment, life, section, punishment, offen...\n",
       "4        5  offence, sentence, section, case, death, offen..."
      ]
     },
     "execution_count": 3,
     "metadata": {},
     "output_type": "execute_result"
    }
   ],
   "source": [
    "df_keywords.head()"
   ]
  },
  {
   "cell_type": "code",
   "execution_count": 4,
   "id": "969825d2",
   "metadata": {},
   "outputs": [
    {
     "data": {
      "text/html": [
       "<div>\n",
       "<style scoped>\n",
       "    .dataframe tbody tr th:only-of-type {\n",
       "        vertical-align: middle;\n",
       "    }\n",
       "\n",
       "    .dataframe tbody tr th {\n",
       "        vertical-align: top;\n",
       "    }\n",
       "\n",
       "    .dataframe thead th {\n",
       "        text-align: right;\n",
       "    }\n",
       "</style>\n",
       "<table border=\"1\" class=\"dataframe\">\n",
       "  <thead>\n",
       "    <tr style=\"text-align: right;\">\n",
       "      <th></th>\n",
       "      <th>section</th>\n",
       "      <th>title</th>\n",
       "      <th>description</th>\n",
       "    </tr>\n",
       "  </thead>\n",
       "  <tbody>\n",
       "    <tr>\n",
       "      <th>0</th>\n",
       "      <td>3</td>\n",
       "      <td>BNS Section 3 - General Explanations.</td>\n",
       "      <td>B.N.S 3, General Explanations.</td>\n",
       "    </tr>\n",
       "    <tr>\n",
       "      <th>1</th>\n",
       "      <td>4</td>\n",
       "      <td>BNS Section 4 - Punishments.</td>\n",
       "      <td>B.N.S 4, Punishments.</td>\n",
       "    </tr>\n",
       "    <tr>\n",
       "      <th>2</th>\n",
       "      <td>6</td>\n",
       "      <td>BNS Section 6 - Fractions of terms of punishment.</td>\n",
       "      <td>B.N.S 6, Fractions of terms of punishment.</td>\n",
       "    </tr>\n",
       "    <tr>\n",
       "      <th>3</th>\n",
       "      <td>9</td>\n",
       "      <td>BNS Section 9 - Limit of punishment of offence...</td>\n",
       "      <td>B.N.S 9, Limit of punishment of offence made u...</td>\n",
       "    </tr>\n",
       "    <tr>\n",
       "      <th>4</th>\n",
       "      <td>1</td>\n",
       "      <td>BNS Section 1 - Short title, commencement and ...</td>\n",
       "      <td>B.N.S 1, Short title, commencement and applica...</td>\n",
       "    </tr>\n",
       "  </tbody>\n",
       "</table>\n",
       "</div>"
      ],
      "text/plain": [
       "   section                                              title  \\\n",
       "0        3              BNS Section 3 - General Explanations.   \n",
       "1        4                       BNS Section 4 - Punishments.   \n",
       "2        6  BNS Section 6 - Fractions of terms of punishment.   \n",
       "3        9  BNS Section 9 - Limit of punishment of offence...   \n",
       "4        1  BNS Section 1 - Short title, commencement and ...   \n",
       "\n",
       "                                         description  \n",
       "0                     B.N.S 3, General Explanations.  \n",
       "1                              B.N.S 4, Punishments.  \n",
       "2         B.N.S 6, Fractions of terms of punishment.  \n",
       "3  B.N.S 9, Limit of punishment of offence made u...  \n",
       "4  B.N.S 1, Short title, commencement and applica...  "
      ]
     },
     "execution_count": 4,
     "metadata": {},
     "output_type": "execute_result"
    }
   ],
   "source": [
    "df_sections.head()"
   ]
  },
  {
   "cell_type": "code",
   "execution_count": null,
   "id": "c529f2a8",
   "metadata": {},
   "outputs": [],
   "source": [
    "# Metadata Schema\n",
    "\n",
    "{\"sections\":1,\n",
    " \"title\":\"BNS Section 3 - General Explanations.\"\n",
    " \"description\":\"B.N.S 3, General Explanations.\"\n",
    " \"keywords\":\"offence, punishment, section\"  \n",
    "}"
   ]
  },
  {
   "cell_type": "code",
   "execution_count": 34,
   "id": "de303e99",
   "metadata": {},
   "outputs": [
    {
     "data": {
      "text/plain": [
       "{'source': '/home/bipin/Documents/projects/legal_assistant/data/section-v2/bns_section_1.txt',\n",
       " 'sections': 1,\n",
       " 'title': 'BNS Section 1 - Short title, commencement and application.',\n",
       " 'description': 'B.N.S 1, Short title, commencement and application.',\n",
       " 'keywords': 'offence, punishment, section, officer, murder, mutiny, desertion, person, place, date, time, manner, government, citizen, notification, gazette, appointment, law, procedure, criminal'}"
      ]
     },
     "execution_count": 34,
     "metadata": {},
     "output_type": "execute_result"
    }
   ],
   "source": [
    "documents = []\n",
    "for i in range(1,sections):\n",
    "    filepath =f\"/home/bipin/Documents/projects/legal_assistant/data/section-v2/bns_section_{i}.txt\"\n",
    "    loader = TextLoader(filepath)\n",
    "    meta_section =df_sections[df_sections[\"section\"]==i]\n",
    "    meta_keyword =df_keywords[df_keywords[\"section\"]==i]\n",
    "    # Load the document\n",
    "    docs = loader.load()\n",
    "    docs[0].metadata[\"sections\"] = int(meta_section[\"section\"].values[0])\n",
    "    docs[0].metadata[\"title\"] = meta_section[\"title\"].values[0]\n",
    "    docs[0].metadata[\"description\"] = meta_section[\"description\"].values[0]\n",
    "    docs[0].metadata[\"keywords\"] = meta_keyword[\"top_keywords\"].values[0]\n",
    "    documents.append(docs[0])\n",
    "    \n",
    "    \n",
    "    \n",
    "len(documents)\n",
    "documents[0].metadata\n",
    "\n",
    "    "
   ]
  },
  {
   "cell_type": "code",
   "execution_count": null,
   "id": "42e74741",
   "metadata": {},
   "outputs": [],
   "source": []
  },
  {
   "cell_type": "code",
   "execution_count": 38,
   "id": "f3128d11",
   "metadata": {},
   "outputs": [],
   "source": [
    "from langchain_text_splitters import RecursiveCharacterTextSplitter\n",
    "text_splitter = RecursiveCharacterTextSplitter(\n",
    "    # Set a really small chunk size, just to show.\n",
    "    chunk_size=800,\n",
    "    chunk_overlap=120,)"
   ]
  },
  {
   "cell_type": "code",
   "execution_count": 39,
   "id": "fdf4641c",
   "metadata": {},
   "outputs": [],
   "source": [
    "chunks = text_splitter.split_documents(documents)"
   ]
  },
  {
   "cell_type": "code",
   "execution_count": 40,
   "id": "3ee2f695",
   "metadata": {},
   "outputs": [
    {
     "data": {
      "text/plain": [
       "29"
      ]
     },
     "execution_count": 40,
     "metadata": {},
     "output_type": "execute_result"
    }
   ],
   "source": [
    "len(chunks)"
   ]
  },
  {
   "cell_type": "code",
   "execution_count": 41,
   "id": "61e20b94",
   "metadata": {},
   "outputs": [
    {
     "data": {
      "text/plain": [
       "{'source': '/home/bipin/Documents/projects/legal_assistant/data/section-v2/bns_section_2.txt',\n",
       " 'sections': 2,\n",
       " 'title': 'BNS Section 2 - Definitions.',\n",
       " 'description': 'B.N.S 2, Definitions.',\n",
       " 'keywords': 'offence, judgment, court, evidence, officer, judge, clause, section, matter, duty, right'}"
      ]
     },
     "execution_count": 41,
     "metadata": {},
     "output_type": "execute_result"
    }
   ],
   "source": [
    "chunks[7].metadata"
   ]
  },
  {
   "cell_type": "code",
   "execution_count": 28,
   "id": "32c160b6",
   "metadata": {},
   "outputs": [
    {
     "data": {
      "text/plain": [
       "'he does that thing with intent to defraud but not otherwise. “gender”. the pronoun “he” and its derivatives are used of any person, whether male, female or transgender. Explanation: “transgender” shall have the meaning assigned to it in clause (k) of section 2 of the Transgender Persons (Protection of Rights) Act, 2019; “good faith”. Nothing is said to be done or believed in “good faith” which is done or believed without due care and attention; “Government” means the Central Government or a State Government; “harbour”. except as otherwise provided in this Sanhita, includes the supplying a person with shelter, food, drink, money, clothes, arms, ammunition or means of conveyance, or the assisting a person by any means, whether of the same kind as those enumerated in this section or not, to'"
      ]
     },
     "execution_count": 28,
     "metadata": {},
     "output_type": "execute_result"
    }
   ],
   "source": [
    "chunks[7].page_content"
   ]
  },
  {
   "cell_type": "code",
   "execution_count": null,
   "id": "3b83ecee",
   "metadata": {},
   "outputs": [],
   "source": []
  }
 ],
 "metadata": {
  "kernelspec": {
   "display_name": ".venv",
   "language": "python",
   "name": "python3"
  },
  "language_info": {
   "codemirror_mode": {
    "name": "ipython",
    "version": 3
   },
   "file_extension": ".py",
   "mimetype": "text/x-python",
   "name": "python",
   "nbconvert_exporter": "python",
   "pygments_lexer": "ipython3",
   "version": "3.12.0"
  }
 },
 "nbformat": 4,
 "nbformat_minor": 5
}
