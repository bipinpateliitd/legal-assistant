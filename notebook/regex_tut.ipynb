{
 "cells": [
  {
   "cell_type": "code",
   "execution_count": 1,
   "metadata": {},
   "outputs": [],
   "source": [
    "import re"
   ]
  },
  {
   "cell_type": "markdown",
   "metadata": {},
   "source": [
    "# re is a built-in Python module for working with regular expressions (regex). Regular expressions are patterns used to match, search, extract, and manipulate strings."
   ]
  },
  {
   "cell_type": "markdown",
   "metadata": {},
   "source": [
    "###  What is re?\n",
    "re stands for regular expression. It provides powerful tools to:\n",
    "\n",
    "Search for specific patterns in text\n",
    "\n",
    "Replace text using patterns\n",
    "\n",
    "Extract information (e.g., phone numbers, emails)\n",
    "\n",
    "Validate formats (e.g., date, password)"
   ]
  },
  {
   "cell_type": "markdown",
   "metadata": {},
   "source": [
    "### Common Uses of re:\n",
    "\n",
    "Task\tExample\n",
    "\n",
    "Search for a pattern\tCheck if a string contains a date or keyword\n",
    "\n",
    "Extract data\tExtract all email addresses from a document\n",
    "\n",
    "Replace parts of text\tReplace all whitespace with a dash\n",
    "\n",
    "Split by pattern\tSplit text on punctuation or multiple spaces\n",
    "\n",
    "Validate input format\tCheck if a password is strong or email is valid"
   ]
  },
  {
   "cell_type": "markdown",
   "metadata": {},
   "source": [
    "## Most Common re Functions:\n",
    "\n",
    "Function\tPurpose\n",
    "\n",
    "re.search()\tSearch for a pattern (returns first match object)\n",
    "\n",
    "re.findall()\tReturn all matches as a list\n",
    "\n",
    "re.sub()\tReplace matched patterns with something else\n",
    "\n",
    "re.match()\tMatch pattern only at the beginning of the string\n",
    "\n",
    "re.split()\tSplit string based on a pattern\n",
    "\n",
    "re.compile()\tPre-compile a regex pattern for reuse"
   ]
  },
  {
   "cell_type": "code",
   "execution_count": 6,
   "metadata": {},
   "outputs": [
    {
     "name": "stdout",
     "output_type": "stream",
     "text": [
      "35\n",
      "['35', '25']\n"
     ]
    }
   ],
   "source": [
    "import re\n",
    "\n",
    "# Example 1\n",
    "result = re.search(r'\\d+', \"My age is 35\")  \n",
    "print(result.group())  # Output: 35\n",
    "\n",
    "# Example 2\n",
    "result = re.findall(r'\\d+', \"My age is 35 and my friend's age is 25\")\n",
    "print(result)  # Output: ['35', '25']\n",
    "\n"
   ]
  },
  {
   "cell_type": "code",
   "execution_count": 9,
   "metadata": {},
   "outputs": [
    {
     "data": {
      "text/plain": [
       "['cat', 'Welcome', 'apple', 'user@mail.com']"
      ]
     },
     "execution_count": 9,
     "metadata": {},
     "output_type": "execute_result"
    }
   ],
   "source": [
    "r1=re.search(r'cat', \"The cat sat on the mat\")             # ➜ Match for 'cat'\n",
    "\n",
    "# Example 3\n",
    "r2=re.search(r'\\b[A-Z][a-z]+\\b', \"Welcome John!\")          # ➜ Match for 'Welcome'\n",
    "\n",
    "# Example 4\n",
    "r3=re.search(r'apple', \"banana apple orange\")              # ➜ Match for 'apple'\n",
    "\n",
    "# Example 5\n",
    "r4=re.search(r'[\\w.-]+@[\\w.-]+', \"Email: user@mail.com\")   # \n",
    "[r1.group(),r2.group(),r3.group(),r4.group()]"
   ]
  },
  {
   "cell_type": "code",
   "execution_count": 10,
   "metadata": {},
   "outputs": [
    {
     "data": {
      "text/plain": [
       "<re.Match object; span=(0, 7), match='Welcome'>"
      ]
     },
     "execution_count": 10,
     "metadata": {},
     "output_type": "execute_result"
    }
   ],
   "source": [
    "r2"
   ]
  },
  {
   "cell_type": "code",
   "execution_count": 11,
   "metadata": {},
   "outputs": [
    {
     "data": {
      "text/plain": [
       "[['30', '45', '99'],\n",
       " ['e', 'u', 'a', 'i', 'o'],\n",
       " ['This', 'line', 'many', 'four'],\n",
       " ['Mr', 'John', 'Mrs', 'Smith'],\n",
       " ['@twitter', '@chatgpt']]"
      ]
     },
     "execution_count": 11,
     "metadata": {},
     "output_type": "execute_result"
    }
   ],
   "source": [
    "# Example 1\n",
    "r5=re.findall(r'\\d+', \"Age: 30, Roll: 45, Code: 99\")       # ➜ ['30', '45', '99']\n",
    "\n",
    "# Example 2\n",
    "r6=re.findall(r'[aeiou]', \"education\")                     # ➜ ['e', 'u', 'a', 'i', 'o']\n",
    "\n",
    "# Example 3\n",
    "r7=re.findall(r'\\b\\w{4}\\b', \"This line has many four-letter words\")  # ➜ ['This', 'line', 'many']\n",
    "\n",
    "# Example 4\n",
    "r8=re.findall(r'[A-Z]\\w+', \"Mr. John and Mrs. Smith\")      # ➜ ['John', 'Smith']\n",
    "\n",
    "# Example 5\n",
    "r9=re.findall(r'@\\w+', \"Follow us @twitter @chatgpt\")      # ➜ ['@twitter', '@chatgpt']\n",
    "[r5,r6,r7,r8,r9]\n"
   ]
  },
  {
   "cell_type": "code",
   "execution_count": 7,
   "metadata": {},
   "outputs": [
    {
     "data": {
      "text/plain": [
       "' John,  Smith'"
      ]
     },
     "execution_count": 7,
     "metadata": {},
     "output_type": "execute_result"
    }
   ],
   "source": [
    "# Example 1\n",
    "import re\n",
    "\n",
    "r10=re.sub(r'\\d+', ' ', \"Roll 23, Age 45\")                  # ➜ 'Roll X, Age X'\n",
    "\n",
    "# Example 2\n",
    "r11=re.sub(r'\\s+', '-', \"This   is   text\")                 # ➜ 'This-is-text'\n",
    "\n",
    "# Example 3\n",
    "r12=re.sub(r'apple', 'banana', \"apple pie is good\")         # ➜ 'banana pie is good'\n",
    "\n",
    "# Example 4\n",
    "r13=re.sub(r'[^\\w\\s]', '', \"Hello! Are you #1?\")            # ➜ 'Hello Are you 1'\n",
    "\n",
    "# Example 5\n",
    "r14=re.sub(r'(Mr|Mrs|Ms)\\.', '', \"Mr. John, Ms. Smith\")     # ➜ ' John,  Smith'\n",
    "#[r10,r11,r12,r13,r14]\n",
    "r14\n",
    "\n"
   ]
  },
  {
   "cell_type": "code",
   "execution_count": null,
   "metadata": {},
   "outputs": [],
   "source": []
  },
  {
   "cell_type": "code",
   "execution_count": null,
   "metadata": {},
   "outputs": [],
   "source": []
  },
  {
   "cell_type": "code",
   "execution_count": null,
   "metadata": {},
   "outputs": [],
   "source": []
  },
  {
   "cell_type": "code",
   "execution_count": null,
   "metadata": {},
   "outputs": [],
   "source": []
  },
  {
   "cell_type": "code",
   "execution_count": 15,
   "metadata": {},
   "outputs": [
    {
     "data": {
      "text/plain": [
       "['Hello', '2023', 'Title', 'This is a full line', 'Python']"
      ]
     },
     "execution_count": 15,
     "metadata": {},
     "output_type": "execute_result"
    }
   ],
   "source": [
    "# Example 1\n",
    "r15=re.match(r'Hello', \"Hello World!\")                      # ➜ Match for 'Hello'\n",
    "\n",
    "# Example 2\n",
    "r16=re.match(r'\\d+', \"2023 is the year\")                    # ➜ Match for '2023'\n",
    "\n",
    "# Example 3\n",
    "r17=re.match(r'[A-Z]\\w+', \"Title Case sentence\")            # ➜ Match for 'Title'\n",
    "\n",
    "# Example 4\n",
    "r18=re.match(r'.*', \"This is a full line\")                  # ➜ Match for entire string\n",
    "\n",
    "# Example 5\n",
    "r19=re.match(r'Python', \"Python is great\")                  # ➜ Match for 'Python'\n",
    "[r15.group(),r16.group(),r17.group(),r18.group(),r19.group()]"
   ]
  },
  {
   "cell_type": "code",
   "execution_count": 17,
   "metadata": {},
   "outputs": [
    {
     "data": {
      "text/plain": [
       "'Hello World 2025'"
      ]
     },
     "execution_count": 17,
     "metadata": {},
     "output_type": "execute_result"
    }
   ],
   "source": [
    "import re\n",
    "text = \"Hello@# World!! 2025.\"\n",
    "cleaned = re.sub(r'[^\\w\\s]', '', text)\n",
    "cleaned\n",
    "# Output: 'Hello World 2025'\n"
   ]
  },
  {
   "cell_type": "code",
   "execution_count": 19,
   "metadata": {},
   "outputs": [
    {
     "data": {
      "text/plain": [
       "'This is a sentence with irregular spacing.'"
      ]
     },
     "execution_count": 19,
     "metadata": {},
     "output_type": "execute_result"
    }
   ],
   "source": [
    "text = \"This   is\\n a          sentence\\twith  irregular spacing.\"\n",
    "cleaned = re.sub(r'\\s+', ' ', text).strip()\n",
    "# Output: 'This is a sentence with irregular spacing.'\n",
    "cleaned"
   ]
  },
  {
   "cell_type": "code",
   "execution_count": 20,
   "metadata": {},
   "outputs": [
    {
     "data": {
      "text/plain": [
       "'Hello World'"
      ]
     },
     "execution_count": 20,
     "metadata": {},
     "output_type": "execute_result"
    }
   ],
   "source": [
    "text = \"<div>Hello <b>World</b></div>\"\n",
    "cleaned = re.sub(r'<.*?>', '', text)\n",
    "# Output: 'Hello World'\n",
    "cleaned"
   ]
  },
  {
   "cell_type": "code",
   "execution_count": 22,
   "metadata": {},
   "outputs": [
    {
     "data": {
      "text/plain": [
       "['5000', '12', '04', '2025']"
      ]
     },
     "execution_count": 22,
     "metadata": {},
     "output_type": "execute_result"
    }
   ],
   "source": [
    "text = \"Total amount: Rs 5000 on 12-04-2025\"\n",
    "digits = re.findall(r'\\d+', text)\n",
    "digits"
   ]
  },
  {
   "cell_type": "code",
   "execution_count": 27,
   "metadata": {},
   "outputs": [
    {
     "data": {
      "text/plain": [
       "'Contact us at  or    dc-text'"
      ]
     },
     "execution_count": 27,
     "metadata": {},
     "output_type": "execute_result"
    }
   ],
   "source": [
    "text = \"Contact us at test@example.com or support@site.org  abc@t.main dc-text\"\n",
    "cleaned = re.sub(r'\\b[\\w.-]+@[\\w.-]+\\.\\w+\\b', '', text)\n",
    "cleaned\n"
   ]
  },
  {
   "cell_type": "code",
   "execution_count": 28,
   "metadata": {},
   "outputs": [
    {
     "data": {
      "text/plain": [
       "' - '"
      ]
     },
     "execution_count": 28,
     "metadata": {},
     "output_type": "execute_result"
    }
   ],
   "source": [
    "text = \"By Raman Devgan - Updated: 07 Nov 2024\"\n",
    "cleaned = re.sub(r'(By Raman Devgan|Updated: .*?\\d{4})', '', text)\n",
    "cleaned"
   ]
  },
  {
   "cell_type": "code",
   "execution_count": 29,
   "metadata": {},
   "outputs": [
    {
     "data": {
      "text/plain": [
       "'Data with  unwanted  symbols'"
      ]
     },
     "execution_count": 29,
     "metadata": {},
     "output_type": "execute_result"
    }
   ],
   "source": [
    "text = \"Data123 with $% unwanted 456 symbols\"\n",
    "cleaned = re.sub(r'[^a-zA-Z\\s]', '', text)\n",
    "cleaned\n",
    "# Output: 'Data with  unwanted  symbols'\n"
   ]
  },
  {
   "cell_type": "code",
   "execution_count": null,
   "metadata": {},
   "outputs": [],
   "source": []
  }
 ],
 "metadata": {
  "kernelspec": {
   "display_name": ".venv",
   "language": "python",
   "name": "python3"
  },
  "language_info": {
   "codemirror_mode": {
    "name": "ipython",
    "version": 3
   },
   "file_extension": ".py",
   "mimetype": "text/x-python",
   "name": "python",
   "nbconvert_exporter": "python",
   "pygments_lexer": "ipython3",
   "version": "3.12.0"
  }
 },
 "nbformat": 4,
 "nbformat_minor": 2
}
