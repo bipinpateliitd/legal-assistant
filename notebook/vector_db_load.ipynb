{
 "cells": [
  {
   "cell_type": "code",
   "execution_count": 25,
   "id": "a767b497",
   "metadata": {},
   "outputs": [],
   "source": [
    "\n",
    "from langchain_chroma import Chroma\n",
    "from langchain_openai import OpenAIEmbeddings\n",
    "from dotenv import load_dotenv\n",
    "load_dotenv()\n",
    "embedding_model = \"text-embedding-3-large\"\n",
    "persist_directory = \"/home/bipin/Documents/projects/legal_assistant/db/bns_sections_chroma\""
   ]
  },
  {
   "cell_type": "code",
   "execution_count": 26,
   "id": "412e71cf",
   "metadata": {},
   "outputs": [],
   "source": [
    "embeddings = OpenAIEmbeddings(model=embedding_model)\n",
    "vectordb = Chroma(\n",
    "    persist_directory=persist_directory,\n",
    "    embedding_function=embeddings,\n",
    "    collection_name=\"bns_sections\",\n",
    ")"
   ]
  },
  {
   "cell_type": "code",
   "execution_count": 29,
   "id": "a97257fe",
   "metadata": {},
   "outputs": [],
   "source": [
    "query =\"rape\"\n",
    "results = vectordb.similarity_search_with_score(query)\n",
    "\n"
   ]
  },
  {
   "cell_type": "code",
   "execution_count": 30,
   "id": "fada1fe8",
   "metadata": {},
   "outputs": [
    {
     "data": {
      "text/plain": [
       "[(Document(id='6ccadf74-d767-4fb2-92b4-d7096ced5d0d', metadata={'description': 'B.N.S 63, Rape.', 'keywords': 'consent, rape, penetration, victim, offense, sexual act, witness, evidence, culpability, criminal intent, offender, jurisdiction, procedure, investigation, charge, trial, punishment, defense, culpable', 'sections': 63, 'source': '/home/bipin/Documents/projects/legal_assistant/data/sections/bns_section_63.txt', 'title': 'BNS Section 63 - Rape.'}, page_content='BNS Section 63 A man is said to commit “rape” if he: penetrates his penis, to any extent, into the vagina, mouth, urethra or anus of a woman or makes her to do so with him or any other person; or inserts, to any extent, any object or a part of the body, not being the penis, into the vagina, the urethra or anus of a woman or makes her to do so with him or any other person; or manipulates any part of the body of a woman so as to cause penetration into the vagina, urethra, anus or any part of body of such woman or makes her to do so with him or any other person; or applies his mouth to the vagina, anus, urethra of a woman or makes her to do so with him or any other person, under the circumstances falling under any of the following seven descriptions: against her will. without her consent. with her consent, when her consent has been obtained by putting her or any person in whom she is'),\n",
       "  1.1263759136199951),\n",
       " (Document(id='3f4c383f-f848-4c4c-8854-f2f27132f0e1', metadata={'description': 'B.N.S 63, Rape.', 'keywords': 'consent, rape, penetration, victim, offense, sexual act, witness, evidence, culpability, criminal intent, offender, jurisdiction, procedure, investigation, charge, trial, punishment, defense, culpable', 'sections': 63, 'source': '/home/bipin/Documents/projects/legal_assistant/data/sections/bns_section_63.txt', 'title': 'BNS Section 63 - Rape.'}, page_content='any of the following seven descriptions: against her will. without her consent. with her consent, when her consent has been obtained by putting her or any person in whom she is interested, in fear of death or of hurt. with her consent, when the man knows that he is not her husband and that her consent is given because she believes that he is another man to whom she is or believes herself to be lawfully married. with her consent when, at the time of giving such consent, by reason of mental illness or intoxication or the administration by him personally or through another of any stupefying or unwholesome substance, she is unable to understand the nature and consequences of that to which she gives consent. with or without her consent, when she is under eighteen years of age. when she is unable to communicate consent. Explanation 1: For the purposes of this section, “vagina” shall also'),\n",
       "  1.1389929056167603),\n",
       " (Document(id='c14eec32-e121-43b8-b512-7b57e78a929f', metadata={'description': 'B.N.S 64, Punishment for rape.', 'keywords': 'rape, imprisonment, police, officer, custody, section, fine, jail, remand, case, station, inmate, guardian, authority, violence, consent, disability, harm, management', 'sections': 64, 'source': '/home/bipin/Documents/projects/legal_assistant/data/sections/bns_section_64.txt', 'title': 'BNS Section 64 - Punishment for rape.'}, page_content='public servant; or being a member of the armed forces deployed in an area by the Central Government or a State Government commits rape in such area; or being on the management or on the staff of a jail, remand home or other place of custody established by or under any law for the time being in force or of a women’s or children’s institution, commits rape on any inmate of such jail, remand home, place or institution; or being on the management or on the staff of a hospital, commits rape on a woman in that hospital; or being a relative, guardian or teacher of, or a person in a position of trust or authority towards the woman, commits rape on such woman; or commits rape during communal or sectarian violence; or commits rape on a woman knowing her to be pregnant; or commits rape, on a woman incapable of giving consent; or being in a position of control or dominance over a woman, commits'),\n",
       "  1.1447306871414185),\n",
       " (Document(id='01619e26-8b7a-4df0-a7e6-06f363ae89c9', metadata={'description': 'B.N.S 63, Rape.', 'keywords': 'consent, rape, penetration, victim, offense, sexual act, witness, evidence, culpability, criminal intent, offender, jurisdiction, procedure, investigation, charge, trial, punishment, defense, culpable', 'sections': 63, 'source': '/home/bipin/Documents/projects/legal_assistant/data/sections/bns_section_63.txt', 'title': 'BNS Section 63 - Rape.'}, page_content='or without her consent, when she is under eighteen years of age. when she is unable to communicate consent. Explanation 1: For the purposes of this section, “vagina” shall also include labia majora. Explanation 2: Consent means an unequivocal voluntary agreement when the woman by words, gestures or any form of verbal or non-verbal communication, communicates willingness to participate in the specific sexual act; Provided that a woman who does not physically resist to the act of penetration shall not by the reason only of that fact, be regarded as consenting to the sexual activity. Exception 1: A medical procedure or intervention shall not constitute rape. Exception 2: Sexual intercourse or sexual acts by a man with his own wife, the wife not being under eighteen years of age, is not rape.'),\n",
       "  1.1735931634902954)]"
      ]
     },
     "execution_count": 30,
     "metadata": {},
     "output_type": "execute_result"
    }
   ],
   "source": [
    "results"
   ]
  },
  {
   "cell_type": "code",
   "execution_count": 24,
   "id": "bf8d2f53",
   "metadata": {},
   "outputs": [
    {
     "data": {
      "text/plain": [
       "{'description': 'B.N.S 63, Rape.',\n",
       " 'keywords': 'consent, rape, penetration, victim, offense, sexual act, witness, evidence, culpability, criminal intent, offender, jurisdiction, procedure, investigation, charge, trial, punishment, defense, culpable',\n",
       " 'sections': 63,\n",
       " 'source': '/home/bipin/Documents/projects/legal_assistant/data/sections/bns_section_63.txt',\n",
       " 'title': 'BNS Section 63 - Rape.'}"
      ]
     },
     "execution_count": 24,
     "metadata": {},
     "output_type": "execute_result"
    }
   ],
   "source": [
    "result[0].metadata"
   ]
  },
  {
   "cell_type": "code",
   "execution_count": null,
   "id": "a5198edd",
   "metadata": {},
   "outputs": [],
   "source": [
    "if \"rape\" in result[0].metadata[]"
   ]
  }
 ],
 "metadata": {
  "kernelspec": {
   "display_name": ".venv",
   "language": "python",
   "name": "python3"
  },
  "language_info": {
   "codemirror_mode": {
    "name": "ipython",
    "version": 3
   },
   "file_extension": ".py",
   "mimetype": "text/x-python",
   "name": "python",
   "nbconvert_exporter": "python",
   "pygments_lexer": "ipython3",
   "version": "3.12.0"
  }
 },
 "nbformat": 4,
 "nbformat_minor": 5
}
